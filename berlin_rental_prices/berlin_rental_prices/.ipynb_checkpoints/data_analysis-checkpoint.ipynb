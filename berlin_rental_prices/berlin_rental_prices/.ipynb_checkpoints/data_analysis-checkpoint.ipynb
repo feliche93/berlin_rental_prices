{
 "cells": [
  {
   "cell_type": "code",
   "execution_count": 31,
   "metadata": {},
   "outputs": [],
   "source": [
    "import pandas as pd\n",
    "import numpy as np"
   ]
  },
  {
   "cell_type": "code",
   "execution_count": 32,
   "metadata": {},
   "outputs": [],
   "source": [
    "data = pd.read_csv('flats_berlin.csv')"
   ]
  },
  {
   "cell_type": "markdown",
   "metadata": {},
   "source": [
    "## Data Check"
   ]
  },
  {
   "cell_type": "markdown",
   "metadata": {},
   "source": [
    "### Check for duplicated rows"
   ]
  },
  {
   "cell_type": "code",
   "execution_count": 33,
   "metadata": {},
   "outputs": [
    {
     "data": {
      "text/html": [
       "<div>\n",
       "<style scoped>\n",
       "    .dataframe tbody tr th:only-of-type {\n",
       "        vertical-align: middle;\n",
       "    }\n",
       "\n",
       "    .dataframe tbody tr th {\n",
       "        vertical-align: top;\n",
       "    }\n",
       "\n",
       "    .dataframe thead th {\n",
       "        text-align: right;\n",
       "    }\n",
       "</style>\n",
       "<table border=\"1\" class=\"dataframe\">\n",
       "  <thead>\n",
       "    <tr style=\"text-align: right;\">\n",
       "      <th></th>\n",
       "      <th>Titel</th>\n",
       "      <th>Url</th>\n",
       "      <th>Kaltmiete</th>\n",
       "      <th>Nebenkosten</th>\n",
       "      <th>Heizkosten</th>\n",
       "      <th>Gesamtmiete</th>\n",
       "      <th>Kaution o. Genossenschaftsanteile</th>\n",
       "      <th>Etage</th>\n",
       "      <th>Wohnfläche ca.</th>\n",
       "      <th>Zimmer</th>\n",
       "      <th>...</th>\n",
       "      <th>Baujahr</th>\n",
       "      <th>Modernisierung/ Sanierung</th>\n",
       "      <th>Objektzustand</th>\n",
       "      <th>Heizungsart</th>\n",
       "      <th>Wesentliche Energieträger</th>\n",
       "      <th>Energieausweis</th>\n",
       "      <th>Energieausweistyp</th>\n",
       "      <th>Energieverbrauchskennwert</th>\n",
       "      <th>Anbieter</th>\n",
       "      <th>Adreese</th>\n",
       "    </tr>\n",
       "  </thead>\n",
       "  <tbody>\n",
       "  </tbody>\n",
       "</table>\n",
       "<p>0 rows × 24 columns</p>\n",
       "</div>"
      ],
      "text/plain": [
       "Empty DataFrame\n",
       "Columns: [Titel, Url, Kaltmiete, Nebenkosten, Heizkosten, Gesamtmiete, Kaution o. Genossenschaftsanteile, Etage, Wohnfläche ca., Zimmer, Schlafzimmer, Badezimmer, Personenaufzug, Einbauküche, Baujahr, Modernisierung/ Sanierung, Objektzustand, Heizungsart, Wesentliche Energieträger, Energieausweis, Energieausweistyp, Energieverbrauchskennwert, Anbieter, Adreese]\n",
       "Index: []\n",
       "\n",
       "[0 rows x 24 columns]"
      ]
     },
     "execution_count": 33,
     "metadata": {},
     "output_type": "execute_result"
    }
   ],
   "source": [
    "data[data.duplicated()]"
   ]
  },
  {
   "cell_type": "markdown",
   "metadata": {},
   "source": [
    "### Check percentage of missing values"
   ]
  },
  {
   "cell_type": "code",
   "execution_count": 34,
   "metadata": {},
   "outputs": [
    {
     "data": {
      "text/plain": [
       "Titel                                0.000000\n",
       "Url                                  0.000000\n",
       "Kaltmiete                            0.000000\n",
       "Nebenkosten                          0.000000\n",
       "Heizkosten                           0.000000\n",
       "Gesamtmiete                          0.000000\n",
       "Kaution o. Genossenschaftsanteile    0.073649\n",
       "Etage                                0.105405\n",
       "Wohnfläche ca.                       0.000000\n",
       "Zimmer                               0.000000\n",
       "Schlafzimmer                         0.427365\n",
       "Badezimmer                           0.271959\n",
       "Personenaufzug                       0.476014\n",
       "Einbauküche                          0.359797\n",
       "Baujahr                              0.121959\n",
       "Modernisierung/ Sanierung            0.698649\n",
       "Objektzustand                        0.226014\n",
       "Heizungsart                          0.151351\n",
       "Wesentliche Energieträger            0.232770\n",
       "Energieausweis                       0.284797\n",
       "Energieausweistyp                    0.314189\n",
       "Energieverbrauchskennwert            0.841892\n",
       "Anbieter                             0.118243\n",
       "Adreese                              0.000000\n",
       "dtype: float64"
      ]
     },
     "execution_count": 34,
     "metadata": {},
     "output_type": "execute_result"
    }
   ],
   "source": [
    "data.isna().mean()"
   ]
  },
  {
   "cell_type": "code",
   "execution_count": 35,
   "metadata": {},
   "outputs": [
    {
     "name": "stdout",
     "output_type": "stream",
     "text": [
      "<class 'pandas.core.frame.DataFrame'>\n",
      "RangeIndex: 2960 entries, 0 to 2959\n",
      "Data columns (total 24 columns):\n",
      "Titel                                2960 non-null object\n",
      "Url                                  2960 non-null object\n",
      "Kaltmiete                            2960 non-null object\n",
      "Nebenkosten                          2960 non-null object\n",
      "Heizkosten                           2960 non-null object\n",
      "Gesamtmiete                          2960 non-null object\n",
      "Kaution o. Genossenschaftsanteile    2742 non-null object\n",
      "Etage                                2648 non-null object\n",
      "Wohnfläche ca.                       2960 non-null object\n",
      "Zimmer                               2960 non-null object\n",
      "Schlafzimmer                         1695 non-null float64\n",
      "Badezimmer                           2155 non-null float64\n",
      "Personenaufzug                       1551 non-null object\n",
      "Einbauküche                          1895 non-null object\n",
      "Baujahr                              2599 non-null object\n",
      "Modernisierung/ Sanierung            892 non-null object\n",
      "Objektzustand                        2291 non-null object\n",
      "Heizungsart                          2512 non-null object\n",
      "Wesentliche Energieträger            2271 non-null object\n",
      "Energieausweis                       2117 non-null object\n",
      "Energieausweistyp                    2030 non-null object\n",
      "Energieverbrauchskennwert            468 non-null object\n",
      "Anbieter                             2610 non-null object\n",
      "Adreese                              2960 non-null object\n",
      "dtypes: float64(2), object(22)\n",
      "memory usage: 555.1+ KB\n"
     ]
    }
   ],
   "source": [
    "data.info()"
   ]
  },
  {
   "cell_type": "markdown",
   "metadata": {},
   "source": [
    "## Data Transformation\n",
    "\n",
    "Showcasing of different methods how data can be manipulated:\n",
    "\n",
    "- str.replace\n",
    "- .replace with regex\n",
    "- loc selection and assignment\n",
    "- custom functions\n",
    "- lambda functions"
   ]
  },
  {
   "cell_type": "code",
   "execution_count": 36,
   "metadata": {},
   "outputs": [],
   "source": [
    "data['Kaltmiete'] = pd.to_numeric(data['Kaltmiete'].str.replace('.','').str.replace(',','.').str.replace(' €',''))"
   ]
  },
  {
   "cell_type": "code",
   "execution_count": 37,
   "metadata": {},
   "outputs": [],
   "source": [
    "data['Nebenkosten'] = data['Nebenkosten'].str.replace('.','').str.replace(',','.').str.replace(' €','')\n",
    "data.loc[data['Nebenkosten'] == 'keine Angabe', 'Nebenkosten' ] = np.nan\n",
    "data['Nebenkosten'] = pd.to_numeric(data['Nebenkosten'])"
   ]
  },
  {
   "cell_type": "code",
   "execution_count": 38,
   "metadata": {},
   "outputs": [],
   "source": [
    "def transform_heizkosten(x):\n",
    "    x = x.replace('.','').replace(',','.').replace(' €','')\n",
    "    if x == 'in Nebenkosten enthalten' or 'inkl' in x:\n",
    "        x = 0\n",
    "    elif x == 'nicht in Nebenkosten enthalten' or x == 'keine Angabe':\n",
    "        x = np.nan\n",
    "    else:\n",
    "        x\n",
    "    return x\n",
    "\n",
    "data['Heizkosten'] = pd.to_numeric(data['Heizkosten'].apply(transform_heizkosten))"
   ]
  },
  {
   "cell_type": "code",
   "execution_count": 39,
   "metadata": {},
   "outputs": [],
   "source": [
    "data['Gesamtmiete'] = data['Gesamtmiete'].replace({r\" €\":\"\", r\"\\.\":\"\"},regex=True).replace({r\"\\,\":\".\"},regex=True)\n",
    "data['Gesamtmiete'] = pd.to_numeric(data['Gesamtmiete'].replace(to_replace=[r\" \\(zzgl Nebenkosten & Heizkosten\\)\",\n",
    "                                                     r\" \\(zzgl Heizkosten\\)\",\n",
    "                                                     r\" \\(zzgl Nebenkosten\\)\"],value='',regex=True))"
   ]
  },
  {
   "cell_type": "code",
   "execution_count": 40,
   "metadata": {},
   "outputs": [],
   "source": [
    "data['Wohnfläche ca.'] = pd.to_numeric(\n",
    "    data['Wohnfläche ca.'].apply(lambda string: string.replace(' m²','').replace('.','').replace(',','.')))"
   ]
  },
  {
   "cell_type": "code",
   "execution_count": 41,
   "metadata": {},
   "outputs": [],
   "source": [
    "data['Kaution o. Genossenschaftsanteile'] = data['Kaution o. Genossenschaftsanteile'].replace(to_replace= [r\" EUR\",r\" \\€\", r\"\\.\",r\"\\€\"],\n",
    "                                                  value= '',\n",
    "                                                  regex=True).replace().replace('\\,','.',regex=True)"
   ]
  },
  {
   "cell_type": "code",
   "execution_count": 42,
   "metadata": {},
   "outputs": [
    {
     "data": {
      "text/plain": [
       "2747            zwei Nettokaltmieten\n",
       "1792                            nein\n",
       "1323                  nach Absprache\n",
       "2514                        entfällt\n",
       "765             drei Nettokaltmieten\n",
       "                    ...             \n",
       "2712    Kaution: 3 Netto-Kalt-Mieten\n",
       "1384    Kaution: 3 Netto-Kalt-Mieten\n",
       "2653    Kaution: 3 Netto-Kalt-Mieten\n",
       "2652    Kaution: 3 Netto-Kalt-Mieten\n",
       "1491    Kaution: 3 Netto-Kalt-Mieten\n",
       "Name: Kaution o. Genossenschaftsanteile, Length: 100, dtype: object"
      ]
     },
     "execution_count": 42,
     "metadata": {},
     "output_type": "execute_result"
    }
   ],
   "source": [
    "# To be further transformed if necessary\n",
    "data['Kaution o. Genossenschaftsanteile'].sort_values(ascending=False).head(100)"
   ]
  },
  {
   "cell_type": "code",
   "execution_count": 43,
   "metadata": {},
   "outputs": [],
   "source": [
    "data['Baujahr'] = pd.to_numeric(data['Baujahr'].replace(\"unbekannt\",''))"
   ]
  },
  {
   "cell_type": "code",
   "execution_count": 44,
   "metadata": {},
   "outputs": [],
   "source": [
    "data['Modernisierung/ Sanierung'] = pd.to_numeric(data['Modernisierung/ Sanierung'].replace(r\"zuletzt \",'',regex=True))"
   ]
  },
  {
   "cell_type": "code",
   "execution_count": 45,
   "metadata": {},
   "outputs": [],
   "source": [
    "data[\"Energieverbrauchskennwert\"] = pd.to_numeric(data[\"Energieverbrauchskennwert\"].replace(r\" kWh/\\(m\\²\\*a\\)\",\"\",regex=True).replace(r\"\\.\",\"\",regex=True).replace(r\"\\,\",\".\",regex=True))"
   ]
  },
  {
   "cell_type": "code",
   "execution_count": 46,
   "metadata": {},
   "outputs": [],
   "source": [
    "# Correcting small spelling mistake\n",
    "data.rename(columns={'Adreese':'Adresse'},inplace=True)"
   ]
  },
  {
   "cell_type": "code",
   "execution_count": 47,
   "metadata": {},
   "outputs": [],
   "source": [
    "def split_address(x):\n",
    "    address_list = x.split(',')\n",
    "    length = len(address_list)\n",
    "    street = np.nan\n",
    "    zip_code = np.nan\n",
    "    kiez = np.nan\n",
    "    if length == 3:\n",
    "        street = address_list[0].strip()\n",
    "        zip_code = address_list[1].strip()\n",
    "        kiez = address_list[2].strip()\n",
    "        #return street, zip_code, kiez\n",
    "    if length == 2:\n",
    "        street = np.nan\n",
    "        zip_code = address_list[0].strip()\n",
    "        kiez = address_list[1].strip()\n",
    "        kiez = kiez.replace(' Die vollständige Adresse der Immobilie erhalten Sie vom Anbieter.','').strip()\n",
    "    \n",
    "    return street, zip_code, kiez\n",
    "\n",
    "address = pd.DataFrame.from_records(data['Adresse'].apply(split_address)).rename(columns={0:'Street',1:'PLZ',2:'Kiez'})\n",
    "data = data.join(address)"
   ]
  },
  {
   "cell_type": "markdown",
   "metadata": {},
   "source": [
    "## Feature Engineering"
   ]
  },
  {
   "cell_type": "code",
   "execution_count": 48,
   "metadata": {},
   "outputs": [],
   "source": [
    "data['Kaltmiete pro m²'] = data['Kaltmiete']/data['Wohnfläche ca.']"
   ]
  },
  {
   "cell_type": "code",
   "execution_count": 49,
   "metadata": {},
   "outputs": [
    {
     "data": {
      "text/plain": [
       "'\\nErstmalige Bezugsfertigkeit der Wohnung und Ausstattung\\tMietpreis pro Quadratmeter\\nbis 1918 mit Sammelheizung und mit Bad\\t6,45 Euro\\nbis 1918 mit Sammelheizung oder mit Bad\\t5,00 Euro\\nbis 1918 ohne Sammelheizung und ohne Bad\\t3,92 Euro\\n1919 bis 1949 mit Sammelheizung und mit Bad\\t6,27 Euro\\n1919 bis 1949 mit Sammelheizung oder mit Bad\\t5,22 Euro\\n1919 bis 1949 ohne Sammelheizung und ohne Bad\\t4,59 Euro\\n1950 bis 1964 mit Sammelheizung und mit Bad\\t6,08 Euro\\n1950 bis 1964 mit Sammelheizung oder mit Bad\\t5,62 Euro\\n1965 bis 1972 mit Sammelheizung und mit Bad\\t5,95 Euro\\n1973 bis 1990 mit Sammelheizung und mit Bad\\t6,04 Euro\\n1991 bis 2002 mit Sammelheizung und mit Bad\\t8,13 Euro\\n2003 bis 2013 mit Sammelheizung und mit Bad\\t9,80 Euro\\n'"
      ]
     },
     "execution_count": 49,
     "metadata": {},
     "output_type": "execute_result"
    }
   ],
   "source": [
    "\"\"\"\n",
    "Erstmalige Bezugsfertigkeit der Wohnung und Ausstattung\tMietpreis pro Quadratmeter\n",
    "bis 1918 mit Sammelheizung und mit Bad\t6,45 Euro\n",
    "bis 1918 mit Sammelheizung oder mit Bad\t5,00 Euro\n",
    "bis 1918 ohne Sammelheizung und ohne Bad\t3,92 Euro\n",
    "1919 bis 1949 mit Sammelheizung und mit Bad\t6,27 Euro\n",
    "1919 bis 1949 mit Sammelheizung oder mit Bad\t5,22 Euro\n",
    "1919 bis 1949 ohne Sammelheizung und ohne Bad\t4,59 Euro\n",
    "1950 bis 1964 mit Sammelheizung und mit Bad\t6,08 Euro\n",
    "1950 bis 1964 mit Sammelheizung oder mit Bad\t5,62 Euro\n",
    "1965 bis 1972 mit Sammelheizung und mit Bad\t5,95 Euro\n",
    "1973 bis 1990 mit Sammelheizung und mit Bad\t6,04 Euro\n",
    "1991 bis 2002 mit Sammelheizung und mit Bad\t8,13 Euro\n",
    "2003 bis 2013 mit Sammelheizung und mit Bad\t9,80 Euro\n",
    "\"\"\""
   ]
  },
  {
   "cell_type": "code",
   "execution_count": 50,
   "metadata": {},
   "outputs": [],
   "source": [
    "rental_ceiling_info = {\n",
    "    'min_year': [1918, 1918, 1918, 1919, 1919, 1919, 1950, 1950, 1965, 1973, 1991, 2003 ],\n",
    "    'max_year': [1918, 1918, 1918, 1949, 1949, 1949, 1964, 1964, 1972, 1990, 2002, 2013 ],\n",
    "    'sammelheizung' : [True, True, False, True, True, False, True, True, True, True, True, True],\n",
    "    'bad' : [True, True, False, True, True, False, True, True, True, True, True, True],\n",
    "    'condition': ['and', 'or', 'and', 'and', 'or', 'and', 'and', 'or', 'and', 'and', 'and', 'and'],\n",
    "    'price_per_square_meter' : [6.45, 5.00, 3.92, 6.27, 5.22, 4.59, 6.08, 5.62, 5.95, 6.04, 8.13, 9.8]\n",
    "}"
   ]
  },
  {
   "cell_type": "code",
   "execution_count": 51,
   "metadata": {},
   "outputs": [
    {
     "data": {
      "text/plain": [
       "12"
      ]
     },
     "execution_count": 51,
     "metadata": {},
     "output_type": "execute_result"
    }
   ],
   "source": [
    "len(rental_ceiling_info['price_per_square_meter'])"
   ]
  },
  {
   "cell_type": "code",
   "execution_count": 52,
   "metadata": {},
   "outputs": [],
   "source": [
    "rental_ceiling_info = pd.DataFrame.from_dict(rental_ceiling_info)"
   ]
  },
  {
   "cell_type": "code",
   "execution_count": 53,
   "metadata": {},
   "outputs": [
    {
     "data": {
      "text/html": [
       "<div>\n",
       "<style scoped>\n",
       "    .dataframe tbody tr th:only-of-type {\n",
       "        vertical-align: middle;\n",
       "    }\n",
       "\n",
       "    .dataframe tbody tr th {\n",
       "        vertical-align: top;\n",
       "    }\n",
       "\n",
       "    .dataframe thead th {\n",
       "        text-align: right;\n",
       "    }\n",
       "</style>\n",
       "<table border=\"1\" class=\"dataframe\">\n",
       "  <thead>\n",
       "    <tr style=\"text-align: right;\">\n",
       "      <th></th>\n",
       "      <th>min_year</th>\n",
       "      <th>max_year</th>\n",
       "      <th>sammelheizung</th>\n",
       "      <th>bad</th>\n",
       "      <th>condition</th>\n",
       "      <th>price_per_square_meter</th>\n",
       "    </tr>\n",
       "  </thead>\n",
       "  <tbody>\n",
       "    <tr>\n",
       "      <th>0</th>\n",
       "      <td>1918</td>\n",
       "      <td>1918</td>\n",
       "      <td>True</td>\n",
       "      <td>True</td>\n",
       "      <td>and</td>\n",
       "      <td>6.45</td>\n",
       "    </tr>\n",
       "    <tr>\n",
       "      <th>1</th>\n",
       "      <td>1918</td>\n",
       "      <td>1918</td>\n",
       "      <td>True</td>\n",
       "      <td>True</td>\n",
       "      <td>or</td>\n",
       "      <td>5.00</td>\n",
       "    </tr>\n",
       "    <tr>\n",
       "      <th>2</th>\n",
       "      <td>1918</td>\n",
       "      <td>1918</td>\n",
       "      <td>False</td>\n",
       "      <td>False</td>\n",
       "      <td>and</td>\n",
       "      <td>3.92</td>\n",
       "    </tr>\n",
       "    <tr>\n",
       "      <th>3</th>\n",
       "      <td>1919</td>\n",
       "      <td>1949</td>\n",
       "      <td>True</td>\n",
       "      <td>True</td>\n",
       "      <td>and</td>\n",
       "      <td>6.27</td>\n",
       "    </tr>\n",
       "    <tr>\n",
       "      <th>4</th>\n",
       "      <td>1919</td>\n",
       "      <td>1949</td>\n",
       "      <td>True</td>\n",
       "      <td>True</td>\n",
       "      <td>or</td>\n",
       "      <td>5.22</td>\n",
       "    </tr>\n",
       "    <tr>\n",
       "      <th>5</th>\n",
       "      <td>1919</td>\n",
       "      <td>1949</td>\n",
       "      <td>False</td>\n",
       "      <td>False</td>\n",
       "      <td>and</td>\n",
       "      <td>4.59</td>\n",
       "    </tr>\n",
       "    <tr>\n",
       "      <th>6</th>\n",
       "      <td>1950</td>\n",
       "      <td>1964</td>\n",
       "      <td>True</td>\n",
       "      <td>True</td>\n",
       "      <td>and</td>\n",
       "      <td>6.08</td>\n",
       "    </tr>\n",
       "    <tr>\n",
       "      <th>7</th>\n",
       "      <td>1950</td>\n",
       "      <td>1964</td>\n",
       "      <td>True</td>\n",
       "      <td>True</td>\n",
       "      <td>or</td>\n",
       "      <td>5.62</td>\n",
       "    </tr>\n",
       "    <tr>\n",
       "      <th>8</th>\n",
       "      <td>1965</td>\n",
       "      <td>1972</td>\n",
       "      <td>True</td>\n",
       "      <td>True</td>\n",
       "      <td>and</td>\n",
       "      <td>5.95</td>\n",
       "    </tr>\n",
       "    <tr>\n",
       "      <th>9</th>\n",
       "      <td>1973</td>\n",
       "      <td>1990</td>\n",
       "      <td>True</td>\n",
       "      <td>True</td>\n",
       "      <td>and</td>\n",
       "      <td>6.04</td>\n",
       "    </tr>\n",
       "    <tr>\n",
       "      <th>10</th>\n",
       "      <td>1991</td>\n",
       "      <td>2002</td>\n",
       "      <td>True</td>\n",
       "      <td>True</td>\n",
       "      <td>and</td>\n",
       "      <td>8.13</td>\n",
       "    </tr>\n",
       "    <tr>\n",
       "      <th>11</th>\n",
       "      <td>2003</td>\n",
       "      <td>2013</td>\n",
       "      <td>True</td>\n",
       "      <td>True</td>\n",
       "      <td>and</td>\n",
       "      <td>9.80</td>\n",
       "    </tr>\n",
       "  </tbody>\n",
       "</table>\n",
       "</div>"
      ],
      "text/plain": [
       "    min_year  max_year  sammelheizung    bad condition  price_per_square_meter\n",
       "0       1918      1918           True   True       and                    6.45\n",
       "1       1918      1918           True   True        or                    5.00\n",
       "2       1918      1918          False  False       and                    3.92\n",
       "3       1919      1949           True   True       and                    6.27\n",
       "4       1919      1949           True   True        or                    5.22\n",
       "5       1919      1949          False  False       and                    4.59\n",
       "6       1950      1964           True   True       and                    6.08\n",
       "7       1950      1964           True   True        or                    5.62\n",
       "8       1965      1972           True   True       and                    5.95\n",
       "9       1973      1990           True   True       and                    6.04\n",
       "10      1991      2002           True   True       and                    8.13\n",
       "11      2003      2013           True   True       and                    9.80"
      ]
     },
     "execution_count": 53,
     "metadata": {},
     "output_type": "execute_result"
    }
   ],
   "source": [
    "rental_ceiling_info"
   ]
  },
  {
   "cell_type": "code",
   "execution_count": 54,
   "metadata": {},
   "outputs": [],
   "source": [
    "def find_price_ceiling(df):\n",
    "    if df['Baujahr'] <= 1918:\n",
    "        max_price = 6.45\n",
    "    elif df['Baujahr'] >= 1919 and df['Baujahr'] <= 1949:\n",
    "        max_price = 6.27\n",
    "    elif df['Baujahr'] >= 1950 and df['Baujahr'] <= 1964:\n",
    "        max_price = 6.08\n",
    "    elif df['Baujahr'] >= 1965 and df['Baujahr'] <= 1972:\n",
    "        max_price = 5.95\n",
    "    elif df['Baujahr'] >= 1973 and df['Baujahr'] <= 1990:\n",
    "        max_price = 6.04\n",
    "    elif df['Baujahr'] >= 1991 and df['Baujahr'] <= 2002:\n",
    "        max_price = 8.13\n",
    "    elif df['Baujahr'] >= 2003 and df['Baujahr'] <= 2013:\n",
    "        max_price = 9.80\n",
    "    else:\n",
    "        max_price = np.nan\n",
    "    \n",
    "    return max_price"
   ]
  },
  {
   "cell_type": "code",
   "execution_count": 55,
   "metadata": {},
   "outputs": [],
   "source": [
    "data['Mietendeckel pro Quadratmeter ohne Modernisierung']=  data.apply(find_price_ceiling,axis=1) * 1.2"
   ]
  },
  {
   "cell_type": "code",
   "execution_count": 56,
   "metadata": {},
   "outputs": [],
   "source": [
    "illegal = data[data['Kaltmiete pro m²'] > data['Mietendeckel pro Quadratmeter ohne Modernisierung']]"
   ]
  },
  {
   "cell_type": "code",
   "execution_count": null,
   "metadata": {},
   "outputs": [],
   "source": [
    "illegal.groupby('Anbieter').count().sort_values(by='Titel',ascending=False)"
   ]
  },
  {
   "cell_type": "code",
   "execution_count": null,
   "metadata": {},
   "outputs": [],
   "source": [
    "not_illegal = data[data['Kaltmiete pro m²'] < data['Mietendeckel pro Quadratmeter ohne Modernisierung']]"
   ]
  },
  {
   "cell_type": "code",
   "execution_count": null,
   "metadata": {},
   "outputs": [],
   "source": [
    "not_illegal.groupby('Anbieter').count().sort_values(by='Titel',ascending=False)"
   ]
  },
  {
   "cell_type": "code",
   "execution_count": null,
   "metadata": {},
   "outputs": [],
   "source": []
  }
 ],
 "metadata": {
  "kernelspec": {
   "display_name": "Python 3",
   "language": "python",
   "name": "python3"
  },
  "language_info": {
   "codemirror_mode": {
    "name": "ipython",
    "version": 3
   },
   "file_extension": ".py",
   "mimetype": "text/x-python",
   "name": "python",
   "nbconvert_exporter": "python",
   "pygments_lexer": "ipython3",
   "version": "3.7.3"
  }
 },
 "nbformat": 4,
 "nbformat_minor": 2
}
