{
 "cells": [
  {
   "cell_type": "markdown",
   "metadata": {},
   "source": [
    "# Importing Libraries"
   ]
  },
  {
   "cell_type": "code",
   "execution_count": 1,
   "metadata": {},
   "outputs": [],
   "source": [
    "from IPython.display import Image\n",
    "\n",
    "import pandas as pd\n",
    "import numpy as np\n",
    "\n",
    "# PDF Text extracttion\n",
    "import tabula\n",
    "import re\n",
    "\n",
    "# Matching\n",
    "from fuzzywuzzy import fuzz \n",
    "from fuzzywuzzy import process\n",
    "\n",
    "# Interactive visualisations\n",
    "import os\n",
    "import plotly.express as px\n",
    "from plotly import graph_objects as go\n",
    "import chart_studio\n",
    "import chart_studio.plotly as py"
   ]
  },
  {
   "cell_type": "code",
   "execution_count": 2,
   "metadata": {},
   "outputs": [],
   "source": [
    "data_one = pd.read_csv('flats_berlin_1.csv')\n",
    "data_two = pd.read_csv('flats_berlin_2.csv')\n",
    "data = data_one.append(data_two, sort=True).drop_duplicates(subset='Url')\n",
    "data.reset_index(inplace=True, drop=True)"
   ]
  },
  {
   "cell_type": "code",
   "execution_count": 3,
   "metadata": {},
   "outputs": [
    {
     "name": "stdout",
     "output_type": "stream",
     "text": [
      "<class 'pandas.core.frame.DataFrame'>\n",
      "RangeIndex: 4056 entries, 0 to 4055\n",
      "Data columns (total 29 columns):\n",
      "Adreese                              4056 non-null object\n",
      "Anbieter                             3520 non-null object\n",
      "Ausstattung                          595 non-null object\n",
      "Badezimmer                           2888 non-null float64\n",
      "Balkon/ Terrasse                     791 non-null object\n",
      "Baujahr                              3545 non-null object\n",
      "Bezugsfrei ab                        1039 non-null object\n",
      "Einbauküche                          1895 non-null object\n",
      "Endenergiebedarf                     343 non-null object\n",
      "Energieausweis                       2804 non-null object\n",
      "Energieausweistyp                    2775 non-null object\n",
      "Energieeffizienzklasse               330 non-null object\n",
      "Energieverbrauchskennwert            468 non-null object\n",
      "Etage                                3603 non-null object\n",
      "Gesamtmiete                          4056 non-null object\n",
      "Heizkosten                           4056 non-null object\n",
      "Heizungsart                          3404 non-null object\n",
      "Kaltmiete                            4056 non-null object\n",
      "Kaution o. Genossenschaftsanteile    3763 non-null object\n",
      "Modernisierung/ Sanierung            892 non-null object\n",
      "Nebenkosten                          4056 non-null object\n",
      "Objektzustand                        3078 non-null object\n",
      "Personenaufzug                       1551 non-null object\n",
      "Schlafzimmer                         2212 non-null float64\n",
      "Titel                                4056 non-null object\n",
      "Url                                  4056 non-null object\n",
      "Wesentliche Energieträger            3095 non-null object\n",
      "Wohnfläche ca.                       4056 non-null object\n",
      "Zimmer                               4056 non-null object\n",
      "dtypes: float64(2), object(27)\n",
      "memory usage: 919.1+ KB\n"
     ]
    }
   ],
   "source": [
    "data.info()"
   ]
  },
  {
   "cell_type": "markdown",
   "metadata": {},
   "source": [
    "# Data Check"
   ]
  },
  {
   "cell_type": "markdown",
   "metadata": {},
   "source": [
    "### Check for duplicated rows"
   ]
  },
  {
   "cell_type": "code",
   "execution_count": 4,
   "metadata": {},
   "outputs": [],
   "source": [
    "pd.set_option('display.max_columns', 500)"
   ]
  },
  {
   "cell_type": "code",
   "execution_count": 5,
   "metadata": {},
   "outputs": [
    {
     "data": {
      "text/html": [
       "<div>\n",
       "<style scoped>\n",
       "    .dataframe tbody tr th:only-of-type {\n",
       "        vertical-align: middle;\n",
       "    }\n",
       "\n",
       "    .dataframe tbody tr th {\n",
       "        vertical-align: top;\n",
       "    }\n",
       "\n",
       "    .dataframe thead th {\n",
       "        text-align: right;\n",
       "    }\n",
       "</style>\n",
       "<table border=\"1\" class=\"dataframe\">\n",
       "  <thead>\n",
       "    <tr style=\"text-align: right;\">\n",
       "      <th></th>\n",
       "      <th>Adreese</th>\n",
       "      <th>Anbieter</th>\n",
       "      <th>Ausstattung</th>\n",
       "      <th>Badezimmer</th>\n",
       "      <th>Balkon/ Terrasse</th>\n",
       "      <th>Baujahr</th>\n",
       "      <th>Bezugsfrei ab</th>\n",
       "      <th>Einbauküche</th>\n",
       "      <th>Endenergiebedarf</th>\n",
       "      <th>Energieausweis</th>\n",
       "      <th>Energieausweistyp</th>\n",
       "      <th>Energieeffizienzklasse</th>\n",
       "      <th>Energieverbrauchskennwert</th>\n",
       "      <th>Etage</th>\n",
       "      <th>Gesamtmiete</th>\n",
       "      <th>Heizkosten</th>\n",
       "      <th>Heizungsart</th>\n",
       "      <th>Kaltmiete</th>\n",
       "      <th>Kaution o. Genossenschaftsanteile</th>\n",
       "      <th>Modernisierung/ Sanierung</th>\n",
       "      <th>Nebenkosten</th>\n",
       "      <th>Objektzustand</th>\n",
       "      <th>Personenaufzug</th>\n",
       "      <th>Schlafzimmer</th>\n",
       "      <th>Titel</th>\n",
       "      <th>Url</th>\n",
       "      <th>Wesentliche Energieträger</th>\n",
       "      <th>Wohnfläche ca.</th>\n",
       "      <th>Zimmer</th>\n",
       "    </tr>\n",
       "  </thead>\n",
       "  <tbody>\n",
       "  </tbody>\n",
       "</table>\n",
       "</div>"
      ],
      "text/plain": [
       "Empty DataFrame\n",
       "Columns: [Adreese, Anbieter, Ausstattung, Badezimmer, Balkon/ Terrasse, Baujahr, Bezugsfrei ab, Einbauküche, Endenergiebedarf, Energieausweis, Energieausweistyp, Energieeffizienzklasse, Energieverbrauchskennwert, Etage, Gesamtmiete, Heizkosten, Heizungsart, Kaltmiete, Kaution o. Genossenschaftsanteile, Modernisierung/ Sanierung, Nebenkosten, Objektzustand, Personenaufzug, Schlafzimmer, Titel, Url, Wesentliche Energieträger, Wohnfläche ca., Zimmer]\n",
       "Index: []"
      ]
     },
     "execution_count": 5,
     "metadata": {},
     "output_type": "execute_result"
    }
   ],
   "source": [
    "data[data.duplicated()]"
   ]
  },
  {
   "cell_type": "markdown",
   "metadata": {},
   "source": [
    "### Check percentage of missing values"
   ]
  },
  {
   "cell_type": "code",
   "execution_count": 6,
   "metadata": {},
   "outputs": [
    {
     "data": {
      "text/plain": [
       "Adreese                              0.000000\n",
       "Anbieter                             0.132150\n",
       "Ausstattung                          0.853304\n",
       "Badezimmer                           0.287968\n",
       "Balkon/ Terrasse                     0.804980\n",
       "Baujahr                              0.125986\n",
       "Bezugsfrei ab                        0.743836\n",
       "Einbauküche                          0.532791\n",
       "Endenergiebedarf                     0.915434\n",
       "Energieausweis                       0.308679\n",
       "Energieausweistyp                    0.315828\n",
       "Energieeffizienzklasse               0.918639\n",
       "Energieverbrauchskennwert            0.884615\n",
       "Etage                                0.111686\n",
       "Gesamtmiete                          0.000000\n",
       "Heizkosten                           0.000000\n",
       "Heizungsart                          0.160750\n",
       "Kaltmiete                            0.000000\n",
       "Kaution o. Genossenschaftsanteile    0.072239\n",
       "Modernisierung/ Sanierung            0.780079\n",
       "Nebenkosten                          0.000000\n",
       "Objektzustand                        0.241124\n",
       "Personenaufzug                       0.617604\n",
       "Schlafzimmer                         0.454635\n",
       "Titel                                0.000000\n",
       "Url                                  0.000000\n",
       "Wesentliche Energieträger            0.236933\n",
       "Wohnfläche ca.                       0.000000\n",
       "Zimmer                               0.000000\n",
       "dtype: float64"
      ]
     },
     "execution_count": 6,
     "metadata": {},
     "output_type": "execute_result"
    }
   ],
   "source": [
    "data.isna().mean()"
   ]
  },
  {
   "cell_type": "code",
   "execution_count": 7,
   "metadata": {},
   "outputs": [
    {
     "name": "stdout",
     "output_type": "stream",
     "text": [
      "<class 'pandas.core.frame.DataFrame'>\n",
      "RangeIndex: 4056 entries, 0 to 4055\n",
      "Data columns (total 29 columns):\n",
      "Adreese                              4056 non-null object\n",
      "Anbieter                             3520 non-null object\n",
      "Ausstattung                          595 non-null object\n",
      "Badezimmer                           2888 non-null float64\n",
      "Balkon/ Terrasse                     791 non-null object\n",
      "Baujahr                              3545 non-null object\n",
      "Bezugsfrei ab                        1039 non-null object\n",
      "Einbauküche                          1895 non-null object\n",
      "Endenergiebedarf                     343 non-null object\n",
      "Energieausweis                       2804 non-null object\n",
      "Energieausweistyp                    2775 non-null object\n",
      "Energieeffizienzklasse               330 non-null object\n",
      "Energieverbrauchskennwert            468 non-null object\n",
      "Etage                                3603 non-null object\n",
      "Gesamtmiete                          4056 non-null object\n",
      "Heizkosten                           4056 non-null object\n",
      "Heizungsart                          3404 non-null object\n",
      "Kaltmiete                            4056 non-null object\n",
      "Kaution o. Genossenschaftsanteile    3763 non-null object\n",
      "Modernisierung/ Sanierung            892 non-null object\n",
      "Nebenkosten                          4056 non-null object\n",
      "Objektzustand                        3078 non-null object\n",
      "Personenaufzug                       1551 non-null object\n",
      "Schlafzimmer                         2212 non-null float64\n",
      "Titel                                4056 non-null object\n",
      "Url                                  4056 non-null object\n",
      "Wesentliche Energieträger            3095 non-null object\n",
      "Wohnfläche ca.                       4056 non-null object\n",
      "Zimmer                               4056 non-null object\n",
      "dtypes: float64(2), object(27)\n",
      "memory usage: 919.1+ KB\n"
     ]
    }
   ],
   "source": [
    "data.info()"
   ]
  },
  {
   "cell_type": "markdown",
   "metadata": {},
   "source": [
    "# Data Transformation\n",
    "\n",
    "Showcasing of different methods how data can be manipulated/cleaned up:\n",
    "\n",
    "- str.replace\n",
    "- .replace with regex\n",
    "- loc selection and assignment\n",
    "- custom functions\n",
    "- lambda functions"
   ]
  },
  {
   "cell_type": "code",
   "execution_count": 8,
   "metadata": {},
   "outputs": [],
   "source": [
    "data['Kaltmiete'] = pd.to_numeric(data['Kaltmiete'].str.replace('.','').str.replace(',','.').str.replace(' €',''))"
   ]
  },
  {
   "cell_type": "code",
   "execution_count": 9,
   "metadata": {},
   "outputs": [],
   "source": [
    "data['Nebenkosten'] = data['Nebenkosten'].str.replace('.','').str.replace(',','.').str.replace(' €','')\n",
    "data.loc[data['Nebenkosten'] == 'keine Angabe', 'Nebenkosten' ] = np.nan\n",
    "data['Nebenkosten'] = pd.to_numeric(data['Nebenkosten'])"
   ]
  },
  {
   "cell_type": "code",
   "execution_count": 10,
   "metadata": {},
   "outputs": [],
   "source": [
    "def transform_heizkosten(x):\n",
    "    x = x.replace('.','').replace(',','.').replace(' €','')\n",
    "    if x == 'in Nebenkosten enthalten' or 'inkl' in x:\n",
    "        x = 0\n",
    "    elif x == 'nicht in Nebenkosten enthalten' or x == 'keine Angabe':\n",
    "        x = np.nan\n",
    "    else:\n",
    "        x\n",
    "    return x\n",
    "\n",
    "data['Heizkosten'] = pd.to_numeric(data['Heizkosten'].apply(transform_heizkosten))"
   ]
  },
  {
   "cell_type": "code",
   "execution_count": 11,
   "metadata": {},
   "outputs": [],
   "source": [
    "data['Gesamtmiete'] = data['Gesamtmiete'].replace({r\" €\":\"\", r\"\\.\":\"\"},regex=True).replace({r\"\\,\":\".\"},regex=True)\n",
    "data['Gesamtmiete'] = pd.to_numeric(data['Gesamtmiete'].replace(to_replace=[r\" \\(zzgl Nebenkosten & Heizkosten\\)\",\n",
    "                                                     r\" \\(zzgl Heizkosten\\)\",\n",
    "                                                     r\" \\(zzgl Nebenkosten\\)\"],value='',regex=True))"
   ]
  },
  {
   "cell_type": "code",
   "execution_count": 12,
   "metadata": {},
   "outputs": [],
   "source": [
    "data['Wohnfläche ca.'] = pd.to_numeric(\n",
    "    data['Wohnfläche ca.'].apply(lambda string: string.replace(' m²','').replace('.','').replace(',','.')))"
   ]
  },
  {
   "cell_type": "code",
   "execution_count": 13,
   "metadata": {},
   "outputs": [],
   "source": [
    "data['Kaution o. Genossenschaftsanteile'] = data['Kaution o. Genossenschaftsanteile'].replace(to_replace= [r\" EUR\",r\" \\€\", r\"\\.\",r\"\\€\"],\n",
    "                                                  value= '',\n",
    "                                                  regex=True).replace().replace('\\,','.',regex=True)"
   ]
  },
  {
   "cell_type": "code",
   "execution_count": 14,
   "metadata": {},
   "outputs": [
    {
     "data": {
      "text/plain": [
       "2747    zwei Nettokaltmieten\n",
       "1792                    nein\n",
       "1323          nach Absprache\n",
       "4027                      ja\n",
       "4026                      ja\n",
       "Name: Kaution o. Genossenschaftsanteile, dtype: object"
      ]
     },
     "execution_count": 14,
     "metadata": {},
     "output_type": "execute_result"
    }
   ],
   "source": [
    "# To be further transformed if necessary\n",
    "data['Kaution o. Genossenschaftsanteile'].sort_values(ascending=False).head()"
   ]
  },
  {
   "cell_type": "code",
   "execution_count": 15,
   "metadata": {},
   "outputs": [],
   "source": [
    "data['Baujahr'] = pd.to_numeric(data['Baujahr'].replace(\"unbekannt\",''))"
   ]
  },
  {
   "cell_type": "code",
   "execution_count": 16,
   "metadata": {},
   "outputs": [],
   "source": [
    "data['Modernisierung/ Sanierung'] = pd.to_numeric(data['Modernisierung/ Sanierung'].replace(r\"zuletzt \",'',regex=True))"
   ]
  },
  {
   "cell_type": "code",
   "execution_count": 17,
   "metadata": {},
   "outputs": [],
   "source": [
    "data[\"Energieverbrauchskennwert\"] = pd.to_numeric(data[\"Energieverbrauchskennwert\"].replace(r\" kWh/\\(m\\²\\*a\\)\",\"\",regex=True).replace(r\"\\.\",\"\",regex=True).replace(r\"\\,\",\".\",regex=True))"
   ]
  },
  {
   "cell_type": "code",
   "execution_count": 18,
   "metadata": {},
   "outputs": [],
   "source": [
    "# Correcting small spelling mistake\n",
    "data.rename(columns={'Adreese':'Adresse'},inplace=True)"
   ]
  },
  {
   "cell_type": "code",
   "execution_count": 19,
   "metadata": {},
   "outputs": [],
   "source": [
    "def split_address(x):\n",
    "    address_list = x.split(',')\n",
    "    length = len(address_list)\n",
    "    street = np.nan\n",
    "    zip_code = np.nan\n",
    "    kiez = np.nan\n",
    "    if length == 3:\n",
    "        street = address_list[0].strip()\n",
    "        zip_code = address_list[1].strip()\n",
    "        kiez = address_list[2].strip()\n",
    "        #return street, zip_code, kiez\n",
    "    if length == 2:\n",
    "        street = np.nan\n",
    "        zip_code = address_list[0].strip()\n",
    "        kiez = address_list[1].strip()\n",
    "        kiez = kiez.replace(' Die vollständige Adresse der Immobilie erhalten Sie vom Anbieter.','').strip()\n",
    "    \n",
    "    return street, zip_code, kiez\n",
    "\n",
    "address = pd.DataFrame.from_records(data['Adresse'].apply(split_address)).rename(columns={0:'Straße',1:'PLZ',2:'Kiez'})\n",
    "data = data.join(address)"
   ]
  },
  {
   "cell_type": "code",
   "execution_count": 20,
   "metadata": {},
   "outputs": [],
   "source": [
    "def split_street_house_number(string):\n",
    "    street = np.nan\n",
    "    number = np.nan\n",
    "    \n",
    "    if isinstance(string, str):\n",
    "        match = re.search('\\d{1,5}\\s?\\w*',string)\n",
    "        if match:\n",
    "            street = string[:match.span()[0]].strip()\n",
    "            street = street.replace('Str.','Straße').replace('str.','straße')\n",
    "            number = string[match.span()[0]:match.span()[1]].strip().replace(' ','')\n",
    "    \n",
    "    return pd.Series({'Straße':street, 'Housenumber':number})"
   ]
  },
  {
   "cell_type": "code",
   "execution_count": 21,
   "metadata": {},
   "outputs": [],
   "source": [
    "data[['Straße','Hausnummer']] = data['Straße'].apply(split_street_house_number)"
   ]
  },
  {
   "cell_type": "code",
   "execution_count": 22,
   "metadata": {},
   "outputs": [],
   "source": [
    "data['Hausnummer'] = data['Hausnummer'].str.upper()"
   ]
  },
  {
   "cell_type": "code",
   "execution_count": 23,
   "metadata": {},
   "outputs": [],
   "source": [
    "data['Bezirk'] = data['Kiez'].str.split('(',expand=True)[0].str.strip(')').str.strip()"
   ]
  },
  {
   "cell_type": "code",
   "execution_count": 24,
   "metadata": {},
   "outputs": [],
   "source": [
    "data['Ortsteil'] = data['Kiez'].str.split('(',expand=True)[1].str.strip(')').str.strip()"
   ]
  },
  {
   "cell_type": "code",
   "execution_count": 25,
   "metadata": {},
   "outputs": [],
   "source": [
    "data.drop(columns = 'Kiez',inplace=True)"
   ]
  },
  {
   "cell_type": "code",
   "execution_count": 26,
   "metadata": {},
   "outputs": [
    {
     "data": {
      "text/plain": [
       "0.15212031558185404"
      ]
     },
     "execution_count": 26,
     "metadata": {},
     "output_type": "execute_result"
    }
   ],
   "source": [
    "data['Straße'].isnull().mean()"
   ]
  },
  {
   "cell_type": "markdown",
   "metadata": {},
   "source": [
    "## Feature Engineering"
   ]
  },
  {
   "cell_type": "code",
   "execution_count": 27,
   "metadata": {},
   "outputs": [],
   "source": [
    "data['Kaltmiete pro m²'] = data['Kaltmiete']/data['Wohnfläche ca.']"
   ]
  },
  {
   "cell_type": "markdown",
   "metadata": {},
   "source": [
    "## Location Rating\n",
    "\n",
    "PDF Source: https://www.stadtentwicklung.berlin.de/wohnen/mietspiegel/de/download/Strassenverzeichnis2019.pdf"
   ]
  },
  {
   "cell_type": "markdown",
   "metadata": {},
   "source": [
    "### PDF Extraction with tabula (Part 1: Bezrik, Ortsteil)"
   ]
  },
  {
   "cell_type": "code",
   "execution_count": 28,
   "metadata": {},
   "outputs": [],
   "source": [
    "# Extracting main street information left tables\n",
    "top = 120\n",
    "left = 44\n",
    "height = 666\n",
    "width = 164\n",
    "\n",
    "y1 = top\n",
    "x1 = left\n",
    "y2 = top + height\n",
    "x2 = left + width\n",
    "\n",
    "area=(y1,x1,y2,x2)\n",
    "columns = [44,73,164]\n",
    "\n",
    "abbrevations_one = tabula.read_pdf(\"Strassenverzeichnis2019.pdf\", \n",
    "                     pages='2', \n",
    "                     area=area,\n",
    "                     columns=columns,\n",
    "                     pandas_options={'columns':['Unnamed: 0','Bezirk','Ortsteil','Ortsteil Abkürzung']},\n",
    "                     guess=False)[0]\n",
    "\n",
    "top = 120\n",
    "left = 216\n",
    "height = 666\n",
    "width = 164\n",
    "\n",
    "y1 = top\n",
    "x1 = left\n",
    "y2 = top + height\n",
    "x2 = left + width\n",
    "\n",
    "area=(y1,x1,y2,x2)\n",
    "columns = [216,245,336]\n",
    "\n",
    "abbrevations_two = tabula.read_pdf(\"Strassenverzeichnis2019.pdf\", \n",
    "                     pages='2', \n",
    "                     area=area,\n",
    "                     columns=columns,\n",
    "                     pandas_options={'columns':['Unnamed: 0','Bezirk','Ortsteil','Ortsteil Abkürzung']},\n",
    "                     guess=False)[0]\n",
    "\n",
    "top = 120\n",
    "left = 388\n",
    "height = 6666\n",
    "width = 164\n",
    "\n",
    "y1 = top\n",
    "x1 = left\n",
    "y2 = top + height\n",
    "x2 = left + width\n",
    "\n",
    "area=(y1,x1,y2,x2)\n",
    "columns = [388,418,509]\n",
    "\n",
    "abbrevations_three = tabula.read_pdf(\"Strassenverzeichnis2019.pdf\", \n",
    "                     pages='2', \n",
    "                     area=area,\n",
    "                     columns=columns,\n",
    "                     pandas_options={'columns':['Unnamed: 0','Bezirk','Ortsteil','Ortsteil Abkürzung']},\n",
    "                     guess=False)[0]"
   ]
  },
  {
   "cell_type": "code",
   "execution_count": 29,
   "metadata": {},
   "outputs": [],
   "source": [
    "abbreviations = abbrevations_one.append(abbrevations_two).append(abbrevations_three).drop(columns='Unnamed: 0')\n",
    "\n",
    "#File was exported and quickly cleaned with GSheets\n",
    "abbreviations.to_csv('to_be_cleaned_abreviations.csv')"
   ]
  },
  {
   "cell_type": "code",
   "execution_count": 30,
   "metadata": {},
   "outputs": [],
   "source": [
    "# After quick cleaning with GSheets reading in data again\n",
    "abbreviations = pd.read_csv('cleaned_abreviations.csv')\n",
    "abbreviations.drop_duplicates(subset='Ortsteil',keep='last',inplace=True)\n",
    "abbreviations.rename(columns={'Bezirk':'Bezirk Abkürzung'},inplace=True)\n",
    "\n",
    "# Adjust one Ortsteil with other naming convention\n",
    "data.loc[data['Ortsteil'] == 'Treptow', 'Ortsteil' ] = 'Alt-Treptow'\n",
    "\n",
    "# Add Ortsteil info to existing data\n",
    "data = pd.merge(data, abbreviations, on='Ortsteil', how='left')\n",
    "\n",
    "# Drop records where no Ortsteil could be matched\n",
    "data.dropna(subset=['Ortsteil'],inplace=True)"
   ]
  },
  {
   "cell_type": "markdown",
   "metadata": {},
   "source": [
    "### PDF Extraction with tabula (Part 2: Location quality)"
   ]
  },
  {
   "cell_type": "code",
   "execution_count": 31,
   "metadata": {},
   "outputs": [],
   "source": [
    "# Extracting left tables\n",
    "top = 69\n",
    "left = 39\n",
    "height = 723\n",
    "width = 253\n",
    "\n",
    "y1 = top\n",
    "x1 = left\n",
    "y2 = top + height\n",
    "x2 = left + width\n",
    "\n",
    "area=(y1,x1,y2,x2)\n",
    "columns = [39,164.23,186.03,193.35,244.96,256.63,286.21]\n",
    "\n",
    "dfs_1 = tabula.read_pdf(\"Strassenverzeichnis2019.pdf\", \n",
    "                     pages='3-262', \n",
    "                     area=area,\n",
    "                     columns=columns,\n",
    "                     pandas_options={'columns':['Unnamed: 0',\n",
    "                                                'Straße',\n",
    "                                                'Bezirk Abkürzung',\n",
    "                                                'Gebietsstand',\n",
    "                                                'Hausnummer',\n",
    "                                                'Buchstabe',\n",
    "                                               'Wohnlage Einstufung',\n",
    "                                               'Lage im Stadtgebiet']},\n",
    "                     guess=False)\n",
    "\n",
    "# Extracting right tables\n",
    "top = 69\n",
    "left = 303\n",
    "height = 723\n",
    "width = 253\n",
    "\n",
    "y1 = top\n",
    "x1 = left\n",
    "y2 = top + height\n",
    "x2 = left + width\n",
    "\n",
    "area=(y1,x1,y2,x2)\n",
    "columns = [303,428, 450, 457,509, 520,550]\n",
    "\n",
    "dfs_2 = tabula.read_pdf(\"Strassenverzeichnis2019.pdf\", \n",
    "                     pages='3-262', \n",
    "                     area=area,\n",
    "                     columns=columns,\n",
    "                     pandas_options={'columns':['Unnamed: 0',\n",
    "                                                'Straße',\n",
    "                                                'Bezirk Abkürzung',\n",
    "                                                'Gebietsstand',\n",
    "                                                'Hausnummer',\n",
    "                                                'Buchstabe',\n",
    "                                               'Wohnlage Einstufung',\n",
    "                                               'Lage im Stadtgebiet']},\n",
    "                     guess=False)\n",
    "\n",
    "dfs_1.append(dfs_2)"
   ]
  },
  {
   "cell_type": "code",
   "execution_count": 32,
   "metadata": {},
   "outputs": [],
   "source": [
    "# Create new empty final dataframe\n",
    "location_info = pd.DataFrame()\n",
    "tables = dfs_1\n",
    "for table in tables:\n",
    "    location_info = location_info.append(table)\n",
    "    \n",
    "location_info.drop(columns='Unnamed: 0',inplace=True)\n",
    "\n",
    "# Filter out letters, e.g. A, B ...\n",
    "location_info = location_info[location_info['Straße'].apply(lambda x: len(x)) != 1]\n",
    "\n",
    "location_info['Ortsteil Abkürzung'] = location_info['Straße'].str.split('(',expand=True)[1].str.strip(')').str.strip('')\n",
    "location_info['Straße'] = location_info['Straße'].str.split('(',expand=True)[0].str.strip('')\n",
    "\n",
    "location_info = location_info.applymap(lambda x: x.strip() if isinstance(x, str) else x)"
   ]
  },
  {
   "cell_type": "code",
   "execution_count": 33,
   "metadata": {},
   "outputs": [],
   "source": [
    "def transform_housenumbers(df):\n",
    "    if isinstance(df['Hausnummer'], str):\n",
    "        # Split house numbers into start and end\n",
    "        start = df['Hausnummer'].split('-')[0].strip()\n",
    "        end = df['Hausnummer'].split('-')[1].strip()\n",
    "        \n",
    "        # Check for letters e.g. 5A \n",
    "        start_letter = re.search('[A-Z]', start)\n",
    "        end_letter = re.search('[A-Z]', end)\n",
    "        \n",
    "        # Find actual start and ending housenumber\n",
    "        start = int(re.search('\\d*', start).group())\n",
    "        end = int(re.search('\\d*', end).group())\n",
    "        \n",
    "        # Continuing streets, e.g. 1, 2, 3, 4, 5\n",
    "        if df['Buchstabe'] == 'F':\n",
    "            house_number_list = list(range(start,end+1))\n",
    "        \n",
    "        # Even or uneven streets, e.g. 1, 3, 5 or 2, 4, 6\n",
    "        elif df['Buchstabe'] == 'G' or df['Buchstabe'] == 'U':\n",
    "            house_number_list = list(range(start,end+1,2))\n",
    "        \n",
    "        house_number_list = [str(e) for e in house_number_list]\n",
    "        if start_letter:\n",
    "            start_letter = start_letter.group().strip()\n",
    "            house_number_list[0] += start_letter\n",
    "        elif end_letter:\n",
    "            end_letter = end_letter.group().strip()\n",
    "            house_number_list[-1] += end_letter\n",
    "        return house_number_list\n",
    "    else:\n",
    "        return df['Hausnummer'] \n",
    "\n",
    "location_info['Hausnummer'] = location_info.apply(transform_housenumbers, axis=1)\n",
    "\n",
    "location_info = location_info.reset_index().explode('Hausnummer')"
   ]
  },
  {
   "cell_type": "markdown",
   "metadata": {},
   "source": [
    "## Merging Location Rating features to Scraped Data"
   ]
  },
  {
   "cell_type": "code",
   "execution_count": 34,
   "metadata": {},
   "outputs": [
    {
     "data": {
      "text/plain": [
       "0.14752475247524752"
      ]
     },
     "execution_count": 34,
     "metadata": {},
     "output_type": "execute_result"
    }
   ],
   "source": [
    "# Percentage of data without an address which means we cannot assess location quality\n",
    "data['Adresse'].apply(lambda x: True if 'Die vollständige Adresse der Immobilie erhalten Sie vom Anbieter.' in x else False).mean()"
   ]
  },
  {
   "cell_type": "code",
   "execution_count": 35,
   "metadata": {},
   "outputs": [
    {
     "name": "stdout",
     "output_type": "stream",
     "text": [
      "CPU times: user 19min 46s, sys: 6.11 s, total: 19min 52s\n",
      "Wall time: 20min 1s\n"
     ]
    }
   ],
   "source": [
    "def match_street(x):\n",
    "    if isinstance(x, str):\n",
    "        match = process.extractOne(x, list(location_info['Straße'].unique()))\n",
    "        if match[1] > 90:\n",
    "            return match[0]\n",
    "        else:\n",
    "            return x\n",
    "    else:\n",
    "        return x\n",
    "    \n",
    "#Computationally quite expensive (only do this once if you have new data)\n",
    "%time data['Straße'] = data['Straße'].apply(match_street)\n",
    "\n",
    "#Results temporarily saved to iterate over data faster\n",
    "data.to_csv('temp_data.csv',index=False)"
   ]
  },
  {
   "cell_type": "code",
   "execution_count": 36,
   "metadata": {},
   "outputs": [],
   "source": [
    "# Optionally saved df to iterate over problems much faster\n",
    "data = pd.read_csv('temp_data.csv')"
   ]
  },
  {
   "cell_type": "code",
   "execution_count": 37,
   "metadata": {},
   "outputs": [
    {
     "data": {
      "text/plain": [
       "0.6029698149951315"
      ]
     },
     "execution_count": 37,
     "metadata": {},
     "output_type": "execute_result"
    }
   ],
   "source": [
    "# Strip one more time all strings of whitespace to guarantee correct merge\n",
    "data = data.applymap(lambda x: x.strip() if isinstance(x, str) else x)\n",
    "location_info = location_info.applymap(lambda x: x.strip() if isinstance(x, str) else x)\n",
    "\n",
    "# First merge attempt on three criterias\n",
    "matching_one = pd.merge(data, location_info,on=['Straße','Bezirk Abkürzung','Hausnummer'],how='left')\n",
    "\n",
    "# Percentage of data for which we could add location rating\n",
    "matching_one.dropna(subset=['Url'])['Wohnlage Einstufung'].notnull().mean()"
   ]
  },
  {
   "cell_type": "code",
   "execution_count": 38,
   "metadata": {},
   "outputs": [
    {
     "data": {
      "text/plain": [
       "0.12756489493201484"
      ]
     },
     "execution_count": 38,
     "metadata": {},
     "output_type": "execute_result"
    }
   ],
   "source": [
    "# In the pdf there are location info for entire streets (marked with letter K), allowing us not to merge with the exact housenumber\n",
    "matching_two = pd.merge(data, location_info[location_info['Buchstabe'] == 'K'], on=['Straße','Bezirk Abkürzung'], how='left')\n",
    "\n",
    "# Drop duplicated columns\n",
    "matching_two = matching_two.drop(columns='Hausnummer_y').rename(columns={'Hausnummer_x':'Hausnummer'})\n",
    "\n",
    "# Percentage of data for which we could add location rating\n",
    "matching_two.dropna(subset=['Url'])['Wohnlage Einstufung'].notnull().mean()"
   ]
  },
  {
   "cell_type": "code",
   "execution_count": 39,
   "metadata": {},
   "outputs": [],
   "source": [
    "# Combine both merges from above to create final_data_frame\n",
    "matching = matching_one.append(matching_two)\n",
    "\n",
    "# Drop all records for which we could not find a location rating\n",
    "matching.dropna(subset=['Wohnlage Einstufung'], inplace=True)\n",
    "\n",
    "# Some streets are so common that they are duplicate, resulting in duplicated values\n",
    "# In the PDF only those streets had a location abbreviation. I filter out now those records to add them later back in the df\n",
    "matching_three = matching[matching['Ortsteil Abkürzung_x'] == matching['Ortsteil Abkürzung_y']]\n",
    "\n",
    "# Get rid of all duplicated records in the file\n",
    "matching.drop_duplicates(subset=['Url'], keep=False, inplace=True)\n",
    "\n",
    "# Add back the records which had many streets with the same name\n",
    "matching = matching.append(matching_three)\n",
    "\n",
    "# Get rid of all duplicated records in the file once more\n",
    "matching.drop_duplicates(subset='Url',inplace=True)\n",
    "\n",
    "matching.reset_index(inplace=True, drop=True)\n",
    "\n",
    "matching.drop(columns='Ortsteil Abkürzung_y',inplace=True)\n",
    "matching.rename(columns={'Ortsteil Abkürzung_x': 'Ortsteil Abkürzung'},inplace=True)"
   ]
  },
  {
   "cell_type": "markdown",
   "metadata": {},
   "source": [
    "## Calculation of Rental Price Ceiling\n",
    "\n",
    "The main infromation for the calculation can be found here: https://stadtentwicklung.berlin.de/wohnen/wohnraum/mietendeckel/"
   ]
  },
  {
   "cell_type": "markdown",
   "metadata": {},
   "source": [
    "### 1) Base Table (year of building, bathroom, central heating)\n",
    "The following base table takes the year the building was built, central heating and the existance of a bathroom to come up with a base price."
   ]
  },
  {
   "cell_type": "code",
   "execution_count": 40,
   "metadata": {},
   "outputs": [
    {
     "data": {
      "image/png": "[encoded data removed]",
      "text/plain": [
       "<IPython.core.display.Image object>"
      ]
     },
     "execution_count": 40,
     "metadata": {},
     "output_type": "execute_result"
    }
   ],
   "source": [
    "Image(\"img/mietentabelle.png\")"
   ]
  },
  {
   "cell_type": "markdown",
   "metadata": {},
   "source": [
    "#### English Translation"
   ]
  },
  {
   "cell_type": "code",
   "execution_count": 41,
   "metadata": {},
   "outputs": [
    {
     "data": {
      "text/html": [
       "<div>\n",
       "<style scoped>\n",
       "    .dataframe tbody tr th:only-of-type {\n",
       "        vertical-align: middle;\n",
       "    }\n",
       "\n",
       "    .dataframe tbody tr th {\n",
       "        vertical-align: top;\n",
       "    }\n",
       "\n",
       "    .dataframe thead th {\n",
       "        text-align: right;\n",
       "    }\n",
       "</style>\n",
       "<table border=\"1\" class=\"dataframe\">\n",
       "  <thead>\n",
       "    <tr style=\"text-align: right;\">\n",
       "      <th></th>\n",
       "      <th>min_year</th>\n",
       "      <th>max_year</th>\n",
       "      <th>central_heating</th>\n",
       "      <th>condition</th>\n",
       "      <th>bathroom</th>\n",
       "      <th>price_per_square_meter</th>\n",
       "    </tr>\n",
       "  </thead>\n",
       "  <tbody>\n",
       "    <tr>\n",
       "      <th>0</th>\n",
       "      <td>1918</td>\n",
       "      <td>1918</td>\n",
       "      <td>True</td>\n",
       "      <td>and</td>\n",
       "      <td>True</td>\n",
       "      <td>6.45</td>\n",
       "    </tr>\n",
       "    <tr>\n",
       "      <th>1</th>\n",
       "      <td>1918</td>\n",
       "      <td>1918</td>\n",
       "      <td>True</td>\n",
       "      <td>or</td>\n",
       "      <td>True</td>\n",
       "      <td>5.00</td>\n",
       "    </tr>\n",
       "    <tr>\n",
       "      <th>2</th>\n",
       "      <td>1918</td>\n",
       "      <td>1918</td>\n",
       "      <td>False</td>\n",
       "      <td>and</td>\n",
       "      <td>False</td>\n",
       "      <td>3.92</td>\n",
       "    </tr>\n",
       "    <tr>\n",
       "      <th>3</th>\n",
       "      <td>1919</td>\n",
       "      <td>1949</td>\n",
       "      <td>True</td>\n",
       "      <td>and</td>\n",
       "      <td>True</td>\n",
       "      <td>6.27</td>\n",
       "    </tr>\n",
       "    <tr>\n",
       "      <th>4</th>\n",
       "      <td>1919</td>\n",
       "      <td>1949</td>\n",
       "      <td>True</td>\n",
       "      <td>or</td>\n",
       "      <td>True</td>\n",
       "      <td>5.22</td>\n",
       "    </tr>\n",
       "    <tr>\n",
       "      <th>5</th>\n",
       "      <td>1919</td>\n",
       "      <td>1949</td>\n",
       "      <td>False</td>\n",
       "      <td>and</td>\n",
       "      <td>False</td>\n",
       "      <td>4.59</td>\n",
       "    </tr>\n",
       "    <tr>\n",
       "      <th>6</th>\n",
       "      <td>1950</td>\n",
       "      <td>1964</td>\n",
       "      <td>True</td>\n",
       "      <td>and</td>\n",
       "      <td>True</td>\n",
       "      <td>6.08</td>\n",
       "    </tr>\n",
       "    <tr>\n",
       "      <th>7</th>\n",
       "      <td>1950</td>\n",
       "      <td>1964</td>\n",
       "      <td>True</td>\n",
       "      <td>or</td>\n",
       "      <td>True</td>\n",
       "      <td>5.62</td>\n",
       "    </tr>\n",
       "    <tr>\n",
       "      <th>8</th>\n",
       "      <td>1965</td>\n",
       "      <td>1972</td>\n",
       "      <td>True</td>\n",
       "      <td>and</td>\n",
       "      <td>True</td>\n",
       "      <td>5.95</td>\n",
       "    </tr>\n",
       "    <tr>\n",
       "      <th>9</th>\n",
       "      <td>1973</td>\n",
       "      <td>1990</td>\n",
       "      <td>True</td>\n",
       "      <td>and</td>\n",
       "      <td>True</td>\n",
       "      <td>6.04</td>\n",
       "    </tr>\n",
       "    <tr>\n",
       "      <th>10</th>\n",
       "      <td>1991</td>\n",
       "      <td>2002</td>\n",
       "      <td>True</td>\n",
       "      <td>and</td>\n",
       "      <td>True</td>\n",
       "      <td>8.13</td>\n",
       "    </tr>\n",
       "    <tr>\n",
       "      <th>11</th>\n",
       "      <td>2003</td>\n",
       "      <td>2013</td>\n",
       "      <td>True</td>\n",
       "      <td>and</td>\n",
       "      <td>True</td>\n",
       "      <td>9.80</td>\n",
       "    </tr>\n",
       "  </tbody>\n",
       "</table>\n",
       "</div>"
      ],
      "text/plain": [
       "    min_year  max_year  central_heating condition  bathroom  \\\n",
       "0       1918      1918             True       and      True   \n",
       "1       1918      1918             True        or      True   \n",
       "2       1918      1918            False       and     False   \n",
       "3       1919      1949             True       and      True   \n",
       "4       1919      1949             True        or      True   \n",
       "5       1919      1949            False       and     False   \n",
       "6       1950      1964             True       and      True   \n",
       "7       1950      1964             True        or      True   \n",
       "8       1965      1972             True       and      True   \n",
       "9       1973      1990             True       and      True   \n",
       "10      1991      2002             True       and      True   \n",
       "11      2003      2013             True       and      True   \n",
       "\n",
       "    price_per_square_meter  \n",
       "0                     6.45  \n",
       "1                     5.00  \n",
       "2                     3.92  \n",
       "3                     6.27  \n",
       "4                     5.22  \n",
       "5                     4.59  \n",
       "6                     6.08  \n",
       "7                     5.62  \n",
       "8                     5.95  \n",
       "9                     6.04  \n",
       "10                    8.13  \n",
       "11                    9.80  "
      ]
     },
     "execution_count": 41,
     "metadata": {},
     "output_type": "execute_result"
    }
   ],
   "source": [
    "rental_ceiling_info = {\n",
    "    'min_year': [1918, 1918, 1918, 1919, 1919, 1919, 1950, 1950, 1965, 1973, 1991, 2003 ],\n",
    "    'max_year': [1918, 1918, 1918, 1949, 1949, 1949, 1964, 1964, 1972, 1990, 2002, 2013 ],\n",
    "    'central_heating' : [True, True, False, True, True, False, True, True, True, True, True, True],\n",
    "    'condition': ['and', 'or', 'and', 'and', 'or', 'and', 'and', 'or', 'and', 'and', 'and', 'and'],\n",
    "    'bathroom' : [True, True, False, True, True, False, True, True, True, True, True, True],\n",
    "    'price_per_square_meter' : [6.45, 5.00, 3.92, 6.27, 5.22, 4.59, 6.08, 5.62, 5.95, 6.04, 8.13, 9.8]\n",
    "}\n",
    "\n",
    "rental_ceiling_info = pd.DataFrame.from_dict(rental_ceiling_info)\n",
    "rental_ceiling_info"
   ]
  },
  {
   "cell_type": "markdown",
   "metadata": {},
   "source": [
    "## 2) Modern equipment\n",
    "\n",
    "Furthermore if at least three of the following criteria are met, one euro is added to the cold rent per squaremeter to adjust for modern equipment:\n",
    "\n",
    "*Für Wohnungen mit moderner Ausstattung erhöht sich der Wert um 1,00 Euro. Eine moderne Ausstattung liegt vor, wenn mindestens drei der folgenden Merkmale vorhanden sind:* \n",
    "\n",
    "- *schwellenlos erreichbarer Aufzug,*\n",
    "- *Einbauküche,*\n",
    "- *hochwertige Sanitärausstattung,*\n",
    "- *hochwertiger Bodenbelag in der überwiegenden Zahl der Wohnräume,*\n",
    "- *Energieverbrauchskennwert von weniger als 120 kWh/(m² a)*\n",
    "\n"
   ]
  },
  {
   "cell_type": "markdown",
   "metadata": {},
   "source": [
    "## 3) Location Rating\n",
    "\n",
    "Next there is an additional premium or dedcution based on the location of the flat. The exact location criteria are not published yet but the PDF above gives the best potential idea of the to be published location rating:\n",
    "\n",
    "*Für Wohnungen in einfacher Wohnlage ist bei der Berechnung der Mietobergrenze ein Abschlag beim maßgeblichen Mietpreis in der Mietentabelle von 0,28 Euro zu berücksichtigen, für Wohnungen in mittlerer Wohnlage werden 0,09 Euro abgezogen und für Wohnungen in guter Wohnlage ist ein Zuschlag von 0,74 Euro zu berücksichtigen. (Die Lageeinordnung wird demnächst veröffentlicht.)*"
   ]
  },
  {
   "cell_type": "markdown",
   "metadata": {},
   "source": [
    "## 4) Single or double family house\n",
    "\n",
    "Since I scraped only flats this criteria can be negelected and I will not need to take into consideration an additional increase of 10% to the price.\n",
    "\n",
    "*9. Was ist mit Ein- und Zweifamilienhäusern? Auch für sie gilt das Gesetz. Liegt der Wohnraum in Gebäuden mit nicht mehr als zwei Wohnungen, erhöht sich jedoch die Mietobergrenze um einen Zuschlag von zehn Prozent.*"
   ]
  },
  {
   "cell_type": "markdown",
   "metadata": {},
   "source": [
    "## Assumptions\n",
    "\n",
    "With the mentioned criteria above, I took the following conservative assumptions to calculate the price rental ceiling per square meter:\n",
    "\n",
    "- maximum price from the base table (1) for the respective year of construction, which means that it is assumed that all the flats have central heating and a bath room\n",
    "- all the flats fufill at least three criteria, meaning that it is assumed that they all have modern equipment\n",
    "- the rent index PDF document published in 2019 is a good approximation for the location rating (2)\n",
    "- all the flats are non single family houses (scraped data only for apartments)"
   ]
  },
  {
   "cell_type": "markdown",
   "metadata": {},
   "source": [
    "## Calculation\n",
    "\n",
    "max_price_per_square_meter = (base_price + location factor + modern_equipment_factor) * (1 + 20%)"
   ]
  },
  {
   "cell_type": "markdown",
   "metadata": {},
   "source": [
    "### Max rental price ceiling"
   ]
  },
  {
   "cell_type": "code",
   "execution_count": 42,
   "metadata": {},
   "outputs": [],
   "source": [
    "def find_base_price(df):\n",
    "    \"\"\"Takes in a dataframe and finds base price for the year the building was built.\n",
    "    \n",
    "    Args:\n",
    "    - df: Dataframe\n",
    "    \n",
    "    Returns:\n",
    "    - column (float): base price for the respective year the house was built\n",
    "    \n",
    "    \"\"\"\n",
    "    # Initialising criteria\n",
    "    \n",
    "    location_factor, base_price = (np.nan, np.nan)\n",
    "    \n",
    "    # Age of the building\n",
    "    if df['Baujahr'] <= 1918:\n",
    "        base_price = 6.45\n",
    "    elif df['Baujahr'] >= 1919 and df['Baujahr'] <= 1949:\n",
    "        base_price = 6.27\n",
    "    elif df['Baujahr'] >= 1950 and df['Baujahr'] <= 1964:\n",
    "        base_price = 6.08\n",
    "    elif df['Baujahr'] >= 1965 and df['Baujahr'] <= 1972:\n",
    "        base_price = 5.95\n",
    "    elif df['Baujahr'] >= 1973 and df['Baujahr'] <= 1990:\n",
    "        base_price = 6.04\n",
    "    elif df['Baujahr'] >= 1991 and df['Baujahr'] <= 2002:\n",
    "        base_price = 8.13\n",
    "    elif df['Baujahr'] >= 2003 and df['Baujahr'] <= 2013:\n",
    "        base_price = 9.80\n",
    "    \n",
    "    return base_price"
   ]
  },
  {
   "cell_type": "code",
   "execution_count": 43,
   "metadata": {},
   "outputs": [],
   "source": [
    "def find_location_factor(df):\n",
    "    \"\"\"Takes in a dataframe and finds the location factor\n",
    "    \n",
    "    Args:\n",
    "    - df: Dataframe\n",
    "    \n",
    "    Returns:\n",
    "    - column (float): location factor depending on the quality of the location\n",
    "    \n",
    "    \"\"\"\n",
    "    \n",
    "    # Location factor of the flat\n",
    "    if df['Wohnlage Einstufung'].strip(' *') == 'einfach':\n",
    "        location_factor = -0.28\n",
    "    elif df['Wohnlage Einstufung'].strip(' *') == 'mittel':\n",
    "        location_factor = -0.09\n",
    "    elif df['Wohnlage Einstufung'].strip(' *') == 'gut':\n",
    "        location_factor = 0.74\n",
    "    \n",
    "    return location_factor"
   ]
  },
  {
   "cell_type": "code",
   "execution_count": 44,
   "metadata": {},
   "outputs": [],
   "source": [
    "base_price = matching.apply(find_base_price, axis=1)\n",
    "location_factor = matching.apply(find_location_factor, axis=1)\n",
    "\n",
    "\n",
    "# Modern equipment factor of the flat\n",
    "modern_equipment_factor = 1\n",
    "\n",
    "# Maximum overpricing\n",
    "percent = 0.2\n",
    "    \n",
    "max_price_per_square_meter = (base_price + location_factor + modern_equipment_factor) * (1+percent)\n",
    "\n",
    "matching['Zulässige Mietobergrenze pro m²'] = max_price_per_square_meter"
   ]
  },
  {
   "cell_type": "markdown",
   "metadata": {},
   "source": [
    "# Data Analysis"
   ]
  },
  {
   "cell_type": "code",
   "execution_count": 325,
   "metadata": {},
   "outputs": [],
   "source": [
    "illegal_pricing = matching[matching['Kaltmiete pro m²'] > matching['Zulässige Mietobergrenze pro m²']]\n",
    "legal_pricing = matching[matching['Kaltmiete pro m²'] < matching['Zulässige Mietobergrenze pro m²']]"
   ]
  },
  {
   "cell_type": "code",
   "execution_count": 56,
   "metadata": {},
   "outputs": [],
   "source": [
    "username = os.getenv('PLOTLY_USERNAME')\n",
    "api_key = os.getenv('PLOTLY_API_KEY') # your api key - go to profile > settings > regenerate key\n",
    "\n",
    "chart_studio.tools.set_credentials_file(username=username, api_key=api_key)"
   ]
  },
  {
   "cell_type": "code",
   "execution_count": 326,
   "metadata": {},
   "outputs": [
    {
     "data": {
      "application/vnd.plotly.v1+json": {
       "config": {
        "plotlyServerURL": "https://plot.ly"
       },
       "data": [
        {
         "marker": {
          "color": [
           "silver",
           "green",
           "red"
          ]
         },
         "opacity": 0.65,
         "text": [
          "All",
          "Sufficient Info",
          "Overpriced"
         ],
         "type": "funnel",
         "x": [
          4040,
          1687,
          1272
         ],
         "y": [
          "All Scraped Listings",
          "Listings with sufficient Information",
          "Listings over rental cap"
         ]
        }
       ],
       "layout": {
        "template": {
         "data": {
          "bar": [
           {
            "error_x": {
             "color": "#2a3f5f"
            },
            "error_y": {
             "color": "#2a3f5f"
            },
            "marker": {
             "line": {
              "color": "#E5ECF6",
              "width": 0.5
             }
            },
            "type": "bar"
           }
          ],
          "barpolar": [
           {
            "marker": {
             "line": {
              "color": "#E5ECF6",
              "width": 0.5
             }
            },
            "type": "barpolar"
           }
          ],
          "carpet": [
           {
            "aaxis": {
             "endlinecolor": "#2a3f5f",
             "gridcolor": "white",
             "linecolor": "white",
             "minorgridcolor": "white",
             "startlinecolor": "#2a3f5f"
            },
            "baxis": {
             "endlinecolor": "#2a3f5f",
             "gridcolor": "white",
             "linecolor": "white",
             "minorgridcolor": "white",
             "startlinecolor": "#2a3f5f"
            },
            "type": "carpet"
           }
          ],
          "choropleth": [
           {
            "colorbar": {
             "outlinewidth": 0,
             "ticks": ""
            },
            "type": "choropleth"
           }
          ],
          "contour": [
           {
            "colorbar": {
             "outlinewidth": 0,
             "ticks": ""
            },
            "colorscale": [
             [
              0,
              "#0d0887"
             ],
             [
              0.1111111111111111,
              "#46039f"
             ],
             [
              0.2222222222222222,
              "#7201a8"
             ],
             [
              0.3333333333333333,
              "#9c179e"
             ],
             [
              0.4444444444444444,
              "#bd3786"
             ],
             [
              0.5555555555555556,
              "#d8576b"
             ],
             [
              0.6666666666666666,
              "#ed7953"
             ],
             [
              0.7777777777777778,
              "#fb9f3a"
             ],
             [
              0.8888888888888888,
              "#fdca26"
             ],
             [
              1,
              "#f0f921"
             ]
            ],
            "type": "contour"
           }
          ],
          "contourcarpet": [
           {
            "colorbar": {
             "outlinewidth": 0,
             "ticks": ""
            },
            "type": "contourcarpet"
           }
          ],
          "heatmap": [
           {
            "colorbar": {
             "outlinewidth": 0,
             "ticks": ""
            },
            "colorscale": [
             [
              0,
              "#0d0887"
             ],
             [
              0.1111111111111111,
              "#46039f"
             ],
             [
              0.2222222222222222,
              "#7201a8"
             ],
             [
              0.3333333333333333,
              "#9c179e"
             ],
             [
              0.4444444444444444,
              "#bd3786"
             ],
             [
              0.5555555555555556,
              "#d8576b"
             ],
             [
              0.6666666666666666,
              "#ed7953"
             ],
             [
              0.7777777777777778,
              "#fb9f3a"
             ],
             [
              0.8888888888888888,
              "#fdca26"
             ],
             [
              1,
              "#f0f921"
             ]
            ],
            "type": "heatmap"
           }
          ],
          "heatmapgl": [
           {
            "colorbar": {
             "outlinewidth": 0,
             "ticks": ""
            },
            "colorscale": [
             [
              0,
              "#0d0887"
             ],
             [
              0.1111111111111111,
              "#46039f"
             ],
             [
              0.2222222222222222,
              "#7201a8"
             ],
             [
              0.3333333333333333,
              "#9c179e"
             ],
             [
              0.4444444444444444,
              "#bd3786"
             ],
             [
              0.5555555555555556,
              "#d8576b"
             ],
             [
              0.6666666666666666,
              "#ed7953"
             ],
             [
              0.7777777777777778,
              "#fb9f3a"
             ],
             [
              0.8888888888888888,
              "#fdca26"
             ],
             [
              1,
              "#f0f921"
             ]
            ],
            "type": "heatmapgl"
           }
          ],
          "histogram": [
           {
            "marker": {
             "colorbar": {
              "outlinewidth": 0,
              "ticks": ""
             }
            },
            "type": "histogram"
           }
          ],
          "histogram2d": [
           {
            "colorbar": {
             "outlinewidth": 0,
             "ticks": ""
            },
            "colorscale": [
             [
              0,
              "#0d0887"
             ],
             [
              0.1111111111111111,
              "#46039f"
             ],
             [
              0.2222222222222222,
              "#7201a8"
             ],
             [
              0.3333333333333333,
              "#9c179e"
             ],
             [
              0.4444444444444444,
              "#bd3786"
             ],
             [
              0.5555555555555556,
              "#d8576b"
             ],
             [
              0.6666666666666666,
              "#ed7953"
             ],
             [
              0.7777777777777778,
              "#fb9f3a"
             ],
             [
              0.8888888888888888,
              "#fdca26"
             ],
             [
              1,
              "#f0f921"
             ]
            ],
            "type": "histogram2d"
           }
          ],
          "histogram2dcontour": [
           {
            "colorbar": {
             "outlinewidth": 0,
             "ticks": ""
            },
            "colorscale": [
             [
              0,
              "#0d0887"
             ],
             [
              0.1111111111111111,
              "#46039f"
             ],
             [
              0.2222222222222222,
              "#7201a8"
             ],
             [
              0.3333333333333333,
              "#9c179e"
             ],
             [
              0.4444444444444444,
              "#bd3786"
             ],
             [
              0.5555555555555556,
              "#d8576b"
             ],
             [
              0.6666666666666666,
              "#ed7953"
             ],
             [
              0.7777777777777778,
              "#fb9f3a"
             ],
             [
              0.8888888888888888,
              "#fdca26"
             ],
             [
              1,
              "#f0f921"
             ]
            ],
            "type": "histogram2dcontour"
           }
          ],
          "mesh3d": [
           {
            "colorbar": {
             "outlinewidth": 0,
             "ticks": ""
            },
            "type": "mesh3d"
           }
          ],
          "parcoords": [
           {
            "line": {
             "colorbar": {
              "outlinewidth": 0,
              "ticks": ""
             }
            },
            "type": "parcoords"
           }
          ],
          "pie": [
           {
            "automargin": true,
            "type": "pie"
           }
          ],
          "scatter": [
           {
            "marker": {
             "colorbar": {
              "outlinewidth": 0,
              "ticks": ""
             }
            },
            "type": "scatter"
           }
          ],
          "scatter3d": [
           {
            "line": {
             "colorbar": {
              "outlinewidth": 0,
              "ticks": ""
             }
            },
            "marker": {
             "colorbar": {
              "outlinewidth": 0,
              "ticks": ""
             }
            },
            "type": "scatter3d"
           }
          ],
          "scattercarpet": [
           {
            "marker": {
             "colorbar": {
              "outlinewidth": 0,
              "ticks": ""
             }
            },
            "type": "scattercarpet"
           }
          ],
          "scattergeo": [
           {
            "marker": {
             "colorbar": {
              "outlinewidth": 0,
              "ticks": ""
             }
            },
            "type": "scattergeo"
           }
          ],
          "scattergl": [
           {
            "marker": {
             "colorbar": {
              "outlinewidth": 0,
              "ticks": ""
             }
            },
            "type": "scattergl"
           }
          ],
          "scattermapbox": [
           {
            "marker": {
             "colorbar": {
              "outlinewidth": 0,
              "ticks": ""
             }
            },
            "type": "scattermapbox"
           }
          ],
          "scatterpolar": [
           {
            "marker": {
             "colorbar": {
              "outlinewidth": 0,
              "ticks": ""
             }
            },
            "type": "scatterpolar"
           }
          ],
          "scatterpolargl": [
           {
            "marker": {
             "colorbar": {
              "outlinewidth": 0,
              "ticks": ""
             }
            },
            "type": "scatterpolargl"
           }
          ],
          "scatterternary": [
           {
            "marker": {
             "colorbar": {
              "outlinewidth": 0,
              "ticks": ""
             }
            },
            "type": "scatterternary"
           }
          ],
          "surface": [
           {
            "colorbar": {
             "outlinewidth": 0,
             "ticks": ""
            },
            "colorscale": [
             [
              0,
              "#0d0887"
             ],
             [
              0.1111111111111111,
              "#46039f"
             ],
             [
              0.2222222222222222,
              "#7201a8"
             ],
             [
              0.3333333333333333,
              "#9c179e"
             ],
             [
              0.4444444444444444,
              "#bd3786"
             ],
             [
              0.5555555555555556,
              "#d8576b"
             ],
             [
              0.6666666666666666,
              "#ed7953"
             ],
             [
              0.7777777777777778,
              "#fb9f3a"
             ],
             [
              0.8888888888888888,
              "#fdca26"
             ],
             [
              1,
              "#f0f921"
             ]
            ],
            "type": "surface"
           }
          ],
          "table": [
           {
            "cells": {
             "fill": {
              "color": "#EBF0F8"
             },
             "line": {
              "color": "white"
             }
            },
            "header": {
             "fill": {
              "color": "#C8D4E3"
             },
             "line": {
              "color": "white"
             }
            },
            "type": "table"
           }
          ]
         },
         "layout": {
          "annotationdefaults": {
           "arrowcolor": "#2a3f5f",
           "arrowhead": 0,
           "arrowwidth": 1
          },
          "coloraxis": {
           "colorbar": {
            "outlinewidth": 0,
            "ticks": ""
           }
          },
          "colorscale": {
           "diverging": [
            [
             0,
             "#8e0152"
            ],
            [
             0.1,
             "#c51b7d"
            ],
            [
             0.2,
             "#de77ae"
            ],
            [
             0.3,
             "#f1b6da"
            ],
            [
             0.4,
             "#fde0ef"
            ],
            [
             0.5,
             "#f7f7f7"
            ],
            [
             0.6,
             "#e6f5d0"
            ],
            [
             0.7,
             "#b8e186"
            ],
            [
             0.8,
             "#7fbc41"
            ],
            [
             0.9,
             "#4d9221"
            ],
            [
             1,
             "#276419"
            ]
           ],
           "sequential": [
            [
             0,
             "#0d0887"
            ],
            [
             0.1111111111111111,
             "#46039f"
            ],
            [
             0.2222222222222222,
             "#7201a8"
            ],
            [
             0.3333333333333333,
             "#9c179e"
            ],
            [
             0.4444444444444444,
             "#bd3786"
            ],
            [
             0.5555555555555556,
             "#d8576b"
            ],
            [
             0.6666666666666666,
             "#ed7953"
            ],
            [
             0.7777777777777778,
             "#fb9f3a"
            ],
            [
             0.8888888888888888,
             "#fdca26"
            ],
            [
             1,
             "#f0f921"
            ]
           ],
           "sequentialminus": [
            [
             0,
             "#0d0887"
            ],
            [
             0.1111111111111111,
             "#46039f"
            ],
            [
             0.2222222222222222,
             "#7201a8"
            ],
            [
             0.3333333333333333,
             "#9c179e"
            ],
            [
             0.4444444444444444,
             "#bd3786"
            ],
            [
             0.5555555555555556,
             "#d8576b"
            ],
            [
             0.6666666666666666,
             "#ed7953"
            ],
            [
             0.7777777777777778,
             "#fb9f3a"
            ],
            [
             0.8888888888888888,
             "#fdca26"
            ],
            [
             1,
             "#f0f921"
            ]
           ]
          },
          "colorway": [
           "#636efa",
           "#EF553B",
           "#00cc96",
           "#ab63fa",
           "#FFA15A",
           "#19d3f3",
           "#FF6692",
           "#B6E880",
           "#FF97FF",
           "#FECB52"
          ],
          "font": {
           "color": "#2a3f5f"
          },
          "geo": {
           "bgcolor": "white",
           "lakecolor": "white",
           "landcolor": "#E5ECF6",
           "showlakes": true,
           "showland": true,
           "subunitcolor": "white"
          },
          "hoverlabel": {
           "align": "left"
          },
          "hovermode": "closest",
          "mapbox": {
           "style": "light"
          },
          "paper_bgcolor": "white",
          "plot_bgcolor": "#E5ECF6",
          "polar": {
           "angularaxis": {
            "gridcolor": "white",
            "linecolor": "white",
            "ticks": ""
           },
           "bgcolor": "#E5ECF6",
           "radialaxis": {
            "gridcolor": "white",
            "linecolor": "white",
            "ticks": ""
           }
          },
          "scene": {
           "xaxis": {
            "backgroundcolor": "#E5ECF6",
            "gridcolor": "white",
            "gridwidth": 2,
            "linecolor": "white",
            "showbackground": true,
            "ticks": "",
            "zerolinecolor": "white"
           },
           "yaxis": {
            "backgroundcolor": "#E5ECF6",
            "gridcolor": "white",
            "gridwidth": 2,
            "linecolor": "white",
            "showbackground": true,
            "ticks": "",
            "zerolinecolor": "white"
           },
           "zaxis": {
            "backgroundcolor": "#E5ECF6",
            "gridcolor": "white",
            "gridwidth": 2,
            "linecolor": "white",
            "showbackground": true,
            "ticks": "",
            "zerolinecolor": "white"
           }
          },
          "shapedefaults": {
           "line": {
            "color": "#2a3f5f"
           }
          },
          "ternary": {
           "aaxis": {
            "gridcolor": "white",
            "linecolor": "white",
            "ticks": ""
           },
           "baxis": {
            "gridcolor": "white",
            "linecolor": "white",
            "ticks": ""
           },
           "bgcolor": "#E5ECF6",
           "caxis": {
            "gridcolor": "white",
            "linecolor": "white",
            "ticks": ""
           }
          },
          "title": {
           "x": 0.05
          },
          "xaxis": {
           "automargin": true,
           "gridcolor": "white",
           "linecolor": "white",
           "ticks": "",
           "title": {
            "standoff": 15
           },
           "zerolinecolor": "white",
           "zerolinewidth": 2
          },
          "yaxis": {
           "automargin": true,
           "gridcolor": "white",
           "linecolor": "white",
           "ticks": "",
           "title": {
            "standoff": 15
           },
           "zerolinecolor": "white",
           "zerolinewidth": 2
          }
         }
        },
        "title": {
         "text": "Overview of Analysed Listings"
        }
       }
      },
      "text/html": [
       "<div>\n",
       "        \n",
       "        \n",
       "            <div id=\"4f90f897-1554-4854-99c5-139ae7655226\" class=\"plotly-graph-div\" style=\"height:525px; width:100%;\"></div>\n",
       "            <script type=\"text/javascript\">\n",
       "                require([\"plotly\"], function(Plotly) {\n",
       "                    window.PLOTLYENV=window.PLOTLYENV || {};\n",
       "                    \n",
       "                if (document.getElementById(\"4f90f897-1554-4854-99c5-139ae7655226\")) {\n",
       "                    Plotly.newPlot(\n",
       "                        '4f90f897-1554-4854-99c5-139ae7655226',\n",
       "                        [{\"marker\": {\"color\": [\"silver\", \"green\", \"red\"]}, \"opacity\": 0.65, \"text\": [\"All\", \"Sufficient Info\", \"Overpriced\"], \"type\": \"funnel\", \"x\": [4040, 1687, 1272], \"y\": [\"All Scraped Listings\", \"Listings with sufficient Information\", \"Listings over rental cap\"]}],\n",
       "                        {\"template\": {\"data\": {\"bar\": [{\"error_x\": {\"color\": \"#2a3f5f\"}, \"error_y\": {\"color\": \"#2a3f5f\"}, \"marker\": {\"line\": {\"color\": \"#E5ECF6\", \"width\": 0.5}}, \"type\": \"bar\"}], \"barpolar\": [{\"marker\": {\"line\": {\"color\": \"#E5ECF6\", \"width\": 0.5}}, \"type\": \"barpolar\"}], \"carpet\": [{\"aaxis\": {\"endlinecolor\": \"#2a3f5f\", \"gridcolor\": \"white\", \"linecolor\": \"white\", \"minorgridcolor\": \"white\", \"startlinecolor\": \"#2a3f5f\"}, \"baxis\": {\"endlinecolor\": \"#2a3f5f\", \"gridcolor\": \"white\", \"linecolor\": \"white\", \"minorgridcolor\": \"white\", \"startlinecolor\": \"#2a3f5f\"}, \"type\": \"carpet\"}], \"choropleth\": [{\"colorbar\": {\"outlinewidth\": 0, \"ticks\": \"\"}, \"type\": \"choropleth\"}], \"contour\": [{\"colorbar\": {\"outlinewidth\": 0, \"ticks\": \"\"}, \"colorscale\": [[0.0, \"#0d0887\"], [0.1111111111111111, \"#46039f\"], [0.2222222222222222, \"#7201a8\"], [0.3333333333333333, \"#9c179e\"], [0.4444444444444444, \"#bd3786\"], [0.5555555555555556, \"#d8576b\"], [0.6666666666666666, \"#ed7953\"], [0.7777777777777778, \"#fb9f3a\"], [0.8888888888888888, \"#fdca26\"], [1.0, \"#f0f921\"]], \"type\": \"contour\"}], \"contourcarpet\": [{\"colorbar\": {\"outlinewidth\": 0, \"ticks\": \"\"}, \"type\": \"contourcarpet\"}], \"heatmap\": [{\"colorbar\": {\"outlinewidth\": 0, \"ticks\": \"\"}, \"colorscale\": [[0.0, \"#0d0887\"], [0.1111111111111111, \"#46039f\"], [0.2222222222222222, \"#7201a8\"], [0.3333333333333333, \"#9c179e\"], [0.4444444444444444, \"#bd3786\"], [0.5555555555555556, \"#d8576b\"], [0.6666666666666666, \"#ed7953\"], [0.7777777777777778, \"#fb9f3a\"], [0.8888888888888888, \"#fdca26\"], [1.0, \"#f0f921\"]], \"type\": \"heatmap\"}], \"heatmapgl\": [{\"colorbar\": {\"outlinewidth\": 0, \"ticks\": \"\"}, \"colorscale\": [[0.0, \"#0d0887\"], [0.1111111111111111, \"#46039f\"], [0.2222222222222222, \"#7201a8\"], [0.3333333333333333, \"#9c179e\"], [0.4444444444444444, \"#bd3786\"], [0.5555555555555556, \"#d8576b\"], [0.6666666666666666, \"#ed7953\"], [0.7777777777777778, \"#fb9f3a\"], [0.8888888888888888, \"#fdca26\"], [1.0, \"#f0f921\"]], \"type\": \"heatmapgl\"}], \"histogram\": [{\"marker\": {\"colorbar\": {\"outlinewidth\": 0, \"ticks\": \"\"}}, \"type\": \"histogram\"}], \"histogram2d\": [{\"colorbar\": {\"outlinewidth\": 0, \"ticks\": \"\"}, \"colorscale\": [[0.0, \"#0d0887\"], [0.1111111111111111, \"#46039f\"], [0.2222222222222222, \"#7201a8\"], [0.3333333333333333, \"#9c179e\"], [0.4444444444444444, \"#bd3786\"], [0.5555555555555556, \"#d8576b\"], [0.6666666666666666, \"#ed7953\"], [0.7777777777777778, \"#fb9f3a\"], [0.8888888888888888, \"#fdca26\"], [1.0, \"#f0f921\"]], \"type\": \"histogram2d\"}], \"histogram2dcontour\": [{\"colorbar\": {\"outlinewidth\": 0, \"ticks\": \"\"}, \"colorscale\": [[0.0, \"#0d0887\"], [0.1111111111111111, \"#46039f\"], [0.2222222222222222, \"#7201a8\"], [0.3333333333333333, \"#9c179e\"], [0.4444444444444444, \"#bd3786\"], [0.5555555555555556, \"#d8576b\"], [0.6666666666666666, \"#ed7953\"], [0.7777777777777778, \"#fb9f3a\"], [0.8888888888888888, \"#fdca26\"], [1.0, \"#f0f921\"]], \"type\": \"histogram2dcontour\"}], \"mesh3d\": [{\"colorbar\": {\"outlinewidth\": 0, \"ticks\": \"\"}, \"type\": \"mesh3d\"}], \"parcoords\": [{\"line\": {\"colorbar\": {\"outlinewidth\": 0, \"ticks\": \"\"}}, \"type\": \"parcoords\"}], \"pie\": [{\"automargin\": true, \"type\": \"pie\"}], \"scatter\": [{\"marker\": {\"colorbar\": {\"outlinewidth\": 0, \"ticks\": \"\"}}, \"type\": \"scatter\"}], \"scatter3d\": [{\"line\": {\"colorbar\": {\"outlinewidth\": 0, \"ticks\": \"\"}}, \"marker\": {\"colorbar\": {\"outlinewidth\": 0, \"ticks\": \"\"}}, \"type\": \"scatter3d\"}], \"scattercarpet\": [{\"marker\": {\"colorbar\": {\"outlinewidth\": 0, \"ticks\": \"\"}}, \"type\": \"scattercarpet\"}], \"scattergeo\": [{\"marker\": {\"colorbar\": {\"outlinewidth\": 0, \"ticks\": \"\"}}, \"type\": \"scattergeo\"}], \"scattergl\": [{\"marker\": {\"colorbar\": {\"outlinewidth\": 0, \"ticks\": \"\"}}, \"type\": \"scattergl\"}], \"scattermapbox\": [{\"marker\": {\"colorbar\": {\"outlinewidth\": 0, \"ticks\": \"\"}}, \"type\": \"scattermapbox\"}], \"scatterpolar\": [{\"marker\": {\"colorbar\": {\"outlinewidth\": 0, \"ticks\": \"\"}}, \"type\": \"scatterpolar\"}], \"scatterpolargl\": [{\"marker\": {\"colorbar\": {\"outlinewidth\": 0, \"ticks\": \"\"}}, \"type\": \"scatterpolargl\"}], \"scatterternary\": [{\"marker\": {\"colorbar\": {\"outlinewidth\": 0, \"ticks\": \"\"}}, \"type\": \"scatterternary\"}], \"surface\": [{\"colorbar\": {\"outlinewidth\": 0, \"ticks\": \"\"}, \"colorscale\": [[0.0, \"#0d0887\"], [0.1111111111111111, \"#46039f\"], [0.2222222222222222, \"#7201a8\"], [0.3333333333333333, \"#9c179e\"], [0.4444444444444444, \"#bd3786\"], [0.5555555555555556, \"#d8576b\"], [0.6666666666666666, \"#ed7953\"], [0.7777777777777778, \"#fb9f3a\"], [0.8888888888888888, \"#fdca26\"], [1.0, \"#f0f921\"]], \"type\": \"surface\"}], \"table\": [{\"cells\": {\"fill\": {\"color\": \"#EBF0F8\"}, \"line\": {\"color\": \"white\"}}, \"header\": {\"fill\": {\"color\": \"#C8D4E3\"}, \"line\": {\"color\": \"white\"}}, \"type\": \"table\"}]}, \"layout\": {\"annotationdefaults\": {\"arrowcolor\": \"#2a3f5f\", \"arrowhead\": 0, \"arrowwidth\": 1}, \"coloraxis\": {\"colorbar\": {\"outlinewidth\": 0, \"ticks\": \"\"}}, \"colorscale\": {\"diverging\": [[0, \"#8e0152\"], [0.1, \"#c51b7d\"], [0.2, \"#de77ae\"], [0.3, \"#f1b6da\"], [0.4, \"#fde0ef\"], [0.5, \"#f7f7f7\"], [0.6, \"#e6f5d0\"], [0.7, \"#b8e186\"], [0.8, \"#7fbc41\"], [0.9, \"#4d9221\"], [1, \"#276419\"]], \"sequential\": [[0.0, \"#0d0887\"], [0.1111111111111111, \"#46039f\"], [0.2222222222222222, \"#7201a8\"], [0.3333333333333333, \"#9c179e\"], [0.4444444444444444, \"#bd3786\"], [0.5555555555555556, \"#d8576b\"], [0.6666666666666666, \"#ed7953\"], [0.7777777777777778, \"#fb9f3a\"], [0.8888888888888888, \"#fdca26\"], [1.0, \"#f0f921\"]], \"sequentialminus\": [[0.0, \"#0d0887\"], [0.1111111111111111, \"#46039f\"], [0.2222222222222222, \"#7201a8\"], [0.3333333333333333, \"#9c179e\"], [0.4444444444444444, \"#bd3786\"], [0.5555555555555556, \"#d8576b\"], [0.6666666666666666, \"#ed7953\"], [0.7777777777777778, \"#fb9f3a\"], [0.8888888888888888, \"#fdca26\"], [1.0, \"#f0f921\"]]}, \"colorway\": [\"#636efa\", \"#EF553B\", \"#00cc96\", \"#ab63fa\", \"#FFA15A\", \"#19d3f3\", \"#FF6692\", \"#B6E880\", \"#FF97FF\", \"#FECB52\"], \"font\": {\"color\": \"#2a3f5f\"}, \"geo\": {\"bgcolor\": \"white\", \"lakecolor\": \"white\", \"landcolor\": \"#E5ECF6\", \"showlakes\": true, \"showland\": true, \"subunitcolor\": \"white\"}, \"hoverlabel\": {\"align\": \"left\"}, \"hovermode\": \"closest\", \"mapbox\": {\"style\": \"light\"}, \"paper_bgcolor\": \"white\", \"plot_bgcolor\": \"#E5ECF6\", \"polar\": {\"angularaxis\": {\"gridcolor\": \"white\", \"linecolor\": \"white\", \"ticks\": \"\"}, \"bgcolor\": \"#E5ECF6\", \"radialaxis\": {\"gridcolor\": \"white\", \"linecolor\": \"white\", \"ticks\": \"\"}}, \"scene\": {\"xaxis\": {\"backgroundcolor\": \"#E5ECF6\", \"gridcolor\": \"white\", \"gridwidth\": 2, \"linecolor\": \"white\", \"showbackground\": true, \"ticks\": \"\", \"zerolinecolor\": \"white\"}, \"yaxis\": {\"backgroundcolor\": \"#E5ECF6\", \"gridcolor\": \"white\", \"gridwidth\": 2, \"linecolor\": \"white\", \"showbackground\": true, \"ticks\": \"\", \"zerolinecolor\": \"white\"}, \"zaxis\": {\"backgroundcolor\": \"#E5ECF6\", \"gridcolor\": \"white\", \"gridwidth\": 2, \"linecolor\": \"white\", \"showbackground\": true, \"ticks\": \"\", \"zerolinecolor\": \"white\"}}, \"shapedefaults\": {\"line\": {\"color\": \"#2a3f5f\"}}, \"ternary\": {\"aaxis\": {\"gridcolor\": \"white\", \"linecolor\": \"white\", \"ticks\": \"\"}, \"baxis\": {\"gridcolor\": \"white\", \"linecolor\": \"white\", \"ticks\": \"\"}, \"bgcolor\": \"#E5ECF6\", \"caxis\": {\"gridcolor\": \"white\", \"linecolor\": \"white\", \"ticks\": \"\"}}, \"title\": {\"x\": 0.05}, \"xaxis\": {\"automargin\": true, \"gridcolor\": \"white\", \"linecolor\": \"white\", \"ticks\": \"\", \"title\": {\"standoff\": 15}, \"zerolinecolor\": \"white\", \"zerolinewidth\": 2}, \"yaxis\": {\"automargin\": true, \"gridcolor\": \"white\", \"linecolor\": \"white\", \"ticks\": \"\", \"title\": {\"standoff\": 15}, \"zerolinecolor\": \"white\", \"zerolinewidth\": 2}}}, \"title\": {\"text\": \"Overview of Analysed Listings\"}},\n",
       "                        {\"responsive\": true}\n",
       "                    ).then(function(){\n",
       "                            \n",
       "var gd = document.getElementById('4f90f897-1554-4854-99c5-139ae7655226');\n",
       "var x = new MutationObserver(function (mutations, observer) {{\n",
       "        var display = window.getComputedStyle(gd).display;\n",
       "        if (!display || display === 'none') {{\n",
       "            console.log([gd, 'removed!']);\n",
       "            Plotly.purge(gd);\n",
       "            observer.disconnect();\n",
       "        }}\n",
       "}});\n",
       "\n",
       "// Listen for the removal of the full notebook cells\n",
       "var notebookContainer = gd.closest('#notebook-container');\n",
       "if (notebookContainer) {{\n",
       "    x.observe(notebookContainer, {childList: true});\n",
       "}}\n",
       "\n",
       "// Listen for the clearing of the current output cell\n",
       "var outputEl = gd.closest('.output');\n",
       "if (outputEl) {{\n",
       "    x.observe(outputEl, {childList: true});\n",
       "}}\n",
       "\n",
       "                        })\n",
       "                };\n",
       "                });\n",
       "            </script>\n",
       "        </div>"
      ]
     },
     "metadata": {},
     "output_type": "display_data"
    }
   ],
   "source": [
    "fig = go.Figure(go.Funnel(\n",
    "    y = ['All Scraped Listings', 'Listings with sufficient Information', 'Listings over rental cap'],\n",
    "    x = [len(data),len(legal_pricing) + len(illegal_pricing),len(illegal_pricing)],\n",
    "    text = [\"All\",\"Sufficient Info\", \"Overpriced\"],\n",
    "    opacity = 0.65, \n",
    "    marker = {\"color\": [\"silver\", \"green\", \"red\"]}\n",
    "    ))\n",
    "\n",
    "fig.update_layout(\n",
    "    title=\"Overview of Analysed Listings\")\n",
    "\n",
    "fig.show()"
   ]
  },
  {
   "cell_type": "code",
   "execution_count": null,
   "metadata": {},
   "outputs": [],
   "source": [
    "py.plot(fig, filename = 'funnel_listings', auto_open=True)"
   ]
  },
  {
   "cell_type": "markdown",
   "metadata": {},
   "source": [
    "### Average price before and after the law"
   ]
  },
  {
   "cell_type": "code",
   "execution_count": 58,
   "metadata": {},
   "outputs": [
    {
     "data": {
      "text/plain": [
       "15.116483831008976"
      ]
     },
     "execution_count": 58,
     "metadata": {},
     "output_type": "execute_result"
    }
   ],
   "source": [
    "matching['Kaltmiete pro m²'].mean()"
   ]
  },
  {
   "cell_type": "code",
   "execution_count": 59,
   "metadata": {},
   "outputs": [
    {
     "data": {
      "text/plain": [
       "9.209192649673984"
      ]
     },
     "execution_count": 59,
     "metadata": {},
     "output_type": "execute_result"
    }
   ],
   "source": [
    "matching['Zulässige Mietobergrenze pro m²'].mean()"
   ]
  },
  {
   "cell_type": "code",
   "execution_count": 60,
   "metadata": {},
   "outputs": [
    {
     "data": {
      "text/plain": [
       "0.3907847385261087"
      ]
     },
     "execution_count": 60,
     "metadata": {},
     "output_type": "execute_result"
    }
   ],
   "source": [
    "(matching['Kaltmiete pro m²'].mean() - matching['Zulässige Mietobergrenze pro m²'].mean())/ matching['Kaltmiete pro m²'].mean()"
   ]
  },
  {
   "cell_type": "markdown",
   "metadata": {},
   "source": [
    "### Pricing differenct between districts"
   ]
  },
  {
   "cell_type": "code",
   "execution_count": 61,
   "metadata": {},
   "outputs": [],
   "source": [
    "average_rent_difference_per_district = matching.groupby('Ortsteil')[['Kaltmiete pro m²','Zulässige Mietobergrenze pro m²']].mean().stack().reset_index()\n",
    "\n",
    "average_rent_difference_per_district.rename(columns={\n",
    "   'level_1':'Comparison', 0 :'Average Rent' \n",
    "}, inplace=True)"
   ]
  },
  {
   "cell_type": "code",
   "execution_count": 62,
   "metadata": {},
   "outputs": [
    {
     "data": {
      "application/vnd.plotly.v1+json": {
       "config": {
        "plotlyServerURL": "https://plot.ly"
       },
       "data": [
        {
         "alignmentgroup": "True",
         "hoverlabel": {
          "namelength": 0
         },
         "hovertemplate": "Comparison=Kaltmiete pro m²<br>Ortsteil=%{x}<br>Average Rent=%{y}",
         "legendgroup": "Comparison=Kaltmiete pro m²",
         "marker": {
          "color": "#636efa"
         },
         "name": "Comparison=Kaltmiete pro m²",
         "offsetgroup": "Comparison=Kaltmiete pro m²",
         "orientation": "v",
         "showlegend": true,
         "textposition": "auto",
         "type": "bar",
         "x": [
          "Alt-Treptow",
          "Charlottenburg",
          "Friedrichshain",
          "Hellersdorf",
          "Kreuzberg",
          "Köpenick",
          "Lichtenberg",
          "Marzahn",
          "Mitte",
          "Neukölln",
          "Pankow",
          "Prenzlauer Berg",
          "Reinickendorf",
          "Schöneberg",
          "Spandau",
          "Steglitz",
          "Tempelhof",
          "Tiergarten",
          "Wedding",
          "Weißensee",
          "Wilmersdorf",
          "Zehlendorf"
         ],
         "xaxis": "x",
         "y": [
          12.643975882912589,
          15.498014440214563,
          16.687257570930214,
          9.278913534388622,
          15.622569719220591,
          12.339116202314056,
          13.80459180279891,
          8.32232883293546,
          21.046672789133915,
          13.54402800314148,
          12.659062186068551,
          17.288076466544638,
          10.645053919970376,
          15.214295756702636,
          10.082141981846926,
          11.250967793167018,
          12.459297467181635,
          21.213387314282528,
          15.828407995788943,
          12.50824768167454,
          17.12402025054398,
          13.509277279509613
         ],
         "yaxis": "y"
        },
        {
         "alignmentgroup": "True",
         "hoverlabel": {
          "namelength": 0
         },
         "hovertemplate": "Comparison=Zulässige Mietobergrenze pro m²<br>Ortsteil=%{x}<br>Average Rent=%{y}",
         "legendgroup": "Comparison=Zulässige Mietobergrenze pro m²",
         "marker": {
          "color": "#EF553B"
         },
         "name": "Comparison=Zulässige Mietobergrenze pro m²",
         "offsetgroup": "Comparison=Zulässige Mietobergrenze pro m²",
         "orientation": "v",
         "showlegend": true,
         "textposition": "auto",
         "type": "bar",
         "x": [
          "Alt-Treptow",
          "Charlottenburg",
          "Friedrichshain",
          "Hellersdorf",
          "Kreuzberg",
          "Köpenick",
          "Lichtenberg",
          "Marzahn",
          "Mitte",
          "Neukölln",
          "Pankow",
          "Prenzlauer Berg",
          "Reinickendorf",
          "Schöneberg",
          "Spandau",
          "Steglitz",
          "Tempelhof",
          "Tiergarten",
          "Wedding",
          "Weißensee",
          "Wilmersdorf",
          "Zehlendorf"
         ],
         "xaxis": "x",
         "y": [
          8.939094339622637,
          9.41756521739131,
          9.088628571428567,
          8.870457831325306,
          8.461000000000002,
          9.487319999999997,
          8.945263157894734,
          8.272216216216217,
          10.732444444444438,
          8.477530434782611,
          9.806328358208953,
          9.605759999999991,
          9.221423076923074,
          9.176470588235292,
          8.675333333333334,
          9.195157894736838,
          8.854114285714283,
          9.100530612244903,
          8.486999999999998,
          9.5352,
          10.100437499999995,
          9.915857142857146
         ],
         "yaxis": "y"
        }
       ],
       "layout": {
        "barmode": "group",
        "height": 600,
        "legend": {
         "tracegroupgap": 0
        },
        "template": {
         "data": {
          "bar": [
           {
            "error_x": {
             "color": "#2a3f5f"
            },
            "error_y": {
             "color": "#2a3f5f"
            },
            "marker": {
             "line": {
              "color": "#E5ECF6",
              "width": 0.5
             }
            },
            "type": "bar"
           }
          ],
          "barpolar": [
           {
            "marker": {
             "line": {
              "color": "#E5ECF6",
              "width": 0.5
             }
            },
            "type": "barpolar"
           }
          ],
          "carpet": [
           {
            "aaxis": {
             "endlinecolor": "#2a3f5f",
             "gridcolor": "white",
             "linecolor": "white",
             "minorgridcolor": "white",
             "startlinecolor": "#2a3f5f"
            },
            "baxis": {
             "endlinecolor": "#2a3f5f",
             "gridcolor": "white",
             "linecolor": "white",
             "minorgridcolor": "white",
             "startlinecolor": "#2a3f5f"
            },
            "type": "carpet"
           }
          ],
          "choropleth": [
           {
            "colorbar": {
             "outlinewidth": 0,
             "ticks": ""
            },
            "type": "choropleth"
           }
          ],
          "contour": [
           {
            "colorbar": {
             "outlinewidth": 0,
             "ticks": ""
            },
            "colorscale": [
             [
              0,
              "#0d0887"
             ],
             [
              0.1111111111111111,
              "#46039f"
             ],
             [
              0.2222222222222222,
              "#7201a8"
             ],
             [
              0.3333333333333333,
              "#9c179e"
             ],
             [
              0.4444444444444444,
              "#bd3786"
             ],
             [
              0.5555555555555556,
              "#d8576b"
             ],
             [
              0.6666666666666666,
              "#ed7953"
             ],
             [
              0.7777777777777778,
              "#fb9f3a"
             ],
             [
              0.8888888888888888,
              "#fdca26"
             ],
             [
              1,
              "#f0f921"
             ]
            ],
            "type": "contour"
           }
          ],
          "contourcarpet": [
           {
            "colorbar": {
             "outlinewidth": 0,
             "ticks": ""
            },
            "type": "contourcarpet"
           }
          ],
          "heatmap": [
           {
            "colorbar": {
             "outlinewidth": 0,
             "ticks": ""
            },
            "colorscale": [
             [
              0,
              "#0d0887"
             ],
             [
              0.1111111111111111,
              "#46039f"
             ],
             [
              0.2222222222222222,
              "#7201a8"
             ],
             [
              0.3333333333333333,
              "#9c179e"
             ],
             [
              0.4444444444444444,
              "#bd3786"
             ],
             [
              0.5555555555555556,
              "#d8576b"
             ],
             [
              0.6666666666666666,
              "#ed7953"
             ],
             [
              0.7777777777777778,
              "#fb9f3a"
             ],
             [
              0.8888888888888888,
              "#fdca26"
             ],
             [
              1,
              "#f0f921"
             ]
            ],
            "type": "heatmap"
           }
          ],
          "heatmapgl": [
           {
            "colorbar": {
             "outlinewidth": 0,
             "ticks": ""
            },
            "colorscale": [
             [
              0,
              "#0d0887"
             ],
             [
              0.1111111111111111,
              "#46039f"
             ],
             [
              0.2222222222222222,
              "#7201a8"
             ],
             [
              0.3333333333333333,
              "#9c179e"
             ],
             [
              0.4444444444444444,
              "#bd3786"
             ],
             [
              0.5555555555555556,
              "#d8576b"
             ],
             [
              0.6666666666666666,
              "#ed7953"
             ],
             [
              0.7777777777777778,
              "#fb9f3a"
             ],
             [
              0.8888888888888888,
              "#fdca26"
             ],
             [
              1,
              "#f0f921"
             ]
            ],
            "type": "heatmapgl"
           }
          ],
          "histogram": [
           {
            "marker": {
             "colorbar": {
              "outlinewidth": 0,
              "ticks": ""
             }
            },
            "type": "histogram"
           }
          ],
          "histogram2d": [
           {
            "colorbar": {
             "outlinewidth": 0,
             "ticks": ""
            },
            "colorscale": [
             [
              0,
              "#0d0887"
             ],
             [
              0.1111111111111111,
              "#46039f"
             ],
             [
              0.2222222222222222,
              "#7201a8"
             ],
             [
              0.3333333333333333,
              "#9c179e"
             ],
             [
              0.4444444444444444,
              "#bd3786"
             ],
             [
              0.5555555555555556,
              "#d8576b"
             ],
             [
              0.6666666666666666,
              "#ed7953"
             ],
             [
              0.7777777777777778,
              "#fb9f3a"
             ],
             [
              0.8888888888888888,
              "#fdca26"
             ],
             [
              1,
              "#f0f921"
             ]
            ],
            "type": "histogram2d"
           }
          ],
          "histogram2dcontour": [
           {
            "colorbar": {
             "outlinewidth": 0,
             "ticks": ""
            },
            "colorscale": [
             [
              0,
              "#0d0887"
             ],
             [
              0.1111111111111111,
              "#46039f"
             ],
             [
              0.2222222222222222,
              "#7201a8"
             ],
             [
              0.3333333333333333,
              "#9c179e"
             ],
             [
              0.4444444444444444,
              "#bd3786"
             ],
             [
              0.5555555555555556,
              "#d8576b"
             ],
             [
              0.6666666666666666,
              "#ed7953"
             ],
             [
              0.7777777777777778,
              "#fb9f3a"
             ],
             [
              0.8888888888888888,
              "#fdca26"
             ],
             [
              1,
              "#f0f921"
             ]
            ],
            "type": "histogram2dcontour"
           }
          ],
          "mesh3d": [
           {
            "colorbar": {
             "outlinewidth": 0,
             "ticks": ""
            },
            "type": "mesh3d"
           }
          ],
          "parcoords": [
           {
            "line": {
             "colorbar": {
              "outlinewidth": 0,
              "ticks": ""
             }
            },
            "type": "parcoords"
           }
          ],
          "pie": [
           {
            "automargin": true,
            "type": "pie"
           }
          ],
          "scatter": [
           {
            "marker": {
             "colorbar": {
              "outlinewidth": 0,
              "ticks": ""
             }
            },
            "type": "scatter"
           }
          ],
          "scatter3d": [
           {
            "line": {
             "colorbar": {
              "outlinewidth": 0,
              "ticks": ""
             }
            },
            "marker": {
             "colorbar": {
              "outlinewidth": 0,
              "ticks": ""
             }
            },
            "type": "scatter3d"
           }
          ],
          "scattercarpet": [
           {
            "marker": {
             "colorbar": {
              "outlinewidth": 0,
              "ticks": ""
             }
            },
            "type": "scattercarpet"
           }
          ],
          "scattergeo": [
           {
            "marker": {
             "colorbar": {
              "outlinewidth": 0,
              "ticks": ""
             }
            },
            "type": "scattergeo"
           }
          ],
          "scattergl": [
           {
            "marker": {
             "colorbar": {
              "outlinewidth": 0,
              "ticks": ""
             }
            },
            "type": "scattergl"
           }
          ],
          "scattermapbox": [
           {
            "marker": {
             "colorbar": {
              "outlinewidth": 0,
              "ticks": ""
             }
            },
            "type": "scattermapbox"
           }
          ],
          "scatterpolar": [
           {
            "marker": {
             "colorbar": {
              "outlinewidth": 0,
              "ticks": ""
             }
            },
            "type": "scatterpolar"
           }
          ],
          "scatterpolargl": [
           {
            "marker": {
             "colorbar": {
              "outlinewidth": 0,
              "ticks": ""
             }
            },
            "type": "scatterpolargl"
           }
          ],
          "scatterternary": [
           {
            "marker": {
             "colorbar": {
              "outlinewidth": 0,
              "ticks": ""
             }
            },
            "type": "scatterternary"
           }
          ],
          "surface": [
           {
            "colorbar": {
             "outlinewidth": 0,
             "ticks": ""
            },
            "colorscale": [
             [
              0,
              "#0d0887"
             ],
             [
              0.1111111111111111,
              "#46039f"
             ],
             [
              0.2222222222222222,
              "#7201a8"
             ],
             [
              0.3333333333333333,
              "#9c179e"
             ],
             [
              0.4444444444444444,
              "#bd3786"
             ],
             [
              0.5555555555555556,
              "#d8576b"
             ],
             [
              0.6666666666666666,
              "#ed7953"
             ],
             [
              0.7777777777777778,
              "#fb9f3a"
             ],
             [
              0.8888888888888888,
              "#fdca26"
             ],
             [
              1,
              "#f0f921"
             ]
            ],
            "type": "surface"
           }
          ],
          "table": [
           {
            "cells": {
             "fill": {
              "color": "#EBF0F8"
             },
             "line": {
              "color": "white"
             }
            },
            "header": {
             "fill": {
              "color": "#C8D4E3"
             },
             "line": {
              "color": "white"
             }
            },
            "type": "table"
           }
          ]
         },
         "layout": {
          "annotationdefaults": {
           "arrowcolor": "#2a3f5f",
           "arrowhead": 0,
           "arrowwidth": 1
          },
          "coloraxis": {
           "colorbar": {
            "outlinewidth": 0,
            "ticks": ""
           }
          },
          "colorscale": {
           "diverging": [
            [
             0,
             "#8e0152"
            ],
            [
             0.1,
             "#c51b7d"
            ],
            [
             0.2,
             "#de77ae"
            ],
            [
             0.3,
             "#f1b6da"
            ],
            [
             0.4,
             "#fde0ef"
            ],
            [
             0.5,
             "#f7f7f7"
            ],
            [
             0.6,
             "#e6f5d0"
            ],
            [
             0.7,
             "#b8e186"
            ],
            [
             0.8,
             "#7fbc41"
            ],
            [
             0.9,
             "#4d9221"
            ],
            [
             1,
             "#276419"
            ]
           ],
           "sequential": [
            [
             0,
             "#0d0887"
            ],
            [
             0.1111111111111111,
             "#46039f"
            ],
            [
             0.2222222222222222,
             "#7201a8"
            ],
            [
             0.3333333333333333,
             "#9c179e"
            ],
            [
             0.4444444444444444,
             "#bd3786"
            ],
            [
             0.5555555555555556,
             "#d8576b"
            ],
            [
             0.6666666666666666,
             "#ed7953"
            ],
            [
             0.7777777777777778,
             "#fb9f3a"
            ],
            [
             0.8888888888888888,
             "#fdca26"
            ],
            [
             1,
             "#f0f921"
            ]
           ],
           "sequentialminus": [
            [
             0,
             "#0d0887"
            ],
            [
             0.1111111111111111,
             "#46039f"
            ],
            [
             0.2222222222222222,
             "#7201a8"
            ],
            [
             0.3333333333333333,
             "#9c179e"
            ],
            [
             0.4444444444444444,
             "#bd3786"
            ],
            [
             0.5555555555555556,
             "#d8576b"
            ],
            [
             0.6666666666666666,
             "#ed7953"
            ],
            [
             0.7777777777777778,
             "#fb9f3a"
            ],
            [
             0.8888888888888888,
             "#fdca26"
            ],
            [
             1,
             "#f0f921"
            ]
           ]
          },
          "colorway": [
           "#636efa",
           "#EF553B",
           "#00cc96",
           "#ab63fa",
           "#FFA15A",
           "#19d3f3",
           "#FF6692",
           "#B6E880",
           "#FF97FF",
           "#FECB52"
          ],
          "font": {
           "color": "#2a3f5f"
          },
          "geo": {
           "bgcolor": "white",
           "lakecolor": "white",
           "landcolor": "#E5ECF6",
           "showlakes": true,
           "showland": true,
           "subunitcolor": "white"
          },
          "hoverlabel": {
           "align": "left"
          },
          "hovermode": "closest",
          "mapbox": {
           "style": "light"
          },
          "paper_bgcolor": "white",
          "plot_bgcolor": "#E5ECF6",
          "polar": {
           "angularaxis": {
            "gridcolor": "white",
            "linecolor": "white",
            "ticks": ""
           },
           "bgcolor": "#E5ECF6",
           "radialaxis": {
            "gridcolor": "white",
            "linecolor": "white",
            "ticks": ""
           }
          },
          "scene": {
           "xaxis": {
            "backgroundcolor": "#E5ECF6",
            "gridcolor": "white",
            "gridwidth": 2,
            "linecolor": "white",
            "showbackground": true,
            "ticks": "",
            "zerolinecolor": "white"
           },
           "yaxis": {
            "backgroundcolor": "#E5ECF6",
            "gridcolor": "white",
            "gridwidth": 2,
            "linecolor": "white",
            "showbackground": true,
            "ticks": "",
            "zerolinecolor": "white"
           },
           "zaxis": {
            "backgroundcolor": "#E5ECF6",
            "gridcolor": "white",
            "gridwidth": 2,
            "linecolor": "white",
            "showbackground": true,
            "ticks": "",
            "zerolinecolor": "white"
           }
          },
          "shapedefaults": {
           "line": {
            "color": "#2a3f5f"
           }
          },
          "ternary": {
           "aaxis": {
            "gridcolor": "white",
            "linecolor": "white",
            "ticks": ""
           },
           "baxis": {
            "gridcolor": "white",
            "linecolor": "white",
            "ticks": ""
           },
           "bgcolor": "#E5ECF6",
           "caxis": {
            "gridcolor": "white",
            "linecolor": "white",
            "ticks": ""
           }
          },
          "title": {
           "x": 0.05
          },
          "xaxis": {
           "automargin": true,
           "gridcolor": "white",
           "linecolor": "white",
           "ticks": "",
           "title": {
            "standoff": 15
           },
           "zerolinecolor": "white",
           "zerolinewidth": 2
          },
          "yaxis": {
           "automargin": true,
           "gridcolor": "white",
           "linecolor": "white",
           "ticks": "",
           "title": {
            "standoff": 15
           },
           "zerolinecolor": "white",
           "zerolinewidth": 2
          }
         }
        },
        "title": {
         "text": "Comparison of Current and Newly Caculated Rent Cap per District"
        },
        "xaxis": {
         "anchor": "y",
         "domain": [
          0,
          1
         ],
         "title": {
          "text": "Ortsteil"
         }
        },
        "yaxis": {
         "anchor": "x",
         "domain": [
          0,
          1
         ],
         "title": {
          "text": "Average Rent"
         }
        }
       }
      },
      "text/html": [
       "<div>\n",
       "        \n",
       "        \n",
       "            <div id=\"d3d9fd40-7f5b-432a-9e60-414cfdafa88b\" class=\"plotly-graph-div\" style=\"height:600px; width:100%;\"></div>\n",
       "            <script type=\"text/javascript\">\n",
       "                require([\"plotly\"], function(Plotly) {\n",
       "                    window.PLOTLYENV=window.PLOTLYENV || {};\n",
       "                    \n",
       "                if (document.getElementById(\"d3d9fd40-7f5b-432a-9e60-414cfdafa88b\")) {\n",
       "                    Plotly.newPlot(\n",
       "                        'd3d9fd40-7f5b-432a-9e60-414cfdafa88b',\n",
       "                        [{\"alignmentgroup\": \"True\", \"hoverlabel\": {\"namelength\": 0}, \"hovertemplate\": \"Comparison=Kaltmiete pro m\\u00b2<br>Ortsteil=%{x}<br>Average Rent=%{y}\", \"legendgroup\": \"Comparison=Kaltmiete pro m\\u00b2\", \"marker\": {\"color\": \"#636efa\"}, \"name\": \"Comparison=Kaltmiete pro m\\u00b2\", \"offsetgroup\": \"Comparison=Kaltmiete pro m\\u00b2\", \"orientation\": \"v\", \"showlegend\": true, \"textposition\": \"auto\", \"type\": \"bar\", \"x\": [\"Alt-Treptow\", \"Charlottenburg\", \"Friedrichshain\", \"Hellersdorf\", \"Kreuzberg\", \"K\\u00f6penick\", \"Lichtenberg\", \"Marzahn\", \"Mitte\", \"Neuk\\u00f6lln\", \"Pankow\", \"Prenzlauer Berg\", \"Reinickendorf\", \"Sch\\u00f6neberg\", \"Spandau\", \"Steglitz\", \"Tempelhof\", \"Tiergarten\", \"Wedding\", \"Wei\\u00dfensee\", \"Wilmersdorf\", \"Zehlendorf\"], \"xaxis\": \"x\", \"y\": [12.643975882912589, 15.498014440214563, 16.687257570930214, 9.278913534388622, 15.622569719220591, 12.339116202314056, 13.80459180279891, 8.32232883293546, 21.046672789133915, 13.54402800314148, 12.659062186068551, 17.288076466544638, 10.645053919970376, 15.214295756702636, 10.082141981846926, 11.250967793167018, 12.459297467181635, 21.213387314282528, 15.828407995788943, 12.50824768167454, 17.12402025054398, 13.509277279509613], \"yaxis\": \"y\"}, {\"alignmentgroup\": \"True\", \"hoverlabel\": {\"namelength\": 0}, \"hovertemplate\": \"Comparison=Zul\\u00e4ssige Mietobergrenze pro m\\u00b2<br>Ortsteil=%{x}<br>Average Rent=%{y}\", \"legendgroup\": \"Comparison=Zul\\u00e4ssige Mietobergrenze pro m\\u00b2\", \"marker\": {\"color\": \"#EF553B\"}, \"name\": \"Comparison=Zul\\u00e4ssige Mietobergrenze pro m\\u00b2\", \"offsetgroup\": \"Comparison=Zul\\u00e4ssige Mietobergrenze pro m\\u00b2\", \"orientation\": \"v\", \"showlegend\": true, \"textposition\": \"auto\", \"type\": \"bar\", \"x\": [\"Alt-Treptow\", \"Charlottenburg\", \"Friedrichshain\", \"Hellersdorf\", \"Kreuzberg\", \"K\\u00f6penick\", \"Lichtenberg\", \"Marzahn\", \"Mitte\", \"Neuk\\u00f6lln\", \"Pankow\", \"Prenzlauer Berg\", \"Reinickendorf\", \"Sch\\u00f6neberg\", \"Spandau\", \"Steglitz\", \"Tempelhof\", \"Tiergarten\", \"Wedding\", \"Wei\\u00dfensee\", \"Wilmersdorf\", \"Zehlendorf\"], \"xaxis\": \"x\", \"y\": [8.939094339622637, 9.41756521739131, 9.088628571428567, 8.870457831325306, 8.461000000000002, 9.487319999999997, 8.945263157894734, 8.272216216216217, 10.732444444444438, 8.477530434782611, 9.806328358208953, 9.605759999999991, 9.221423076923074, 9.176470588235292, 8.675333333333334, 9.195157894736838, 8.854114285714283, 9.100530612244903, 8.486999999999998, 9.5352, 10.100437499999995, 9.915857142857146], \"yaxis\": \"y\"}],\n",
       "                        {\"barmode\": \"group\", \"height\": 600, \"legend\": {\"tracegroupgap\": 0}, \"template\": {\"data\": {\"bar\": [{\"error_x\": {\"color\": \"#2a3f5f\"}, \"error_y\": {\"color\": \"#2a3f5f\"}, \"marker\": {\"line\": {\"color\": \"#E5ECF6\", \"width\": 0.5}}, \"type\": \"bar\"}], \"barpolar\": [{\"marker\": {\"line\": {\"color\": \"#E5ECF6\", \"width\": 0.5}}, \"type\": \"barpolar\"}], \"carpet\": [{\"aaxis\": {\"endlinecolor\": \"#2a3f5f\", \"gridcolor\": \"white\", \"linecolor\": \"white\", \"minorgridcolor\": \"white\", \"startlinecolor\": \"#2a3f5f\"}, \"baxis\": {\"endlinecolor\": \"#2a3f5f\", \"gridcolor\": \"white\", \"linecolor\": \"white\", \"minorgridcolor\": \"white\", \"startlinecolor\": \"#2a3f5f\"}, \"type\": \"carpet\"}], \"choropleth\": [{\"colorbar\": {\"outlinewidth\": 0, \"ticks\": \"\"}, \"type\": \"choropleth\"}], \"contour\": [{\"colorbar\": {\"outlinewidth\": 0, \"ticks\": \"\"}, \"colorscale\": [[0.0, \"#0d0887\"], [0.1111111111111111, \"#46039f\"], [0.2222222222222222, \"#7201a8\"], [0.3333333333333333, \"#9c179e\"], [0.4444444444444444, \"#bd3786\"], [0.5555555555555556, \"#d8576b\"], [0.6666666666666666, \"#ed7953\"], [0.7777777777777778, \"#fb9f3a\"], [0.8888888888888888, \"#fdca26\"], [1.0, \"#f0f921\"]], \"type\": \"contour\"}], \"contourcarpet\": [{\"colorbar\": {\"outlinewidth\": 0, \"ticks\": \"\"}, \"type\": \"contourcarpet\"}], \"heatmap\": [{\"colorbar\": {\"outlinewidth\": 0, \"ticks\": \"\"}, \"colorscale\": [[0.0, \"#0d0887\"], [0.1111111111111111, \"#46039f\"], [0.2222222222222222, \"#7201a8\"], [0.3333333333333333, \"#9c179e\"], [0.4444444444444444, \"#bd3786\"], [0.5555555555555556, \"#d8576b\"], [0.6666666666666666, \"#ed7953\"], [0.7777777777777778, \"#fb9f3a\"], [0.8888888888888888, \"#fdca26\"], [1.0, \"#f0f921\"]], \"type\": \"heatmap\"}], \"heatmapgl\": [{\"colorbar\": {\"outlinewidth\": 0, \"ticks\": \"\"}, \"colorscale\": [[0.0, \"#0d0887\"], [0.1111111111111111, \"#46039f\"], [0.2222222222222222, \"#7201a8\"], [0.3333333333333333, \"#9c179e\"], [0.4444444444444444, \"#bd3786\"], [0.5555555555555556, \"#d8576b\"], [0.6666666666666666, \"#ed7953\"], [0.7777777777777778, \"#fb9f3a\"], [0.8888888888888888, \"#fdca26\"], [1.0, \"#f0f921\"]], \"type\": \"heatmapgl\"}], \"histogram\": [{\"marker\": {\"colorbar\": {\"outlinewidth\": 0, \"ticks\": \"\"}}, \"type\": \"histogram\"}], \"histogram2d\": [{\"colorbar\": {\"outlinewidth\": 0, \"ticks\": \"\"}, \"colorscale\": [[0.0, \"#0d0887\"], [0.1111111111111111, \"#46039f\"], [0.2222222222222222, \"#7201a8\"], [0.3333333333333333, \"#9c179e\"], [0.4444444444444444, \"#bd3786\"], [0.5555555555555556, \"#d8576b\"], [0.6666666666666666, \"#ed7953\"], [0.7777777777777778, \"#fb9f3a\"], [0.8888888888888888, \"#fdca26\"], [1.0, \"#f0f921\"]], \"type\": \"histogram2d\"}], \"histogram2dcontour\": [{\"colorbar\": {\"outlinewidth\": 0, \"ticks\": \"\"}, \"colorscale\": [[0.0, \"#0d0887\"], [0.1111111111111111, \"#46039f\"], [0.2222222222222222, \"#7201a8\"], [0.3333333333333333, \"#9c179e\"], [0.4444444444444444, \"#bd3786\"], [0.5555555555555556, \"#d8576b\"], [0.6666666666666666, \"#ed7953\"], [0.7777777777777778, \"#fb9f3a\"], [0.8888888888888888, \"#fdca26\"], [1.0, \"#f0f921\"]], \"type\": \"histogram2dcontour\"}], \"mesh3d\": [{\"colorbar\": {\"outlinewidth\": 0, \"ticks\": \"\"}, \"type\": \"mesh3d\"}], \"parcoords\": [{\"line\": {\"colorbar\": {\"outlinewidth\": 0, \"ticks\": \"\"}}, \"type\": \"parcoords\"}], \"pie\": [{\"automargin\": true, \"type\": \"pie\"}], \"scatter\": [{\"marker\": {\"colorbar\": {\"outlinewidth\": 0, \"ticks\": \"\"}}, \"type\": \"scatter\"}], \"scatter3d\": [{\"line\": {\"colorbar\": {\"outlinewidth\": 0, \"ticks\": \"\"}}, \"marker\": {\"colorbar\": {\"outlinewidth\": 0, \"ticks\": \"\"}}, \"type\": \"scatter3d\"}], \"scattercarpet\": [{\"marker\": {\"colorbar\": {\"outlinewidth\": 0, \"ticks\": \"\"}}, \"type\": \"scattercarpet\"}], \"scattergeo\": [{\"marker\": {\"colorbar\": {\"outlinewidth\": 0, \"ticks\": \"\"}}, \"type\": \"scattergeo\"}], \"scattergl\": [{\"marker\": {\"colorbar\": {\"outlinewidth\": 0, \"ticks\": \"\"}}, \"type\": \"scattergl\"}], \"scattermapbox\": [{\"marker\": {\"colorbar\": {\"outlinewidth\": 0, \"ticks\": \"\"}}, \"type\": \"scattermapbox\"}], \"scatterpolar\": [{\"marker\": {\"colorbar\": {\"outlinewidth\": 0, \"ticks\": \"\"}}, \"type\": \"scatterpolar\"}], \"scatterpolargl\": [{\"marker\": {\"colorbar\": {\"outlinewidth\": 0, \"ticks\": \"\"}}, \"type\": \"scatterpolargl\"}], \"scatterternary\": [{\"marker\": {\"colorbar\": {\"outlinewidth\": 0, \"ticks\": \"\"}}, \"type\": \"scatterternary\"}], \"surface\": [{\"colorbar\": {\"outlinewidth\": 0, \"ticks\": \"\"}, \"colorscale\": [[0.0, \"#0d0887\"], [0.1111111111111111, \"#46039f\"], [0.2222222222222222, \"#7201a8\"], [0.3333333333333333, \"#9c179e\"], [0.4444444444444444, \"#bd3786\"], [0.5555555555555556, \"#d8576b\"], [0.6666666666666666, \"#ed7953\"], [0.7777777777777778, \"#fb9f3a\"], [0.8888888888888888, \"#fdca26\"], [1.0, \"#f0f921\"]], \"type\": \"surface\"}], \"table\": [{\"cells\": {\"fill\": {\"color\": \"#EBF0F8\"}, \"line\": {\"color\": \"white\"}}, \"header\": {\"fill\": {\"color\": \"#C8D4E3\"}, \"line\": {\"color\": \"white\"}}, \"type\": \"table\"}]}, \"layout\": {\"annotationdefaults\": {\"arrowcolor\": \"#2a3f5f\", \"arrowhead\": 0, \"arrowwidth\": 1}, \"coloraxis\": {\"colorbar\": {\"outlinewidth\": 0, \"ticks\": \"\"}}, \"colorscale\": {\"diverging\": [[0, \"#8e0152\"], [0.1, \"#c51b7d\"], [0.2, \"#de77ae\"], [0.3, \"#f1b6da\"], [0.4, \"#fde0ef\"], [0.5, \"#f7f7f7\"], [0.6, \"#e6f5d0\"], [0.7, \"#b8e186\"], [0.8, \"#7fbc41\"], [0.9, \"#4d9221\"], [1, \"#276419\"]], \"sequential\": [[0.0, \"#0d0887\"], [0.1111111111111111, \"#46039f\"], [0.2222222222222222, \"#7201a8\"], [0.3333333333333333, \"#9c179e\"], [0.4444444444444444, \"#bd3786\"], [0.5555555555555556, \"#d8576b\"], [0.6666666666666666, \"#ed7953\"], [0.7777777777777778, \"#fb9f3a\"], [0.8888888888888888, \"#fdca26\"], [1.0, \"#f0f921\"]], \"sequentialminus\": [[0.0, \"#0d0887\"], [0.1111111111111111, \"#46039f\"], [0.2222222222222222, \"#7201a8\"], [0.3333333333333333, \"#9c179e\"], [0.4444444444444444, \"#bd3786\"], [0.5555555555555556, \"#d8576b\"], [0.6666666666666666, \"#ed7953\"], [0.7777777777777778, \"#fb9f3a\"], [0.8888888888888888, \"#fdca26\"], [1.0, \"#f0f921\"]]}, \"colorway\": [\"#636efa\", \"#EF553B\", \"#00cc96\", \"#ab63fa\", \"#FFA15A\", \"#19d3f3\", \"#FF6692\", \"#B6E880\", \"#FF97FF\", \"#FECB52\"], \"font\": {\"color\": \"#2a3f5f\"}, \"geo\": {\"bgcolor\": \"white\", \"lakecolor\": \"white\", \"landcolor\": \"#E5ECF6\", \"showlakes\": true, \"showland\": true, \"subunitcolor\": \"white\"}, \"hoverlabel\": {\"align\": \"left\"}, \"hovermode\": \"closest\", \"mapbox\": {\"style\": \"light\"}, \"paper_bgcolor\": \"white\", \"plot_bgcolor\": \"#E5ECF6\", \"polar\": {\"angularaxis\": {\"gridcolor\": \"white\", \"linecolor\": \"white\", \"ticks\": \"\"}, \"bgcolor\": \"#E5ECF6\", \"radialaxis\": {\"gridcolor\": \"white\", \"linecolor\": \"white\", \"ticks\": \"\"}}, \"scene\": {\"xaxis\": {\"backgroundcolor\": \"#E5ECF6\", \"gridcolor\": \"white\", \"gridwidth\": 2, \"linecolor\": \"white\", \"showbackground\": true, \"ticks\": \"\", \"zerolinecolor\": \"white\"}, \"yaxis\": {\"backgroundcolor\": \"#E5ECF6\", \"gridcolor\": \"white\", \"gridwidth\": 2, \"linecolor\": \"white\", \"showbackground\": true, \"ticks\": \"\", \"zerolinecolor\": \"white\"}, \"zaxis\": {\"backgroundcolor\": \"#E5ECF6\", \"gridcolor\": \"white\", \"gridwidth\": 2, \"linecolor\": \"white\", \"showbackground\": true, \"ticks\": \"\", \"zerolinecolor\": \"white\"}}, \"shapedefaults\": {\"line\": {\"color\": \"#2a3f5f\"}}, \"ternary\": {\"aaxis\": {\"gridcolor\": \"white\", \"linecolor\": \"white\", \"ticks\": \"\"}, \"baxis\": {\"gridcolor\": \"white\", \"linecolor\": \"white\", \"ticks\": \"\"}, \"bgcolor\": \"#E5ECF6\", \"caxis\": {\"gridcolor\": \"white\", \"linecolor\": \"white\", \"ticks\": \"\"}}, \"title\": {\"x\": 0.05}, \"xaxis\": {\"automargin\": true, \"gridcolor\": \"white\", \"linecolor\": \"white\", \"ticks\": \"\", \"title\": {\"standoff\": 15}, \"zerolinecolor\": \"white\", \"zerolinewidth\": 2}, \"yaxis\": {\"automargin\": true, \"gridcolor\": \"white\", \"linecolor\": \"white\", \"ticks\": \"\", \"title\": {\"standoff\": 15}, \"zerolinecolor\": \"white\", \"zerolinewidth\": 2}}}, \"title\": {\"text\": \"Comparison of Current and Newly Caculated Rent Cap per District\"}, \"xaxis\": {\"anchor\": \"y\", \"domain\": [0.0, 1.0], \"title\": {\"text\": \"Ortsteil\"}}, \"yaxis\": {\"anchor\": \"x\", \"domain\": [0.0, 1.0], \"title\": {\"text\": \"Average Rent\"}}},\n",
       "                        {\"responsive\": true}\n",
       "                    ).then(function(){\n",
       "                            \n",
       "var gd = document.getElementById('d3d9fd40-7f5b-432a-9e60-414cfdafa88b');\n",
       "var x = new MutationObserver(function (mutations, observer) {{\n",
       "        var display = window.getComputedStyle(gd).display;\n",
       "        if (!display || display === 'none') {{\n",
       "            console.log([gd, 'removed!']);\n",
       "            Plotly.purge(gd);\n",
       "            observer.disconnect();\n",
       "        }}\n",
       "}});\n",
       "\n",
       "// Listen for the removal of the full notebook cells\n",
       "var notebookContainer = gd.closest('#notebook-container');\n",
       "if (notebookContainer) {{\n",
       "    x.observe(notebookContainer, {childList: true});\n",
       "}}\n",
       "\n",
       "// Listen for the clearing of the current output cell\n",
       "var outputEl = gd.closest('.output');\n",
       "if (outputEl) {{\n",
       "    x.observe(outputEl, {childList: true});\n",
       "}}\n",
       "\n",
       "                        })\n",
       "                };\n",
       "                });\n",
       "            </script>\n",
       "        </div>"
      ]
     },
     "metadata": {},
     "output_type": "display_data"
    }
   ],
   "source": [
    "fig = px.bar(average_rent_difference_per_district, \n",
    "             x='Ortsteil', \n",
    "             y='Average Rent',\n",
    "             color='Comparison',\n",
    "             barmode='group',\n",
    "             title='Comparison of Current and Newly Caculated Rent Cap per District')\n",
    "fig.show()"
   ]
  },
  {
   "cell_type": "code",
   "execution_count": null,
   "metadata": {},
   "outputs": [],
   "source": [
    "py.plot(fig, filename = 'average_rent_difference_per_district', auto_open=True)"
   ]
  },
  {
   "cell_type": "code",
   "execution_count": 63,
   "metadata": {},
   "outputs": [],
   "source": [
    "percentage_rent_difference_per_district = matching.groupby('Ortsteil')[['Kaltmiete pro m²','Zulässige Mietobergrenze pro m²']].mean()\n",
    "\n",
    "percentage_rent_difference_per_district = pd.DataFrame((percentage_rent_difference_per_district['Kaltmiete pro m²'] - percentage_rent_difference_per_district['Zulässige Mietobergrenze pro m²']) / percentage_rent_difference_per_district['Kaltmiete pro m²']*100)\n",
    "\n",
    "percentage_rent_difference_per_district = percentage_rent_difference_per_district.rename(columns={0:'Percentage Change in Average Price'}).reset_index()\n",
    "\n",
    "percentage_rent_difference_per_district = percentage_rent_difference_per_district.sort_values(['Percentage Change in Average Price'],ascending=False)"
   ]
  },
  {
   "cell_type": "code",
   "execution_count": 64,
   "metadata": {},
   "outputs": [
    {
     "data": {
      "application/vnd.plotly.v1+json": {
       "config": {
        "plotlyServerURL": "https://plot.ly"
       },
       "data": [
        {
         "alignmentgroup": "True",
         "hoverlabel": {
          "namelength": 0
         },
         "hovertemplate": "Ortsteil=%{x}<br>Percentage Change in Average Price=%{y}",
         "legendgroup": "",
         "marker": {
          "color": "#636efa"
         },
         "name": "",
         "offsetgroup": "",
         "orientation": "v",
         "showlegend": false,
         "textposition": "auto",
         "type": "bar",
         "x": [
          "Tiergarten",
          "Mitte",
          "Wedding",
          "Kreuzberg",
          "Friedrichshain",
          "Prenzlauer Berg",
          "Wilmersdorf",
          "Schöneberg",
          "Charlottenburg",
          "Neukölln",
          "Lichtenberg",
          "Alt-Treptow",
          "Tempelhof",
          "Zehlendorf",
          "Weißensee",
          "Köpenick",
          "Pankow",
          "Steglitz",
          "Spandau",
          "Reinickendorf",
          "Hellersdorf",
          "Marzahn"
         ],
         "xaxis": "x",
         "y": [
          57.10005913992949,
          49.00645554776031,
          46.3812153296913,
          45.841176246502165,
          45.53551694880484,
          44.4370805590271,
          41.01596849210025,
          39.68520965426474,
          39.23373052902557,
          37.40761291385189,
          35.20081371706287,
          29.301554966557863,
          28.93568590816272,
          26.59964750374054,
          23.768698520659,
          23.11183520404191,
          22.535111890034525,
          18.272293870387955,
          13.953469917866409,
          13.373636749519294,
          4.401977683589103,
          0.6021465592770551
         ],
         "yaxis": "y"
        }
       ],
       "layout": {
        "barmode": "relative",
        "height": 600,
        "legend": {
         "tracegroupgap": 0
        },
        "template": {
         "data": {
          "bar": [
           {
            "error_x": {
             "color": "#2a3f5f"
            },
            "error_y": {
             "color": "#2a3f5f"
            },
            "marker": {
             "line": {
              "color": "#E5ECF6",
              "width": 0.5
             }
            },
            "type": "bar"
           }
          ],
          "barpolar": [
           {
            "marker": {
             "line": {
              "color": "#E5ECF6",
              "width": 0.5
             }
            },
            "type": "barpolar"
           }
          ],
          "carpet": [
           {
            "aaxis": {
             "endlinecolor": "#2a3f5f",
             "gridcolor": "white",
             "linecolor": "white",
             "minorgridcolor": "white",
             "startlinecolor": "#2a3f5f"
            },
            "baxis": {
             "endlinecolor": "#2a3f5f",
             "gridcolor": "white",
             "linecolor": "white",
             "minorgridcolor": "white",
             "startlinecolor": "#2a3f5f"
            },
            "type": "carpet"
           }
          ],
          "choropleth": [
           {
            "colorbar": {
             "outlinewidth": 0,
             "ticks": ""
            },
            "type": "choropleth"
           }
          ],
          "contour": [
           {
            "colorbar": {
             "outlinewidth": 0,
             "ticks": ""
            },
            "colorscale": [
             [
              0,
              "#0d0887"
             ],
             [
              0.1111111111111111,
              "#46039f"
             ],
             [
              0.2222222222222222,
              "#7201a8"
             ],
             [
              0.3333333333333333,
              "#9c179e"
             ],
             [
              0.4444444444444444,
              "#bd3786"
             ],
             [
              0.5555555555555556,
              "#d8576b"
             ],
             [
              0.6666666666666666,
              "#ed7953"
             ],
             [
              0.7777777777777778,
              "#fb9f3a"
             ],
             [
              0.8888888888888888,
              "#fdca26"
             ],
             [
              1,
              "#f0f921"
             ]
            ],
            "type": "contour"
           }
          ],
          "contourcarpet": [
           {
            "colorbar": {
             "outlinewidth": 0,
             "ticks": ""
            },
            "type": "contourcarpet"
           }
          ],
          "heatmap": [
           {
            "colorbar": {
             "outlinewidth": 0,
             "ticks": ""
            },
            "colorscale": [
             [
              0,
              "#0d0887"
             ],
             [
              0.1111111111111111,
              "#46039f"
             ],
             [
              0.2222222222222222,
              "#7201a8"
             ],
             [
              0.3333333333333333,
              "#9c179e"
             ],
             [
              0.4444444444444444,
              "#bd3786"
             ],
             [
              0.5555555555555556,
              "#d8576b"
             ],
             [
              0.6666666666666666,
              "#ed7953"
             ],
             [
              0.7777777777777778,
              "#fb9f3a"
             ],
             [
              0.8888888888888888,
              "#fdca26"
             ],
             [
              1,
              "#f0f921"
             ]
            ],
            "type": "heatmap"
           }
          ],
          "heatmapgl": [
           {
            "colorbar": {
             "outlinewidth": 0,
             "ticks": ""
            },
            "colorscale": [
             [
              0,
              "#0d0887"
             ],
             [
              0.1111111111111111,
              "#46039f"
             ],
             [
              0.2222222222222222,
              "#7201a8"
             ],
             [
              0.3333333333333333,
              "#9c179e"
             ],
             [
              0.4444444444444444,
              "#bd3786"
             ],
             [
              0.5555555555555556,
              "#d8576b"
             ],
             [
              0.6666666666666666,
              "#ed7953"
             ],
             [
              0.7777777777777778,
              "#fb9f3a"
             ],
             [
              0.8888888888888888,
              "#fdca26"
             ],
             [
              1,
              "#f0f921"
             ]
            ],
            "type": "heatmapgl"
           }
          ],
          "histogram": [
           {
            "marker": {
             "colorbar": {
              "outlinewidth": 0,
              "ticks": ""
             }
            },
            "type": "histogram"
           }
          ],
          "histogram2d": [
           {
            "colorbar": {
             "outlinewidth": 0,
             "ticks": ""
            },
            "colorscale": [
             [
              0,
              "#0d0887"
             ],
             [
              0.1111111111111111,
              "#46039f"
             ],
             [
              0.2222222222222222,
              "#7201a8"
             ],
             [
              0.3333333333333333,
              "#9c179e"
             ],
             [
              0.4444444444444444,
              "#bd3786"
             ],
             [
              0.5555555555555556,
              "#d8576b"
             ],
             [
              0.6666666666666666,
              "#ed7953"
             ],
             [
              0.7777777777777778,
              "#fb9f3a"
             ],
             [
              0.8888888888888888,
              "#fdca26"
             ],
             [
              1,
              "#f0f921"
             ]
            ],
            "type": "histogram2d"
           }
          ],
          "histogram2dcontour": [
           {
            "colorbar": {
             "outlinewidth": 0,
             "ticks": ""
            },
            "colorscale": [
             [
              0,
              "#0d0887"
             ],
             [
              0.1111111111111111,
              "#46039f"
             ],
             [
              0.2222222222222222,
              "#7201a8"
             ],
             [
              0.3333333333333333,
              "#9c179e"
             ],
             [
              0.4444444444444444,
              "#bd3786"
             ],
             [
              0.5555555555555556,
              "#d8576b"
             ],
             [
              0.6666666666666666,
              "#ed7953"
             ],
             [
              0.7777777777777778,
              "#fb9f3a"
             ],
             [
              0.8888888888888888,
              "#fdca26"
             ],
             [
              1,
              "#f0f921"
             ]
            ],
            "type": "histogram2dcontour"
           }
          ],
          "mesh3d": [
           {
            "colorbar": {
             "outlinewidth": 0,
             "ticks": ""
            },
            "type": "mesh3d"
           }
          ],
          "parcoords": [
           {
            "line": {
             "colorbar": {
              "outlinewidth": 0,
              "ticks": ""
             }
            },
            "type": "parcoords"
           }
          ],
          "pie": [
           {
            "automargin": true,
            "type": "pie"
           }
          ],
          "scatter": [
           {
            "marker": {
             "colorbar": {
              "outlinewidth": 0,
              "ticks": ""
             }
            },
            "type": "scatter"
           }
          ],
          "scatter3d": [
           {
            "line": {
             "colorbar": {
              "outlinewidth": 0,
              "ticks": ""
             }
            },
            "marker": {
             "colorbar": {
              "outlinewidth": 0,
              "ticks": ""
             }
            },
            "type": "scatter3d"
           }
          ],
          "scattercarpet": [
           {
            "marker": {
             "colorbar": {
              "outlinewidth": 0,
              "ticks": ""
             }
            },
            "type": "scattercarpet"
           }
          ],
          "scattergeo": [
           {
            "marker": {
             "colorbar": {
              "outlinewidth": 0,
              "ticks": ""
             }
            },
            "type": "scattergeo"
           }
          ],
          "scattergl": [
           {
            "marker": {
             "colorbar": {
              "outlinewidth": 0,
              "ticks": ""
             }
            },
            "type": "scattergl"
           }
          ],
          "scattermapbox": [
           {
            "marker": {
             "colorbar": {
              "outlinewidth": 0,
              "ticks": ""
             }
            },
            "type": "scattermapbox"
           }
          ],
          "scatterpolar": [
           {
            "marker": {
             "colorbar": {
              "outlinewidth": 0,
              "ticks": ""
             }
            },
            "type": "scatterpolar"
           }
          ],
          "scatterpolargl": [
           {
            "marker": {
             "colorbar": {
              "outlinewidth": 0,
              "ticks": ""
             }
            },
            "type": "scatterpolargl"
           }
          ],
          "scatterternary": [
           {
            "marker": {
             "colorbar": {
              "outlinewidth": 0,
              "ticks": ""
             }
            },
            "type": "scatterternary"
           }
          ],
          "surface": [
           {
            "colorbar": {
             "outlinewidth": 0,
             "ticks": ""
            },
            "colorscale": [
             [
              0,
              "#0d0887"
             ],
             [
              0.1111111111111111,
              "#46039f"
             ],
             [
              0.2222222222222222,
              "#7201a8"
             ],
             [
              0.3333333333333333,
              "#9c179e"
             ],
             [
              0.4444444444444444,
              "#bd3786"
             ],
             [
              0.5555555555555556,
              "#d8576b"
             ],
             [
              0.6666666666666666,
              "#ed7953"
             ],
             [
              0.7777777777777778,
              "#fb9f3a"
             ],
             [
              0.8888888888888888,
              "#fdca26"
             ],
             [
              1,
              "#f0f921"
             ]
            ],
            "type": "surface"
           }
          ],
          "table": [
           {
            "cells": {
             "fill": {
              "color": "#EBF0F8"
             },
             "line": {
              "color": "white"
             }
            },
            "header": {
             "fill": {
              "color": "#C8D4E3"
             },
             "line": {
              "color": "white"
             }
            },
            "type": "table"
           }
          ]
         },
         "layout": {
          "annotationdefaults": {
           "arrowcolor": "#2a3f5f",
           "arrowhead": 0,
           "arrowwidth": 1
          },
          "coloraxis": {
           "colorbar": {
            "outlinewidth": 0,
            "ticks": ""
           }
          },
          "colorscale": {
           "diverging": [
            [
             0,
             "#8e0152"
            ],
            [
             0.1,
             "#c51b7d"
            ],
            [
             0.2,
             "#de77ae"
            ],
            [
             0.3,
             "#f1b6da"
            ],
            [
             0.4,
             "#fde0ef"
            ],
            [
             0.5,
             "#f7f7f7"
            ],
            [
             0.6,
             "#e6f5d0"
            ],
            [
             0.7,
             "#b8e186"
            ],
            [
             0.8,
             "#7fbc41"
            ],
            [
             0.9,
             "#4d9221"
            ],
            [
             1,
             "#276419"
            ]
           ],
           "sequential": [
            [
             0,
             "#0d0887"
            ],
            [
             0.1111111111111111,
             "#46039f"
            ],
            [
             0.2222222222222222,
             "#7201a8"
            ],
            [
             0.3333333333333333,
             "#9c179e"
            ],
            [
             0.4444444444444444,
             "#bd3786"
            ],
            [
             0.5555555555555556,
             "#d8576b"
            ],
            [
             0.6666666666666666,
             "#ed7953"
            ],
            [
             0.7777777777777778,
             "#fb9f3a"
            ],
            [
             0.8888888888888888,
             "#fdca26"
            ],
            [
             1,
             "#f0f921"
            ]
           ],
           "sequentialminus": [
            [
             0,
             "#0d0887"
            ],
            [
             0.1111111111111111,
             "#46039f"
            ],
            [
             0.2222222222222222,
             "#7201a8"
            ],
            [
             0.3333333333333333,
             "#9c179e"
            ],
            [
             0.4444444444444444,
             "#bd3786"
            ],
            [
             0.5555555555555556,
             "#d8576b"
            ],
            [
             0.6666666666666666,
             "#ed7953"
            ],
            [
             0.7777777777777778,
             "#fb9f3a"
            ],
            [
             0.8888888888888888,
             "#fdca26"
            ],
            [
             1,
             "#f0f921"
            ]
           ]
          },
          "colorway": [
           "#636efa",
           "#EF553B",
           "#00cc96",
           "#ab63fa",
           "#FFA15A",
           "#19d3f3",
           "#FF6692",
           "#B6E880",
           "#FF97FF",
           "#FECB52"
          ],
          "font": {
           "color": "#2a3f5f"
          },
          "geo": {
           "bgcolor": "white",
           "lakecolor": "white",
           "landcolor": "#E5ECF6",
           "showlakes": true,
           "showland": true,
           "subunitcolor": "white"
          },
          "hoverlabel": {
           "align": "left"
          },
          "hovermode": "closest",
          "mapbox": {
           "style": "light"
          },
          "paper_bgcolor": "white",
          "plot_bgcolor": "#E5ECF6",
          "polar": {
           "angularaxis": {
            "gridcolor": "white",
            "linecolor": "white",
            "ticks": ""
           },
           "bgcolor": "#E5ECF6",
           "radialaxis": {
            "gridcolor": "white",
            "linecolor": "white",
            "ticks": ""
           }
          },
          "scene": {
           "xaxis": {
            "backgroundcolor": "#E5ECF6",
            "gridcolor": "white",
            "gridwidth": 2,
            "linecolor": "white",
            "showbackground": true,
            "ticks": "",
            "zerolinecolor": "white"
           },
           "yaxis": {
            "backgroundcolor": "#E5ECF6",
            "gridcolor": "white",
            "gridwidth": 2,
            "linecolor": "white",
            "showbackground": true,
            "ticks": "",
            "zerolinecolor": "white"
           },
           "zaxis": {
            "backgroundcolor": "#E5ECF6",
            "gridcolor": "white",
            "gridwidth": 2,
            "linecolor": "white",
            "showbackground": true,
            "ticks": "",
            "zerolinecolor": "white"
           }
          },
          "shapedefaults": {
           "line": {
            "color": "#2a3f5f"
           }
          },
          "ternary": {
           "aaxis": {
            "gridcolor": "white",
            "linecolor": "white",
            "ticks": ""
           },
           "baxis": {
            "gridcolor": "white",
            "linecolor": "white",
            "ticks": ""
           },
           "bgcolor": "#E5ECF6",
           "caxis": {
            "gridcolor": "white",
            "linecolor": "white",
            "ticks": ""
           }
          },
          "title": {
           "x": 0.05
          },
          "xaxis": {
           "automargin": true,
           "gridcolor": "white",
           "linecolor": "white",
           "ticks": "",
           "title": {
            "standoff": 15
           },
           "zerolinecolor": "white",
           "zerolinewidth": 2
          },
          "yaxis": {
           "automargin": true,
           "gridcolor": "white",
           "linecolor": "white",
           "ticks": "",
           "title": {
            "standoff": 15
           },
           "zerolinecolor": "white",
           "zerolinewidth": 2
          }
         }
        },
        "title": {
         "text": "Comparison of Price Change per District"
        },
        "xaxis": {
         "anchor": "y",
         "domain": [
          0,
          1
         ],
         "title": {
          "text": "Ortsteil"
         }
        },
        "yaxis": {
         "anchor": "x",
         "domain": [
          0,
          1
         ],
         "title": {
          "text": "Percentage Change in Average Price"
         }
        }
       }
      },
      "text/html": [
       "<div>\n",
       "        \n",
       "        \n",
       "            <div id=\"34a5e45a-f103-4961-8ea6-5950f670418d\" class=\"plotly-graph-div\" style=\"height:600px; width:100%;\"></div>\n",
       "            <script type=\"text/javascript\">\n",
       "                require([\"plotly\"], function(Plotly) {\n",
       "                    window.PLOTLYENV=window.PLOTLYENV || {};\n",
       "                    \n",
       "                if (document.getElementById(\"34a5e45a-f103-4961-8ea6-5950f670418d\")) {\n",
       "                    Plotly.newPlot(\n",
       "                        '34a5e45a-f103-4961-8ea6-5950f670418d',\n",
       "                        [{\"alignmentgroup\": \"True\", \"hoverlabel\": {\"namelength\": 0}, \"hovertemplate\": \"Ortsteil=%{x}<br>Percentage Change in Average Price=%{y}\", \"legendgroup\": \"\", \"marker\": {\"color\": \"#636efa\"}, \"name\": \"\", \"offsetgroup\": \"\", \"orientation\": \"v\", \"showlegend\": false, \"textposition\": \"auto\", \"type\": \"bar\", \"x\": [\"Tiergarten\", \"Mitte\", \"Wedding\", \"Kreuzberg\", \"Friedrichshain\", \"Prenzlauer Berg\", \"Wilmersdorf\", \"Sch\\u00f6neberg\", \"Charlottenburg\", \"Neuk\\u00f6lln\", \"Lichtenberg\", \"Alt-Treptow\", \"Tempelhof\", \"Zehlendorf\", \"Wei\\u00dfensee\", \"K\\u00f6penick\", \"Pankow\", \"Steglitz\", \"Spandau\", \"Reinickendorf\", \"Hellersdorf\", \"Marzahn\"], \"xaxis\": \"x\", \"y\": [57.10005913992949, 49.00645554776031, 46.3812153296913, 45.841176246502165, 45.53551694880484, 44.4370805590271, 41.01596849210025, 39.68520965426474, 39.23373052902557, 37.40761291385189, 35.20081371706287, 29.301554966557863, 28.93568590816272, 26.59964750374054, 23.768698520659, 23.11183520404191, 22.535111890034525, 18.272293870387955, 13.953469917866409, 13.373636749519294, 4.401977683589103, 0.6021465592770551], \"yaxis\": \"y\"}],\n",
       "                        {\"barmode\": \"relative\", \"height\": 600, \"legend\": {\"tracegroupgap\": 0}, \"template\": {\"data\": {\"bar\": [{\"error_x\": {\"color\": \"#2a3f5f\"}, \"error_y\": {\"color\": \"#2a3f5f\"}, \"marker\": {\"line\": {\"color\": \"#E5ECF6\", \"width\": 0.5}}, \"type\": \"bar\"}], \"barpolar\": [{\"marker\": {\"line\": {\"color\": \"#E5ECF6\", \"width\": 0.5}}, \"type\": \"barpolar\"}], \"carpet\": [{\"aaxis\": {\"endlinecolor\": \"#2a3f5f\", \"gridcolor\": \"white\", \"linecolor\": \"white\", \"minorgridcolor\": \"white\", \"startlinecolor\": \"#2a3f5f\"}, \"baxis\": {\"endlinecolor\": \"#2a3f5f\", \"gridcolor\": \"white\", \"linecolor\": \"white\", \"minorgridcolor\": \"white\", \"startlinecolor\": \"#2a3f5f\"}, \"type\": \"carpet\"}], \"choropleth\": [{\"colorbar\": {\"outlinewidth\": 0, \"ticks\": \"\"}, \"type\": \"choropleth\"}], \"contour\": [{\"colorbar\": {\"outlinewidth\": 0, \"ticks\": \"\"}, \"colorscale\": [[0.0, \"#0d0887\"], [0.1111111111111111, \"#46039f\"], [0.2222222222222222, \"#7201a8\"], [0.3333333333333333, \"#9c179e\"], [0.4444444444444444, \"#bd3786\"], [0.5555555555555556, \"#d8576b\"], [0.6666666666666666, \"#ed7953\"], [0.7777777777777778, \"#fb9f3a\"], [0.8888888888888888, \"#fdca26\"], [1.0, \"#f0f921\"]], \"type\": \"contour\"}], \"contourcarpet\": [{\"colorbar\": {\"outlinewidth\": 0, \"ticks\": \"\"}, \"type\": \"contourcarpet\"}], \"heatmap\": [{\"colorbar\": {\"outlinewidth\": 0, \"ticks\": \"\"}, \"colorscale\": [[0.0, \"#0d0887\"], [0.1111111111111111, \"#46039f\"], [0.2222222222222222, \"#7201a8\"], [0.3333333333333333, \"#9c179e\"], [0.4444444444444444, \"#bd3786\"], [0.5555555555555556, \"#d8576b\"], [0.6666666666666666, \"#ed7953\"], [0.7777777777777778, \"#fb9f3a\"], [0.8888888888888888, \"#fdca26\"], [1.0, \"#f0f921\"]], \"type\": \"heatmap\"}], \"heatmapgl\": [{\"colorbar\": {\"outlinewidth\": 0, \"ticks\": \"\"}, \"colorscale\": [[0.0, \"#0d0887\"], [0.1111111111111111, \"#46039f\"], [0.2222222222222222, \"#7201a8\"], [0.3333333333333333, \"#9c179e\"], [0.4444444444444444, \"#bd3786\"], [0.5555555555555556, \"#d8576b\"], [0.6666666666666666, \"#ed7953\"], [0.7777777777777778, \"#fb9f3a\"], [0.8888888888888888, \"#fdca26\"], [1.0, \"#f0f921\"]], \"type\": \"heatmapgl\"}], \"histogram\": [{\"marker\": {\"colorbar\": {\"outlinewidth\": 0, \"ticks\": \"\"}}, \"type\": \"histogram\"}], \"histogram2d\": [{\"colorbar\": {\"outlinewidth\": 0, \"ticks\": \"\"}, \"colorscale\": [[0.0, \"#0d0887\"], [0.1111111111111111, \"#46039f\"], [0.2222222222222222, \"#7201a8\"], [0.3333333333333333, \"#9c179e\"], [0.4444444444444444, \"#bd3786\"], [0.5555555555555556, \"#d8576b\"], [0.6666666666666666, \"#ed7953\"], [0.7777777777777778, \"#fb9f3a\"], [0.8888888888888888, \"#fdca26\"], [1.0, \"#f0f921\"]], \"type\": \"histogram2d\"}], \"histogram2dcontour\": [{\"colorbar\": {\"outlinewidth\": 0, \"ticks\": \"\"}, \"colorscale\": [[0.0, \"#0d0887\"], [0.1111111111111111, \"#46039f\"], [0.2222222222222222, \"#7201a8\"], [0.3333333333333333, \"#9c179e\"], [0.4444444444444444, \"#bd3786\"], [0.5555555555555556, \"#d8576b\"], [0.6666666666666666, \"#ed7953\"], [0.7777777777777778, \"#fb9f3a\"], [0.8888888888888888, \"#fdca26\"], [1.0, \"#f0f921\"]], \"type\": \"histogram2dcontour\"}], \"mesh3d\": [{\"colorbar\": {\"outlinewidth\": 0, \"ticks\": \"\"}, \"type\": \"mesh3d\"}], \"parcoords\": [{\"line\": {\"colorbar\": {\"outlinewidth\": 0, \"ticks\": \"\"}}, \"type\": \"parcoords\"}], \"pie\": [{\"automargin\": true, \"type\": \"pie\"}], \"scatter\": [{\"marker\": {\"colorbar\": {\"outlinewidth\": 0, \"ticks\": \"\"}}, \"type\": \"scatter\"}], \"scatter3d\": [{\"line\": {\"colorbar\": {\"outlinewidth\": 0, \"ticks\": \"\"}}, \"marker\": {\"colorbar\": {\"outlinewidth\": 0, \"ticks\": \"\"}}, \"type\": \"scatter3d\"}], \"scattercarpet\": [{\"marker\": {\"colorbar\": {\"outlinewidth\": 0, \"ticks\": \"\"}}, \"type\": \"scattercarpet\"}], \"scattergeo\": [{\"marker\": {\"colorbar\": {\"outlinewidth\": 0, \"ticks\": \"\"}}, \"type\": \"scattergeo\"}], \"scattergl\": [{\"marker\": {\"colorbar\": {\"outlinewidth\": 0, \"ticks\": \"\"}}, \"type\": \"scattergl\"}], \"scattermapbox\": [{\"marker\": {\"colorbar\": {\"outlinewidth\": 0, \"ticks\": \"\"}}, \"type\": \"scattermapbox\"}], \"scatterpolar\": [{\"marker\": {\"colorbar\": {\"outlinewidth\": 0, \"ticks\": \"\"}}, \"type\": \"scatterpolar\"}], \"scatterpolargl\": [{\"marker\": {\"colorbar\": {\"outlinewidth\": 0, \"ticks\": \"\"}}, \"type\": \"scatterpolargl\"}], \"scatterternary\": [{\"marker\": {\"colorbar\": {\"outlinewidth\": 0, \"ticks\": \"\"}}, \"type\": \"scatterternary\"}], \"surface\": [{\"colorbar\": {\"outlinewidth\": 0, \"ticks\": \"\"}, \"colorscale\": [[0.0, \"#0d0887\"], [0.1111111111111111, \"#46039f\"], [0.2222222222222222, \"#7201a8\"], [0.3333333333333333, \"#9c179e\"], [0.4444444444444444, \"#bd3786\"], [0.5555555555555556, \"#d8576b\"], [0.6666666666666666, \"#ed7953\"], [0.7777777777777778, \"#fb9f3a\"], [0.8888888888888888, \"#fdca26\"], [1.0, \"#f0f921\"]], \"type\": \"surface\"}], \"table\": [{\"cells\": {\"fill\": {\"color\": \"#EBF0F8\"}, \"line\": {\"color\": \"white\"}}, \"header\": {\"fill\": {\"color\": \"#C8D4E3\"}, \"line\": {\"color\": \"white\"}}, \"type\": \"table\"}]}, \"layout\": {\"annotationdefaults\": {\"arrowcolor\": \"#2a3f5f\", \"arrowhead\": 0, \"arrowwidth\": 1}, \"coloraxis\": {\"colorbar\": {\"outlinewidth\": 0, \"ticks\": \"\"}}, \"colorscale\": {\"diverging\": [[0, \"#8e0152\"], [0.1, \"#c51b7d\"], [0.2, \"#de77ae\"], [0.3, \"#f1b6da\"], [0.4, \"#fde0ef\"], [0.5, \"#f7f7f7\"], [0.6, \"#e6f5d0\"], [0.7, \"#b8e186\"], [0.8, \"#7fbc41\"], [0.9, \"#4d9221\"], [1, \"#276419\"]], \"sequential\": [[0.0, \"#0d0887\"], [0.1111111111111111, \"#46039f\"], [0.2222222222222222, \"#7201a8\"], [0.3333333333333333, \"#9c179e\"], [0.4444444444444444, \"#bd3786\"], [0.5555555555555556, \"#d8576b\"], [0.6666666666666666, \"#ed7953\"], [0.7777777777777778, \"#fb9f3a\"], [0.8888888888888888, \"#fdca26\"], [1.0, \"#f0f921\"]], \"sequentialminus\": [[0.0, \"#0d0887\"], [0.1111111111111111, \"#46039f\"], [0.2222222222222222, \"#7201a8\"], [0.3333333333333333, \"#9c179e\"], [0.4444444444444444, \"#bd3786\"], [0.5555555555555556, \"#d8576b\"], [0.6666666666666666, \"#ed7953\"], [0.7777777777777778, \"#fb9f3a\"], [0.8888888888888888, \"#fdca26\"], [1.0, \"#f0f921\"]]}, \"colorway\": [\"#636efa\", \"#EF553B\", \"#00cc96\", \"#ab63fa\", \"#FFA15A\", \"#19d3f3\", \"#FF6692\", \"#B6E880\", \"#FF97FF\", \"#FECB52\"], \"font\": {\"color\": \"#2a3f5f\"}, \"geo\": {\"bgcolor\": \"white\", \"lakecolor\": \"white\", \"landcolor\": \"#E5ECF6\", \"showlakes\": true, \"showland\": true, \"subunitcolor\": \"white\"}, \"hoverlabel\": {\"align\": \"left\"}, \"hovermode\": \"closest\", \"mapbox\": {\"style\": \"light\"}, \"paper_bgcolor\": \"white\", \"plot_bgcolor\": \"#E5ECF6\", \"polar\": {\"angularaxis\": {\"gridcolor\": \"white\", \"linecolor\": \"white\", \"ticks\": \"\"}, \"bgcolor\": \"#E5ECF6\", \"radialaxis\": {\"gridcolor\": \"white\", \"linecolor\": \"white\", \"ticks\": \"\"}}, \"scene\": {\"xaxis\": {\"backgroundcolor\": \"#E5ECF6\", \"gridcolor\": \"white\", \"gridwidth\": 2, \"linecolor\": \"white\", \"showbackground\": true, \"ticks\": \"\", \"zerolinecolor\": \"white\"}, \"yaxis\": {\"backgroundcolor\": \"#E5ECF6\", \"gridcolor\": \"white\", \"gridwidth\": 2, \"linecolor\": \"white\", \"showbackground\": true, \"ticks\": \"\", \"zerolinecolor\": \"white\"}, \"zaxis\": {\"backgroundcolor\": \"#E5ECF6\", \"gridcolor\": \"white\", \"gridwidth\": 2, \"linecolor\": \"white\", \"showbackground\": true, \"ticks\": \"\", \"zerolinecolor\": \"white\"}}, \"shapedefaults\": {\"line\": {\"color\": \"#2a3f5f\"}}, \"ternary\": {\"aaxis\": {\"gridcolor\": \"white\", \"linecolor\": \"white\", \"ticks\": \"\"}, \"baxis\": {\"gridcolor\": \"white\", \"linecolor\": \"white\", \"ticks\": \"\"}, \"bgcolor\": \"#E5ECF6\", \"caxis\": {\"gridcolor\": \"white\", \"linecolor\": \"white\", \"ticks\": \"\"}}, \"title\": {\"x\": 0.05}, \"xaxis\": {\"automargin\": true, \"gridcolor\": \"white\", \"linecolor\": \"white\", \"ticks\": \"\", \"title\": {\"standoff\": 15}, \"zerolinecolor\": \"white\", \"zerolinewidth\": 2}, \"yaxis\": {\"automargin\": true, \"gridcolor\": \"white\", \"linecolor\": \"white\", \"ticks\": \"\", \"title\": {\"standoff\": 15}, \"zerolinecolor\": \"white\", \"zerolinewidth\": 2}}}, \"title\": {\"text\": \"Comparison of Price Change per District\"}, \"xaxis\": {\"anchor\": \"y\", \"domain\": [0.0, 1.0], \"title\": {\"text\": \"Ortsteil\"}}, \"yaxis\": {\"anchor\": \"x\", \"domain\": [0.0, 1.0], \"title\": {\"text\": \"Percentage Change in Average Price\"}}},\n",
       "                        {\"responsive\": true}\n",
       "                    ).then(function(){\n",
       "                            \n",
       "var gd = document.getElementById('34a5e45a-f103-4961-8ea6-5950f670418d');\n",
       "var x = new MutationObserver(function (mutations, observer) {{\n",
       "        var display = window.getComputedStyle(gd).display;\n",
       "        if (!display || display === 'none') {{\n",
       "            console.log([gd, 'removed!']);\n",
       "            Plotly.purge(gd);\n",
       "            observer.disconnect();\n",
       "        }}\n",
       "}});\n",
       "\n",
       "// Listen for the removal of the full notebook cells\n",
       "var notebookContainer = gd.closest('#notebook-container');\n",
       "if (notebookContainer) {{\n",
       "    x.observe(notebookContainer, {childList: true});\n",
       "}}\n",
       "\n",
       "// Listen for the clearing of the current output cell\n",
       "var outputEl = gd.closest('.output');\n",
       "if (outputEl) {{\n",
       "    x.observe(outputEl, {childList: true});\n",
       "}}\n",
       "\n",
       "                        })\n",
       "                };\n",
       "                });\n",
       "            </script>\n",
       "        </div>"
      ]
     },
     "metadata": {},
     "output_type": "display_data"
    }
   ],
   "source": [
    "fig = px.bar(percentage_rent_difference_per_district, \n",
    "             x='Ortsteil', \n",
    "             y='Percentage Change in Average Price',\n",
    "             title='Comparison of Price Change per District')\n",
    "fig.show()"
   ]
  },
  {
   "cell_type": "code",
   "execution_count": null,
   "metadata": {},
   "outputs": [],
   "source": [
    "py.plot(fig, filename = 'percentage_rent_difference_per_district', auto_open=True)"
   ]
  },
  {
   "cell_type": "markdown",
   "metadata": {},
   "source": [
    "## Exccess Rent paid"
   ]
  },
  {
   "cell_type": "code",
   "execution_count": 295,
   "metadata": {},
   "outputs": [],
   "source": [
    "# Excess amount paid per month\n",
    "illegal_cold_rent = illegal_pricing['Kaltmiete pro m²'] * illegal_pricing['Wohnfläche ca.']\n",
    "illegal_rent_cap = illegal_pricing['Zulässige Mietobergrenze pro m²'] * illegal_pricing['Wohnfläche ca.']\n",
    "illegal_excess_rent = illegal_cold_rent.sum() - illegal_rent_cap.sum()"
   ]
  },
  {
   "cell_type": "code",
   "execution_count": 296,
   "metadata": {},
   "outputs": [
    {
     "data": {
      "text/plain": [
       "463059.78743999975"
      ]
     },
     "execution_count": 296,
     "metadata": {},
     "output_type": "execute_result"
    }
   ],
   "source": [
    "illegal_excess_rent"
   ]
  },
  {
   "cell_type": "code",
   "execution_count": 66,
   "metadata": {},
   "outputs": [
    {
     "data": {
      "text/html": [
       "<div>\n",
       "<style scoped>\n",
       "    .dataframe tbody tr th:only-of-type {\n",
       "        vertical-align: middle;\n",
       "    }\n",
       "\n",
       "    .dataframe tbody tr th {\n",
       "        vertical-align: top;\n",
       "    }\n",
       "\n",
       "    .dataframe thead th {\n",
       "        text-align: right;\n",
       "    }\n",
       "</style>\n",
       "<table border=\"1\" class=\"dataframe\">\n",
       "  <thead>\n",
       "    <tr style=\"text-align: right;\">\n",
       "      <th></th>\n",
       "      <th>Titel</th>\n",
       "      <th>Anbieter</th>\n",
       "      <th>Url</th>\n",
       "      <th>Adresse</th>\n",
       "      <th>Baujahr</th>\n",
       "      <th>Wohnlage Einstufung</th>\n",
       "      <th>Wohnfläche ca.</th>\n",
       "      <th>Kaltmiete</th>\n",
       "      <th>Kaltmiete pro m²</th>\n",
       "      <th>Zulässige Mietobergrenze pro m²</th>\n",
       "    </tr>\n",
       "  </thead>\n",
       "  <tbody>\n",
       "    <tr>\n",
       "      <th>0</th>\n",
       "      <td>Nutzen Sie Ihre Chance - 2 Zimmerwohnung mit b...</td>\n",
       "      <td>German Prop Tech GmbH</td>\n",
       "      <td>https://www.immobilienscout24.de/expose/114414026</td>\n",
       "      <td>Reinickendorfer Straße 4, 13447 Berlin, Weddin...</td>\n",
       "      <td>1972.0</td>\n",
       "      <td>einfach *</td>\n",
       "      <td>78.00</td>\n",
       "      <td>979.4</td>\n",
       "      <td>12.556410</td>\n",
       "      <td>8.004</td>\n",
       "    </tr>\n",
       "    <tr>\n",
       "      <th>2</th>\n",
       "      <td>Lichtdurchflutetes Appartement - Tageslichtbad...</td>\n",
       "      <td>Stadthaus Verwaltungsgesellschaft mbH Franklin...</td>\n",
       "      <td>https://www.immobilienscout24.de/expose/100591334</td>\n",
       "      <td>Schulenburgring 125, 12101 Berlin, Tempelhof (...</td>\n",
       "      <td>1956.0</td>\n",
       "      <td>mittel</td>\n",
       "      <td>38.48</td>\n",
       "      <td>503.0</td>\n",
       "      <td>13.071726</td>\n",
       "      <td>8.388</td>\n",
       "    </tr>\n",
       "    <tr>\n",
       "      <th>3</th>\n",
       "      <td>Eine Perle mit modernem Grundriss</td>\n",
       "      <td>wfi- Wohlfühlimmobilien Thomas- Müntzer- Damm ...</td>\n",
       "      <td>https://www.immobilienscout24.de/expose/115502827</td>\n",
       "      <td>Richard- Sorge- Straße 10, 10249 Berlin, Fried...</td>\n",
       "      <td>2010.0</td>\n",
       "      <td>gut</td>\n",
       "      <td>91.89</td>\n",
       "      <td>1290.0</td>\n",
       "      <td>14.038524</td>\n",
       "      <td>13.848</td>\n",
       "    </tr>\n",
       "    <tr>\n",
       "      <th>4</th>\n",
       "      <td>Hochwertiges DG im gepflegten Altbau! **Besich...</td>\n",
       "      <td>SchönLife Immobilien Wielandstraße 12 10629 Be...</td>\n",
       "      <td>https://www.immobilienscout24.de/expose/115172918</td>\n",
       "      <td>Cauerstrasse 25, 10587 Berlin, Charlottenburg ...</td>\n",
       "      <td>1905.0</td>\n",
       "      <td>mittel *</td>\n",
       "      <td>119.00</td>\n",
       "      <td>1785.0</td>\n",
       "      <td>15.000000</td>\n",
       "      <td>8.832</td>\n",
       "    </tr>\n",
       "    <tr>\n",
       "      <th>6</th>\n",
       "      <td>Praktische Familienwohnung mit Laminat - in He...</td>\n",
       "      <td>Immonexxt GmbH Am Borsigturm 53 13507 Berlin</td>\n",
       "      <td>https://www.immobilienscout24.de/expose/114889465</td>\n",
       "      <td>Kastanienallee 86, 12627 Berlin, Hellersdorf (...</td>\n",
       "      <td>1985.0</td>\n",
       "      <td>mittel</td>\n",
       "      <td>68.54</td>\n",
       "      <td>639.0</td>\n",
       "      <td>9.323023</td>\n",
       "      <td>8.340</td>\n",
       "    </tr>\n",
       "    <tr>\n",
       "      <th>...</th>\n",
       "      <td>...</td>\n",
       "      <td>...</td>\n",
       "      <td>...</td>\n",
       "      <td>...</td>\n",
       "      <td>...</td>\n",
       "      <td>...</td>\n",
       "      <td>...</td>\n",
       "      <td>...</td>\n",
       "      <td>...</td>\n",
       "      <td>...</td>\n",
       "    </tr>\n",
       "    <tr>\n",
       "      <th>2834</th>\n",
       "      <td>NEUBAU ERSTBEZUG 200 m² - Exklusive Dachgescho...</td>\n",
       "      <td>Massih-Hausverwaltung Knesebeckstraße 55 10719...</td>\n",
       "      <td>https://www.immobilienscout24.de/expose/115805257</td>\n",
       "      <td>Eisenacher Str. 64, 10823 Berlin, Schöneberg (...</td>\n",
       "      <td>1900.0</td>\n",
       "      <td>mittel</td>\n",
       "      <td>200.00</td>\n",
       "      <td>3400.0</td>\n",
       "      <td>17.000000</td>\n",
       "      <td>8.832</td>\n",
       "    </tr>\n",
       "    <tr>\n",
       "      <th>2836</th>\n",
       "      <td>Möblierte 1 Zimmer Studio in Berlin, Schöneber...</td>\n",
       "      <td>NaN</td>\n",
       "      <td>https://www.immobilienscout24.de/expose/108875055</td>\n",
       "      <td>Goltzstraße 39, 10781 Berlin, Schöneberg (Schö...</td>\n",
       "      <td>1908.0</td>\n",
       "      <td>gut</td>\n",
       "      <td>45.00</td>\n",
       "      <td>950.0</td>\n",
       "      <td>21.111111</td>\n",
       "      <td>9.828</td>\n",
       "    </tr>\n",
       "    <tr>\n",
       "      <th>2841</th>\n",
       "      <td>Toller Altbau in begehrter Lage- Anfragen bitt...</td>\n",
       "      <td>Andrej Schafranek Immobilien</td>\n",
       "      <td>https://www.immobilienscout24.de/expose/115773874</td>\n",
       "      <td>Buchholzer Str. 4, 10437 Berlin, Prenzlauer Be...</td>\n",
       "      <td>1900.0</td>\n",
       "      <td>gut</td>\n",
       "      <td>94.61</td>\n",
       "      <td>1199.0</td>\n",
       "      <td>12.673079</td>\n",
       "      <td>9.828</td>\n",
       "    </tr>\n",
       "    <tr>\n",
       "      <th>2842</th>\n",
       "      <td>Helle 2 Zimmer Wohnung! Ihr neues zu Hause in ...</td>\n",
       "      <td>ALEPA Real Estate GmbH Tauentzienstraße 6 1078...</td>\n",
       "      <td>https://www.immobilienscout24.de/expose/115760600</td>\n",
       "      <td>Mühlenstraße 30, 13187 Berlin, Pankow (Pankow)</td>\n",
       "      <td>1910.0</td>\n",
       "      <td>mittel *</td>\n",
       "      <td>73.00</td>\n",
       "      <td>799.0</td>\n",
       "      <td>10.945205</td>\n",
       "      <td>8.832</td>\n",
       "    </tr>\n",
       "    <tr>\n",
       "      <th>2844</th>\n",
       "      <td>Möbilierte Wohnung, close to Prenzlauer Allee/...</td>\n",
       "      <td>NaN</td>\n",
       "      <td>https://www.immobilienscout24.de/expose/115716846</td>\n",
       "      <td>Heinersdorfer Straße 35, 13086 Berlin, Weißens...</td>\n",
       "      <td>2002.0</td>\n",
       "      <td>mittel</td>\n",
       "      <td>60.00</td>\n",
       "      <td>1100.0</td>\n",
       "      <td>18.333333</td>\n",
       "      <td>10.848</td>\n",
       "    </tr>\n",
       "  </tbody>\n",
       "</table>\n",
       "<p>1272 rows × 10 columns</p>\n",
       "</div>"
      ],
      "text/plain": [
       "                                                  Titel  \\\n",
       "0     Nutzen Sie Ihre Chance - 2 Zimmerwohnung mit b...   \n",
       "2     Lichtdurchflutetes Appartement - Tageslichtbad...   \n",
       "3                     Eine Perle mit modernem Grundriss   \n",
       "4     Hochwertiges DG im gepflegten Altbau! **Besich...   \n",
       "6     Praktische Familienwohnung mit Laminat - in He...   \n",
       "...                                                 ...   \n",
       "2834  NEUBAU ERSTBEZUG 200 m² - Exklusive Dachgescho...   \n",
       "2836  Möblierte 1 Zimmer Studio in Berlin, Schöneber...   \n",
       "2841  Toller Altbau in begehrter Lage- Anfragen bitt...   \n",
       "2842  Helle 2 Zimmer Wohnung! Ihr neues zu Hause in ...   \n",
       "2844  Möbilierte Wohnung, close to Prenzlauer Allee/...   \n",
       "\n",
       "                                               Anbieter  \\\n",
       "0                                 German Prop Tech GmbH   \n",
       "2     Stadthaus Verwaltungsgesellschaft mbH Franklin...   \n",
       "3     wfi- Wohlfühlimmobilien Thomas- Müntzer- Damm ...   \n",
       "4     SchönLife Immobilien Wielandstraße 12 10629 Be...   \n",
       "6          Immonexxt GmbH Am Borsigturm 53 13507 Berlin   \n",
       "...                                                 ...   \n",
       "2834  Massih-Hausverwaltung Knesebeckstraße 55 10719...   \n",
       "2836                                                NaN   \n",
       "2841                       Andrej Schafranek Immobilien   \n",
       "2842  ALEPA Real Estate GmbH Tauentzienstraße 6 1078...   \n",
       "2844                                                NaN   \n",
       "\n",
       "                                                    Url  \\\n",
       "0     https://www.immobilienscout24.de/expose/114414026   \n",
       "2     https://www.immobilienscout24.de/expose/100591334   \n",
       "3     https://www.immobilienscout24.de/expose/115502827   \n",
       "4     https://www.immobilienscout24.de/expose/115172918   \n",
       "6     https://www.immobilienscout24.de/expose/114889465   \n",
       "...                                                 ...   \n",
       "2834  https://www.immobilienscout24.de/expose/115805257   \n",
       "2836  https://www.immobilienscout24.de/expose/108875055   \n",
       "2841  https://www.immobilienscout24.de/expose/115773874   \n",
       "2842  https://www.immobilienscout24.de/expose/115760600   \n",
       "2844  https://www.immobilienscout24.de/expose/115716846   \n",
       "\n",
       "                                                Adresse  Baujahr  \\\n",
       "0     Reinickendorfer Straße 4, 13447 Berlin, Weddin...   1972.0   \n",
       "2     Schulenburgring 125, 12101 Berlin, Tempelhof (...   1956.0   \n",
       "3     Richard- Sorge- Straße 10, 10249 Berlin, Fried...   2010.0   \n",
       "4     Cauerstrasse 25, 10587 Berlin, Charlottenburg ...   1905.0   \n",
       "6     Kastanienallee 86, 12627 Berlin, Hellersdorf (...   1985.0   \n",
       "...                                                 ...      ...   \n",
       "2834  Eisenacher Str. 64, 10823 Berlin, Schöneberg (...   1900.0   \n",
       "2836  Goltzstraße 39, 10781 Berlin, Schöneberg (Schö...   1908.0   \n",
       "2841  Buchholzer Str. 4, 10437 Berlin, Prenzlauer Be...   1900.0   \n",
       "2842     Mühlenstraße 30, 13187 Berlin, Pankow (Pankow)   1910.0   \n",
       "2844  Heinersdorfer Straße 35, 13086 Berlin, Weißens...   2002.0   \n",
       "\n",
       "     Wohnlage Einstufung  Wohnfläche ca.  Kaltmiete  Kaltmiete pro m²  \\\n",
       "0              einfach *           78.00      979.4         12.556410   \n",
       "2                 mittel           38.48      503.0         13.071726   \n",
       "3                    gut           91.89     1290.0         14.038524   \n",
       "4               mittel *          119.00     1785.0         15.000000   \n",
       "6                 mittel           68.54      639.0          9.323023   \n",
       "...                  ...             ...        ...               ...   \n",
       "2834              mittel          200.00     3400.0         17.000000   \n",
       "2836                 gut           45.00      950.0         21.111111   \n",
       "2841                 gut           94.61     1199.0         12.673079   \n",
       "2842            mittel *           73.00      799.0         10.945205   \n",
       "2844              mittel           60.00     1100.0         18.333333   \n",
       "\n",
       "      Zulässige Mietobergrenze pro m²  \n",
       "0                               8.004  \n",
       "2                               8.388  \n",
       "3                              13.848  \n",
       "4                               8.832  \n",
       "6                               8.340  \n",
       "...                               ...  \n",
       "2834                            8.832  \n",
       "2836                            9.828  \n",
       "2841                            9.828  \n",
       "2842                            8.832  \n",
       "2844                           10.848  \n",
       "\n",
       "[1272 rows x 10 columns]"
      ]
     },
     "execution_count": 66,
     "metadata": {},
     "output_type": "execute_result"
    }
   ],
   "source": [
    "illegal_pricing[['Titel', 'Anbieter' ,'Url', 'Adresse', 'Baujahr', 'Wohnlage Einstufung', 'Wohnfläche ca.', 'Kaltmiete', 'Kaltmiete pro m²', 'Zulässige Mietobergrenze pro m²']]"
   ]
  },
  {
   "cell_type": "code",
   "execution_count": 67,
   "metadata": {},
   "outputs": [],
   "source": [
    "top_10_illegal_real_estate_comp = illegal_pricing.groupby('Anbieter')[['Url']].count().sort_values(by='Url',ascending=False).head(10)\n",
    "\n",
    "average_illegal_current_rent = illegal_pricing[illegal_pricing['Anbieter'].isin(top_10_illegal_real_estate_comp.index)].groupby('Anbieter')[['Kaltmiete pro m²']].mean()\n",
    "\n",
    "average_illegal_rent_cap = illegal_pricing[illegal_pricing['Anbieter'].isin(top_10_illegal_real_estate_comp.index)].groupby('Anbieter')[['Zulässige Mietobergrenze pro m²']].mean()\n",
    "\n",
    "top_10_illegal_real_estate_comp = top_10_illegal_real_estate_comp.join(average_illegal_current_rent).join(average_illegal_rent_cap)\n",
    "\n",
    "top_10_illegal_real_estate_comp['Average excess rent'] = top_10_illegal_real_estate_comp['Kaltmiete pro m²'] - top_10_illegal_real_estate_comp['Zulässige Mietobergrenze pro m²']\n",
    "\n",
    "top_10_illegal_real_estate_comp.rename(columns = {'Zulässige Mietobergrenze pro m²':'Rent cap'}, inplace=True)"
   ]
  },
  {
   "cell_type": "code",
   "execution_count": 68,
   "metadata": {},
   "outputs": [],
   "source": [
    "top_10_illegal_real_estate_comp.sort_values('Average excess rent',ascending=False, inplace=True)"
   ]
  },
  {
   "cell_type": "code",
   "execution_count": 69,
   "metadata": {},
   "outputs": [],
   "source": [
    "top_10_illegal_real_estate_comp = pd.DataFrame(top_10_illegal_real_estate_comp.drop(columns=['Kaltmiete pro m²','Url']).stack()).reset_index()"
   ]
  },
  {
   "cell_type": "code",
   "execution_count": 70,
   "metadata": {},
   "outputs": [],
   "source": [
    "top_10_illegal_real_estate_comp.rename(columns={'level_1':'Explanation',0:'Average rent per m²'},inplace=True)"
   ]
  },
  {
   "cell_type": "code",
   "execution_count": 71,
   "metadata": {},
   "outputs": [
    {
     "data": {
      "application/vnd.plotly.v1+json": {
       "config": {
        "plotlyServerURL": "https://plot.ly"
       },
       "data": [
        {
         "alignmentgroup": "True",
         "hoverlabel": {
          "namelength": 0
         },
         "hovertemplate": "Explanation=Rent cap<br>Anbieter=%{x}<br>Average rent per m²=%{y}",
         "legendgroup": "Explanation=Rent cap",
         "marker": {
          "color": "#636efa"
         },
         "name": "Explanation=Rent cap",
         "offsetgroup": "Explanation=Rent cap",
         "orientation": "v",
         "showlegend": true,
         "textposition": "auto",
         "type": "bar",
         "x": [
          "Berlinhaus Verwaltung GmbH Friedrichstraße 30 10969 Berlin",
          "AKELIUS GmbH Erkelenzdamm 11,13 10999 Berlin",
          "Inseriert auf ohne-makler.net",
          "Engel & Völkers Berlin Mitte GmbH Charlottenstr. 4 10969 Berlin",
          "Trad Immobilien GmbH Lützowufer 26 10787 Berlin",
          "4 RENT & SALE - Real Estate e.K. Pappelallee 78/79 10437 Berlin",
          "Stadthaus Verwaltungsgesellschaft mbH Franklinstr. 28/ 29 10587 Berlin",
          "Deutsche Wohnen Gruppe",
          "Immonexxt GmbH Am Borsigturm 53 13507 Berlin",
          "ADO Immobilien Management GmbH Am Karlsbad 11 10785 Berlin"
         ],
         "xaxis": "x",
         "y": [
          9.003310344827586,
          8.8209375,
          9.30342857142857,
          11.370666666666668,
          9.090857142857143,
          8.881142857142855,
          8.711999999999994,
          8.385999999999997,
          9.469573770491811,
          8.607103448275863
         ],
         "yaxis": "y"
        },
        {
         "alignmentgroup": "True",
         "hoverlabel": {
          "namelength": 0
         },
         "hovertemplate": "Explanation=Average excess rent<br>Anbieter=%{x}<br>Average rent per m²=%{y}",
         "legendgroup": "Explanation=Average excess rent",
         "marker": {
          "color": "#EF553B"
         },
         "name": "Explanation=Average excess rent",
         "offsetgroup": "Explanation=Average excess rent",
         "orientation": "v",
         "showlegend": true,
         "textposition": "auto",
         "type": "bar",
         "x": [
          "Berlinhaus Verwaltung GmbH Friedrichstraße 30 10969 Berlin",
          "AKELIUS GmbH Erkelenzdamm 11,13 10999 Berlin",
          "Inseriert auf ohne-makler.net",
          "Engel & Völkers Berlin Mitte GmbH Charlottenstr. 4 10969 Berlin",
          "Trad Immobilien GmbH Lützowufer 26 10787 Berlin",
          "4 RENT & SALE - Real Estate e.K. Pappelallee 78/79 10437 Berlin",
          "Stadthaus Verwaltungsgesellschaft mbH Franklinstr. 28/ 29 10587 Berlin",
          "Deutsche Wohnen Gruppe",
          "Immonexxt GmbH Am Borsigturm 53 13507 Berlin",
          "ADO Immobilien Management GmbH Am Karlsbad 11 10785 Berlin"
         ],
         "xaxis": "x",
         "y": [
          10.598593889822233,
          9.308629651660318,
          7.667253623783109,
          6.0969987469146645,
          5.378319365184771,
          4.103940697965628,
          3.132499211943351,
          1.910965143620393,
          1.813022959181625,
          1.6851484134478447
         ],
         "yaxis": "y"
        }
       ],
       "layout": {
        "barmode": "relative",
        "height": 600,
        "legend": {
         "tracegroupgap": 0
        },
        "template": {
         "data": {
          "bar": [
           {
            "error_x": {
             "color": "#2a3f5f"
            },
            "error_y": {
             "color": "#2a3f5f"
            },
            "marker": {
             "line": {
              "color": "#E5ECF6",
              "width": 0.5
             }
            },
            "type": "bar"
           }
          ],
          "barpolar": [
           {
            "marker": {
             "line": {
              "color": "#E5ECF6",
              "width": 0.5
             }
            },
            "type": "barpolar"
           }
          ],
          "carpet": [
           {
            "aaxis": {
             "endlinecolor": "#2a3f5f",
             "gridcolor": "white",
             "linecolor": "white",
             "minorgridcolor": "white",
             "startlinecolor": "#2a3f5f"
            },
            "baxis": {
             "endlinecolor": "#2a3f5f",
             "gridcolor": "white",
             "linecolor": "white",
             "minorgridcolor": "white",
             "startlinecolor": "#2a3f5f"
            },
            "type": "carpet"
           }
          ],
          "choropleth": [
           {
            "colorbar": {
             "outlinewidth": 0,
             "ticks": ""
            },
            "type": "choropleth"
           }
          ],
          "contour": [
           {
            "colorbar": {
             "outlinewidth": 0,
             "ticks": ""
            },
            "colorscale": [
             [
              0,
              "#0d0887"
             ],
             [
              0.1111111111111111,
              "#46039f"
             ],
             [
              0.2222222222222222,
              "#7201a8"
             ],
             [
              0.3333333333333333,
              "#9c179e"
             ],
             [
              0.4444444444444444,
              "#bd3786"
             ],
             [
              0.5555555555555556,
              "#d8576b"
             ],
             [
              0.6666666666666666,
              "#ed7953"
             ],
             [
              0.7777777777777778,
              "#fb9f3a"
             ],
             [
              0.8888888888888888,
              "#fdca26"
             ],
             [
              1,
              "#f0f921"
             ]
            ],
            "type": "contour"
           }
          ],
          "contourcarpet": [
           {
            "colorbar": {
             "outlinewidth": 0,
             "ticks": ""
            },
            "type": "contourcarpet"
           }
          ],
          "heatmap": [
           {
            "colorbar": {
             "outlinewidth": 0,
             "ticks": ""
            },
            "colorscale": [
             [
              0,
              "#0d0887"
             ],
             [
              0.1111111111111111,
              "#46039f"
             ],
             [
              0.2222222222222222,
              "#7201a8"
             ],
             [
              0.3333333333333333,
              "#9c179e"
             ],
             [
              0.4444444444444444,
              "#bd3786"
             ],
             [
              0.5555555555555556,
              "#d8576b"
             ],
             [
              0.6666666666666666,
              "#ed7953"
             ],
             [
              0.7777777777777778,
              "#fb9f3a"
             ],
             [
              0.8888888888888888,
              "#fdca26"
             ],
             [
              1,
              "#f0f921"
             ]
            ],
            "type": "heatmap"
           }
          ],
          "heatmapgl": [
           {
            "colorbar": {
             "outlinewidth": 0,
             "ticks": ""
            },
            "colorscale": [
             [
              0,
              "#0d0887"
             ],
             [
              0.1111111111111111,
              "#46039f"
             ],
             [
              0.2222222222222222,
              "#7201a8"
             ],
             [
              0.3333333333333333,
              "#9c179e"
             ],
             [
              0.4444444444444444,
              "#bd3786"
             ],
             [
              0.5555555555555556,
              "#d8576b"
             ],
             [
              0.6666666666666666,
              "#ed7953"
             ],
             [
              0.7777777777777778,
              "#fb9f3a"
             ],
             [
              0.8888888888888888,
              "#fdca26"
             ],
             [
              1,
              "#f0f921"
             ]
            ],
            "type": "heatmapgl"
           }
          ],
          "histogram": [
           {
            "marker": {
             "colorbar": {
              "outlinewidth": 0,
              "ticks": ""
             }
            },
            "type": "histogram"
           }
          ],
          "histogram2d": [
           {
            "colorbar": {
             "outlinewidth": 0,
             "ticks": ""
            },
            "colorscale": [
             [
              0,
              "#0d0887"
             ],
             [
              0.1111111111111111,
              "#46039f"
             ],
             [
              0.2222222222222222,
              "#7201a8"
             ],
             [
              0.3333333333333333,
              "#9c179e"
             ],
             [
              0.4444444444444444,
              "#bd3786"
             ],
             [
              0.5555555555555556,
              "#d8576b"
             ],
             [
              0.6666666666666666,
              "#ed7953"
             ],
             [
              0.7777777777777778,
              "#fb9f3a"
             ],
             [
              0.8888888888888888,
              "#fdca26"
             ],
             [
              1,
              "#f0f921"
             ]
            ],
            "type": "histogram2d"
           }
          ],
          "histogram2dcontour": [
           {
            "colorbar": {
             "outlinewidth": 0,
             "ticks": ""
            },
            "colorscale": [
             [
              0,
              "#0d0887"
             ],
             [
              0.1111111111111111,
              "#46039f"
             ],
             [
              0.2222222222222222,
              "#7201a8"
             ],
             [
              0.3333333333333333,
              "#9c179e"
             ],
             [
              0.4444444444444444,
              "#bd3786"
             ],
             [
              0.5555555555555556,
              "#d8576b"
             ],
             [
              0.6666666666666666,
              "#ed7953"
             ],
             [
              0.7777777777777778,
              "#fb9f3a"
             ],
             [
              0.8888888888888888,
              "#fdca26"
             ],
             [
              1,
              "#f0f921"
             ]
            ],
            "type": "histogram2dcontour"
           }
          ],
          "mesh3d": [
           {
            "colorbar": {
             "outlinewidth": 0,
             "ticks": ""
            },
            "type": "mesh3d"
           }
          ],
          "parcoords": [
           {
            "line": {
             "colorbar": {
              "outlinewidth": 0,
              "ticks": ""
             }
            },
            "type": "parcoords"
           }
          ],
          "pie": [
           {
            "automargin": true,
            "type": "pie"
           }
          ],
          "scatter": [
           {
            "marker": {
             "colorbar": {
              "outlinewidth": 0,
              "ticks": ""
             }
            },
            "type": "scatter"
           }
          ],
          "scatter3d": [
           {
            "line": {
             "colorbar": {
              "outlinewidth": 0,
              "ticks": ""
             }
            },
            "marker": {
             "colorbar": {
              "outlinewidth": 0,
              "ticks": ""
             }
            },
            "type": "scatter3d"
           }
          ],
          "scattercarpet": [
           {
            "marker": {
             "colorbar": {
              "outlinewidth": 0,
              "ticks": ""
             }
            },
            "type": "scattercarpet"
           }
          ],
          "scattergeo": [
           {
            "marker": {
             "colorbar": {
              "outlinewidth": 0,
              "ticks": ""
             }
            },
            "type": "scattergeo"
           }
          ],
          "scattergl": [
           {
            "marker": {
             "colorbar": {
              "outlinewidth": 0,
              "ticks": ""
             }
            },
            "type": "scattergl"
           }
          ],
          "scattermapbox": [
           {
            "marker": {
             "colorbar": {
              "outlinewidth": 0,
              "ticks": ""
             }
            },
            "type": "scattermapbox"
           }
          ],
          "scatterpolar": [
           {
            "marker": {
             "colorbar": {
              "outlinewidth": 0,
              "ticks": ""
             }
            },
            "type": "scatterpolar"
           }
          ],
          "scatterpolargl": [
           {
            "marker": {
             "colorbar": {
              "outlinewidth": 0,
              "ticks": ""
             }
            },
            "type": "scatterpolargl"
           }
          ],
          "scatterternary": [
           {
            "marker": {
             "colorbar": {
              "outlinewidth": 0,
              "ticks": ""
             }
            },
            "type": "scatterternary"
           }
          ],
          "surface": [
           {
            "colorbar": {
             "outlinewidth": 0,
             "ticks": ""
            },
            "colorscale": [
             [
              0,
              "#0d0887"
             ],
             [
              0.1111111111111111,
              "#46039f"
             ],
             [
              0.2222222222222222,
              "#7201a8"
             ],
             [
              0.3333333333333333,
              "#9c179e"
             ],
             [
              0.4444444444444444,
              "#bd3786"
             ],
             [
              0.5555555555555556,
              "#d8576b"
             ],
             [
              0.6666666666666666,
              "#ed7953"
             ],
             [
              0.7777777777777778,
              "#fb9f3a"
             ],
             [
              0.8888888888888888,
              "#fdca26"
             ],
             [
              1,
              "#f0f921"
             ]
            ],
            "type": "surface"
           }
          ],
          "table": [
           {
            "cells": {
             "fill": {
              "color": "#EBF0F8"
             },
             "line": {
              "color": "white"
             }
            },
            "header": {
             "fill": {
              "color": "#C8D4E3"
             },
             "line": {
              "color": "white"
             }
            },
            "type": "table"
           }
          ]
         },
         "layout": {
          "annotationdefaults": {
           "arrowcolor": "#2a3f5f",
           "arrowhead": 0,
           "arrowwidth": 1
          },
          "coloraxis": {
           "colorbar": {
            "outlinewidth": 0,
            "ticks": ""
           }
          },
          "colorscale": {
           "diverging": [
            [
             0,
             "#8e0152"
            ],
            [
             0.1,
             "#c51b7d"
            ],
            [
             0.2,
             "#de77ae"
            ],
            [
             0.3,
             "#f1b6da"
            ],
            [
             0.4,
             "#fde0ef"
            ],
            [
             0.5,
             "#f7f7f7"
            ],
            [
             0.6,
             "#e6f5d0"
            ],
            [
             0.7,
             "#b8e186"
            ],
            [
             0.8,
             "#7fbc41"
            ],
            [
             0.9,
             "#4d9221"
            ],
            [
             1,
             "#276419"
            ]
           ],
           "sequential": [
            [
             0,
             "#0d0887"
            ],
            [
             0.1111111111111111,
             "#46039f"
            ],
            [
             0.2222222222222222,
             "#7201a8"
            ],
            [
             0.3333333333333333,
             "#9c179e"
            ],
            [
             0.4444444444444444,
             "#bd3786"
            ],
            [
             0.5555555555555556,
             "#d8576b"
            ],
            [
             0.6666666666666666,
             "#ed7953"
            ],
            [
             0.7777777777777778,
             "#fb9f3a"
            ],
            [
             0.8888888888888888,
             "#fdca26"
            ],
            [
             1,
             "#f0f921"
            ]
           ],
           "sequentialminus": [
            [
             0,
             "#0d0887"
            ],
            [
             0.1111111111111111,
             "#46039f"
            ],
            [
             0.2222222222222222,
             "#7201a8"
            ],
            [
             0.3333333333333333,
             "#9c179e"
            ],
            [
             0.4444444444444444,
             "#bd3786"
            ],
            [
             0.5555555555555556,
             "#d8576b"
            ],
            [
             0.6666666666666666,
             "#ed7953"
            ],
            [
             0.7777777777777778,
             "#fb9f3a"
            ],
            [
             0.8888888888888888,
             "#fdca26"
            ],
            [
             1,
             "#f0f921"
            ]
           ]
          },
          "colorway": [
           "#636efa",
           "#EF553B",
           "#00cc96",
           "#ab63fa",
           "#FFA15A",
           "#19d3f3",
           "#FF6692",
           "#B6E880",
           "#FF97FF",
           "#FECB52"
          ],
          "font": {
           "color": "#2a3f5f"
          },
          "geo": {
           "bgcolor": "white",
           "lakecolor": "white",
           "landcolor": "#E5ECF6",
           "showlakes": true,
           "showland": true,
           "subunitcolor": "white"
          },
          "hoverlabel": {
           "align": "left"
          },
          "hovermode": "closest",
          "mapbox": {
           "style": "light"
          },
          "paper_bgcolor": "white",
          "plot_bgcolor": "#E5ECF6",
          "polar": {
           "angularaxis": {
            "gridcolor": "white",
            "linecolor": "white",
            "ticks": ""
           },
           "bgcolor": "#E5ECF6",
           "radialaxis": {
            "gridcolor": "white",
            "linecolor": "white",
            "ticks": ""
           }
          },
          "scene": {
           "xaxis": {
            "backgroundcolor": "#E5ECF6",
            "gridcolor": "white",
            "gridwidth": 2,
            "linecolor": "white",
            "showbackground": true,
            "ticks": "",
            "zerolinecolor": "white"
           },
           "yaxis": {
            "backgroundcolor": "#E5ECF6",
            "gridcolor": "white",
            "gridwidth": 2,
            "linecolor": "white",
            "showbackground": true,
            "ticks": "",
            "zerolinecolor": "white"
           },
           "zaxis": {
            "backgroundcolor": "#E5ECF6",
            "gridcolor": "white",
            "gridwidth": 2,
            "linecolor": "white",
            "showbackground": true,
            "ticks": "",
            "zerolinecolor": "white"
           }
          },
          "shapedefaults": {
           "line": {
            "color": "#2a3f5f"
           }
          },
          "ternary": {
           "aaxis": {
            "gridcolor": "white",
            "linecolor": "white",
            "ticks": ""
           },
           "baxis": {
            "gridcolor": "white",
            "linecolor": "white",
            "ticks": ""
           },
           "bgcolor": "#E5ECF6",
           "caxis": {
            "gridcolor": "white",
            "linecolor": "white",
            "ticks": ""
           }
          },
          "title": {
           "x": 0.05
          },
          "xaxis": {
           "automargin": true,
           "gridcolor": "white",
           "linecolor": "white",
           "ticks": "",
           "title": {
            "standoff": 15
           },
           "zerolinecolor": "white",
           "zerolinewidth": 2
          },
          "yaxis": {
           "automargin": true,
           "gridcolor": "white",
           "linecolor": "white",
           "ticks": "",
           "title": {
            "standoff": 15
           },
           "zerolinecolor": "white",
           "zerolinewidth": 2
          }
         }
        },
        "title": {
         "text": "Calculated average rent cap per landlord (blue) and current average excess rent asked (red)"
        },
        "xaxis": {
         "anchor": "y",
         "domain": [
          0,
          1
         ],
         "title": {
          "text": "Anbieter"
         }
        },
        "yaxis": {
         "anchor": "x",
         "domain": [
          0,
          1
         ],
         "title": {
          "text": "Average rent per m²"
         }
        }
       }
      },
      "text/html": [
       "<div>\n",
       "        \n",
       "        \n",
       "            <div id=\"267e09eb-dafc-4ba7-94aa-330a0a452939\" class=\"plotly-graph-div\" style=\"height:600px; width:100%;\"></div>\n",
       "            <script type=\"text/javascript\">\n",
       "                require([\"plotly\"], function(Plotly) {\n",
       "                    window.PLOTLYENV=window.PLOTLYENV || {};\n",
       "                    \n",
       "                if (document.getElementById(\"267e09eb-dafc-4ba7-94aa-330a0a452939\")) {\n",
       "                    Plotly.newPlot(\n",
       "                        '267e09eb-dafc-4ba7-94aa-330a0a452939',\n",
       "                        [{\"alignmentgroup\": \"True\", \"hoverlabel\": {\"namelength\": 0}, \"hovertemplate\": \"Explanation=Rent cap<br>Anbieter=%{x}<br>Average rent per m\\u00b2=%{y}\", \"legendgroup\": \"Explanation=Rent cap\", \"marker\": {\"color\": \"#636efa\"}, \"name\": \"Explanation=Rent cap\", \"offsetgroup\": \"Explanation=Rent cap\", \"orientation\": \"v\", \"showlegend\": true, \"textposition\": \"auto\", \"type\": \"bar\", \"x\": [\"Berlinhaus Verwaltung GmbH Friedrichstra\\u00dfe 30 10969 Berlin\", \"AKELIUS GmbH Erkelenzdamm 11,13 10999 Berlin\", \"Inseriert auf ohne-makler.net\", \"Engel & V\\u00f6lkers Berlin Mitte GmbH Charlottenstr. 4 10969 Berlin\", \"Trad Immobilien GmbH L\\u00fctzowufer 26 10787 Berlin\", \"4 RENT & SALE - Real Estate e.K. Pappelallee 78/79 10437 Berlin\", \"Stadthaus Verwaltungsgesellschaft mbH Franklinstr. 28/ 29 10587 Berlin\", \"Deutsche Wohnen Gruppe\", \"Immonexxt GmbH Am Borsigturm 53 13507 Berlin\", \"ADO Immobilien Management GmbH Am Karlsbad 11 10785 Berlin\"], \"xaxis\": \"x\", \"y\": [9.003310344827586, 8.8209375, 9.30342857142857, 11.370666666666668, 9.090857142857143, 8.881142857142855, 8.711999999999994, 8.385999999999997, 9.469573770491811, 8.607103448275863], \"yaxis\": \"y\"}, {\"alignmentgroup\": \"True\", \"hoverlabel\": {\"namelength\": 0}, \"hovertemplate\": \"Explanation=Average excess rent<br>Anbieter=%{x}<br>Average rent per m\\u00b2=%{y}\", \"legendgroup\": \"Explanation=Average excess rent\", \"marker\": {\"color\": \"#EF553B\"}, \"name\": \"Explanation=Average excess rent\", \"offsetgroup\": \"Explanation=Average excess rent\", \"orientation\": \"v\", \"showlegend\": true, \"textposition\": \"auto\", \"type\": \"bar\", \"x\": [\"Berlinhaus Verwaltung GmbH Friedrichstra\\u00dfe 30 10969 Berlin\", \"AKELIUS GmbH Erkelenzdamm 11,13 10999 Berlin\", \"Inseriert auf ohne-makler.net\", \"Engel & V\\u00f6lkers Berlin Mitte GmbH Charlottenstr. 4 10969 Berlin\", \"Trad Immobilien GmbH L\\u00fctzowufer 26 10787 Berlin\", \"4 RENT & SALE - Real Estate e.K. Pappelallee 78/79 10437 Berlin\", \"Stadthaus Verwaltungsgesellschaft mbH Franklinstr. 28/ 29 10587 Berlin\", \"Deutsche Wohnen Gruppe\", \"Immonexxt GmbH Am Borsigturm 53 13507 Berlin\", \"ADO Immobilien Management GmbH Am Karlsbad 11 10785 Berlin\"], \"xaxis\": \"x\", \"y\": [10.598593889822233, 9.308629651660318, 7.667253623783109, 6.0969987469146645, 5.378319365184771, 4.103940697965628, 3.132499211943351, 1.910965143620393, 1.813022959181625, 1.6851484134478447], \"yaxis\": \"y\"}],\n",
       "                        {\"barmode\": \"relative\", \"height\": 600, \"legend\": {\"tracegroupgap\": 0}, \"template\": {\"data\": {\"bar\": [{\"error_x\": {\"color\": \"#2a3f5f\"}, \"error_y\": {\"color\": \"#2a3f5f\"}, \"marker\": {\"line\": {\"color\": \"#E5ECF6\", \"width\": 0.5}}, \"type\": \"bar\"}], \"barpolar\": [{\"marker\": {\"line\": {\"color\": \"#E5ECF6\", \"width\": 0.5}}, \"type\": \"barpolar\"}], \"carpet\": [{\"aaxis\": {\"endlinecolor\": \"#2a3f5f\", \"gridcolor\": \"white\", \"linecolor\": \"white\", \"minorgridcolor\": \"white\", \"startlinecolor\": \"#2a3f5f\"}, \"baxis\": {\"endlinecolor\": \"#2a3f5f\", \"gridcolor\": \"white\", \"linecolor\": \"white\", \"minorgridcolor\": \"white\", \"startlinecolor\": \"#2a3f5f\"}, \"type\": \"carpet\"}], \"choropleth\": [{\"colorbar\": {\"outlinewidth\": 0, \"ticks\": \"\"}, \"type\": \"choropleth\"}], \"contour\": [{\"colorbar\": {\"outlinewidth\": 0, \"ticks\": \"\"}, \"colorscale\": [[0.0, \"#0d0887\"], [0.1111111111111111, \"#46039f\"], [0.2222222222222222, \"#7201a8\"], [0.3333333333333333, \"#9c179e\"], [0.4444444444444444, \"#bd3786\"], [0.5555555555555556, \"#d8576b\"], [0.6666666666666666, \"#ed7953\"], [0.7777777777777778, \"#fb9f3a\"], [0.8888888888888888, \"#fdca26\"], [1.0, \"#f0f921\"]], \"type\": \"contour\"}], \"contourcarpet\": [{\"colorbar\": {\"outlinewidth\": 0, \"ticks\": \"\"}, \"type\": \"contourcarpet\"}], \"heatmap\": [{\"colorbar\": {\"outlinewidth\": 0, \"ticks\": \"\"}, \"colorscale\": [[0.0, \"#0d0887\"], [0.1111111111111111, \"#46039f\"], [0.2222222222222222, \"#7201a8\"], [0.3333333333333333, \"#9c179e\"], [0.4444444444444444, \"#bd3786\"], [0.5555555555555556, \"#d8576b\"], [0.6666666666666666, \"#ed7953\"], [0.7777777777777778, \"#fb9f3a\"], [0.8888888888888888, \"#fdca26\"], [1.0, \"#f0f921\"]], \"type\": \"heatmap\"}], \"heatmapgl\": [{\"colorbar\": {\"outlinewidth\": 0, \"ticks\": \"\"}, \"colorscale\": [[0.0, \"#0d0887\"], [0.1111111111111111, \"#46039f\"], [0.2222222222222222, \"#7201a8\"], [0.3333333333333333, \"#9c179e\"], [0.4444444444444444, \"#bd3786\"], [0.5555555555555556, \"#d8576b\"], [0.6666666666666666, \"#ed7953\"], [0.7777777777777778, \"#fb9f3a\"], [0.8888888888888888, \"#fdca26\"], [1.0, \"#f0f921\"]], \"type\": \"heatmapgl\"}], \"histogram\": [{\"marker\": {\"colorbar\": {\"outlinewidth\": 0, \"ticks\": \"\"}}, \"type\": \"histogram\"}], \"histogram2d\": [{\"colorbar\": {\"outlinewidth\": 0, \"ticks\": \"\"}, \"colorscale\": [[0.0, \"#0d0887\"], [0.1111111111111111, \"#46039f\"], [0.2222222222222222, \"#7201a8\"], [0.3333333333333333, \"#9c179e\"], [0.4444444444444444, \"#bd3786\"], [0.5555555555555556, \"#d8576b\"], [0.6666666666666666, \"#ed7953\"], [0.7777777777777778, \"#fb9f3a\"], [0.8888888888888888, \"#fdca26\"], [1.0, \"#f0f921\"]], \"type\": \"histogram2d\"}], \"histogram2dcontour\": [{\"colorbar\": {\"outlinewidth\": 0, \"ticks\": \"\"}, \"colorscale\": [[0.0, \"#0d0887\"], [0.1111111111111111, \"#46039f\"], [0.2222222222222222, \"#7201a8\"], [0.3333333333333333, \"#9c179e\"], [0.4444444444444444, \"#bd3786\"], [0.5555555555555556, \"#d8576b\"], [0.6666666666666666, \"#ed7953\"], [0.7777777777777778, \"#fb9f3a\"], [0.8888888888888888, \"#fdca26\"], [1.0, \"#f0f921\"]], \"type\": \"histogram2dcontour\"}], \"mesh3d\": [{\"colorbar\": {\"outlinewidth\": 0, \"ticks\": \"\"}, \"type\": \"mesh3d\"}], \"parcoords\": [{\"line\": {\"colorbar\": {\"outlinewidth\": 0, \"ticks\": \"\"}}, \"type\": \"parcoords\"}], \"pie\": [{\"automargin\": true, \"type\": \"pie\"}], \"scatter\": [{\"marker\": {\"colorbar\": {\"outlinewidth\": 0, \"ticks\": \"\"}}, \"type\": \"scatter\"}], \"scatter3d\": [{\"line\": {\"colorbar\": {\"outlinewidth\": 0, \"ticks\": \"\"}}, \"marker\": {\"colorbar\": {\"outlinewidth\": 0, \"ticks\": \"\"}}, \"type\": \"scatter3d\"}], \"scattercarpet\": [{\"marker\": {\"colorbar\": {\"outlinewidth\": 0, \"ticks\": \"\"}}, \"type\": \"scattercarpet\"}], \"scattergeo\": [{\"marker\": {\"colorbar\": {\"outlinewidth\": 0, \"ticks\": \"\"}}, \"type\": \"scattergeo\"}], \"scattergl\": [{\"marker\": {\"colorbar\": {\"outlinewidth\": 0, \"ticks\": \"\"}}, \"type\": \"scattergl\"}], \"scattermapbox\": [{\"marker\": {\"colorbar\": {\"outlinewidth\": 0, \"ticks\": \"\"}}, \"type\": \"scattermapbox\"}], \"scatterpolar\": [{\"marker\": {\"colorbar\": {\"outlinewidth\": 0, \"ticks\": \"\"}}, \"type\": \"scatterpolar\"}], \"scatterpolargl\": [{\"marker\": {\"colorbar\": {\"outlinewidth\": 0, \"ticks\": \"\"}}, \"type\": \"scatterpolargl\"}], \"scatterternary\": [{\"marker\": {\"colorbar\": {\"outlinewidth\": 0, \"ticks\": \"\"}}, \"type\": \"scatterternary\"}], \"surface\": [{\"colorbar\": {\"outlinewidth\": 0, \"ticks\": \"\"}, \"colorscale\": [[0.0, \"#0d0887\"], [0.1111111111111111, \"#46039f\"], [0.2222222222222222, \"#7201a8\"], [0.3333333333333333, \"#9c179e\"], [0.4444444444444444, \"#bd3786\"], [0.5555555555555556, \"#d8576b\"], [0.6666666666666666, \"#ed7953\"], [0.7777777777777778, \"#fb9f3a\"], [0.8888888888888888, \"#fdca26\"], [1.0, \"#f0f921\"]], \"type\": \"surface\"}], \"table\": [{\"cells\": {\"fill\": {\"color\": \"#EBF0F8\"}, \"line\": {\"color\": \"white\"}}, \"header\": {\"fill\": {\"color\": \"#C8D4E3\"}, \"line\": {\"color\": \"white\"}}, \"type\": \"table\"}]}, \"layout\": {\"annotationdefaults\": {\"arrowcolor\": \"#2a3f5f\", \"arrowhead\": 0, \"arrowwidth\": 1}, \"coloraxis\": {\"colorbar\": {\"outlinewidth\": 0, \"ticks\": \"\"}}, \"colorscale\": {\"diverging\": [[0, \"#8e0152\"], [0.1, \"#c51b7d\"], [0.2, \"#de77ae\"], [0.3, \"#f1b6da\"], [0.4, \"#fde0ef\"], [0.5, \"#f7f7f7\"], [0.6, \"#e6f5d0\"], [0.7, \"#b8e186\"], [0.8, \"#7fbc41\"], [0.9, \"#4d9221\"], [1, \"#276419\"]], \"sequential\": [[0.0, \"#0d0887\"], [0.1111111111111111, \"#46039f\"], [0.2222222222222222, \"#7201a8\"], [0.3333333333333333, \"#9c179e\"], [0.4444444444444444, \"#bd3786\"], [0.5555555555555556, \"#d8576b\"], [0.6666666666666666, \"#ed7953\"], [0.7777777777777778, \"#fb9f3a\"], [0.8888888888888888, \"#fdca26\"], [1.0, \"#f0f921\"]], \"sequentialminus\": [[0.0, \"#0d0887\"], [0.1111111111111111, \"#46039f\"], [0.2222222222222222, \"#7201a8\"], [0.3333333333333333, \"#9c179e\"], [0.4444444444444444, \"#bd3786\"], [0.5555555555555556, \"#d8576b\"], [0.6666666666666666, \"#ed7953\"], [0.7777777777777778, \"#fb9f3a\"], [0.8888888888888888, \"#fdca26\"], [1.0, \"#f0f921\"]]}, \"colorway\": [\"#636efa\", \"#EF553B\", \"#00cc96\", \"#ab63fa\", \"#FFA15A\", \"#19d3f3\", \"#FF6692\", \"#B6E880\", \"#FF97FF\", \"#FECB52\"], \"font\": {\"color\": \"#2a3f5f\"}, \"geo\": {\"bgcolor\": \"white\", \"lakecolor\": \"white\", \"landcolor\": \"#E5ECF6\", \"showlakes\": true, \"showland\": true, \"subunitcolor\": \"white\"}, \"hoverlabel\": {\"align\": \"left\"}, \"hovermode\": \"closest\", \"mapbox\": {\"style\": \"light\"}, \"paper_bgcolor\": \"white\", \"plot_bgcolor\": \"#E5ECF6\", \"polar\": {\"angularaxis\": {\"gridcolor\": \"white\", \"linecolor\": \"white\", \"ticks\": \"\"}, \"bgcolor\": \"#E5ECF6\", \"radialaxis\": {\"gridcolor\": \"white\", \"linecolor\": \"white\", \"ticks\": \"\"}}, \"scene\": {\"xaxis\": {\"backgroundcolor\": \"#E5ECF6\", \"gridcolor\": \"white\", \"gridwidth\": 2, \"linecolor\": \"white\", \"showbackground\": true, \"ticks\": \"\", \"zerolinecolor\": \"white\"}, \"yaxis\": {\"backgroundcolor\": \"#E5ECF6\", \"gridcolor\": \"white\", \"gridwidth\": 2, \"linecolor\": \"white\", \"showbackground\": true, \"ticks\": \"\", \"zerolinecolor\": \"white\"}, \"zaxis\": {\"backgroundcolor\": \"#E5ECF6\", \"gridcolor\": \"white\", \"gridwidth\": 2, \"linecolor\": \"white\", \"showbackground\": true, \"ticks\": \"\", \"zerolinecolor\": \"white\"}}, \"shapedefaults\": {\"line\": {\"color\": \"#2a3f5f\"}}, \"ternary\": {\"aaxis\": {\"gridcolor\": \"white\", \"linecolor\": \"white\", \"ticks\": \"\"}, \"baxis\": {\"gridcolor\": \"white\", \"linecolor\": \"white\", \"ticks\": \"\"}, \"bgcolor\": \"#E5ECF6\", \"caxis\": {\"gridcolor\": \"white\", \"linecolor\": \"white\", \"ticks\": \"\"}}, \"title\": {\"x\": 0.05}, \"xaxis\": {\"automargin\": true, \"gridcolor\": \"white\", \"linecolor\": \"white\", \"ticks\": \"\", \"title\": {\"standoff\": 15}, \"zerolinecolor\": \"white\", \"zerolinewidth\": 2}, \"yaxis\": {\"automargin\": true, \"gridcolor\": \"white\", \"linecolor\": \"white\", \"ticks\": \"\", \"title\": {\"standoff\": 15}, \"zerolinecolor\": \"white\", \"zerolinewidth\": 2}}}, \"title\": {\"text\": \"Calculated average rent cap per landlord (blue) and current average excess rent asked (red)\"}, \"xaxis\": {\"anchor\": \"y\", \"domain\": [0.0, 1.0], \"title\": {\"text\": \"Anbieter\"}}, \"yaxis\": {\"anchor\": \"x\", \"domain\": [0.0, 1.0], \"title\": {\"text\": \"Average rent per m\\u00b2\"}}},\n",
       "                        {\"responsive\": true}\n",
       "                    ).then(function(){\n",
       "                            \n",
       "var gd = document.getElementById('267e09eb-dafc-4ba7-94aa-330a0a452939');\n",
       "var x = new MutationObserver(function (mutations, observer) {{\n",
       "        var display = window.getComputedStyle(gd).display;\n",
       "        if (!display || display === 'none') {{\n",
       "            console.log([gd, 'removed!']);\n",
       "            Plotly.purge(gd);\n",
       "            observer.disconnect();\n",
       "        }}\n",
       "}});\n",
       "\n",
       "// Listen for the removal of the full notebook cells\n",
       "var notebookContainer = gd.closest('#notebook-container');\n",
       "if (notebookContainer) {{\n",
       "    x.observe(notebookContainer, {childList: true});\n",
       "}}\n",
       "\n",
       "// Listen for the clearing of the current output cell\n",
       "var outputEl = gd.closest('.output');\n",
       "if (outputEl) {{\n",
       "    x.observe(outputEl, {childList: true});\n",
       "}}\n",
       "\n",
       "                        })\n",
       "                };\n",
       "                });\n",
       "            </script>\n",
       "        </div>"
      ]
     },
     "metadata": {},
     "output_type": "display_data"
    }
   ],
   "source": [
    "fig = px.bar(top_10_illegal_real_estate_comp,\n",
    "             x=\"Anbieter\", \n",
    "             y=\"Average rent per m²\", \n",
    "             color='Explanation',\n",
    "             title='Calculated average rent cap per landlord (blue) and current average excess rent asked (red)')\n",
    "fig.show()"
   ]
  },
  {
   "cell_type": "code",
   "execution_count": null,
   "metadata": {},
   "outputs": [],
   "source": [
    "py.plot(fig, filename = 'top_10_illegal_real_estate_comp', auto_open=True)"
   ]
  },
  {
   "cell_type": "code",
   "execution_count": 73,
   "metadata": {},
   "outputs": [
    {
     "data": {
      "text/plain": [
       "1815    15.449297\n",
       "dtype: float64"
      ]
     },
     "execution_count": 73,
     "metadata": {},
     "output_type": "execute_result"
    }
   ],
   "source": [
    "schöneberg = illegal_pricing[illegal_pricing['Ortsteil'] == 'Schöneberg']\n",
    "(schöneberg['Kaltmiete pro m²'] - schöneberg['Zulässige Mietobergrenze pro m²']).sort_values(ascending=False).head(1)"
   ]
  },
  {
   "cell_type": "code",
   "execution_count": 74,
   "metadata": {},
   "outputs": [],
   "source": [
    "example = illegal_pricing.loc[[1815]]"
   ]
  },
  {
   "cell_type": "code",
   "execution_count": 75,
   "metadata": {},
   "outputs": [
    {
     "data": {
      "text/plain": [
       "1815    406.93448\n",
       "dtype: float64"
      ]
     },
     "execution_count": 75,
     "metadata": {},
     "output_type": "execute_result"
    }
   ],
   "source": [
    "(example['Kaltmiete pro m²'] - example['Zulässige Mietobergrenze pro m²']) * example['Wohnfläche ca.']"
   ]
  },
  {
   "cell_type": "code",
   "execution_count": 76,
   "metadata": {},
   "outputs": [
    {
     "data": {
      "text/plain": [
       "1815    650.0\n",
       "dtype: float64"
      ]
     },
     "execution_count": 76,
     "metadata": {},
     "output_type": "execute_result"
    }
   ],
   "source": [
    "example['Kaltmiete pro m²']  * example['Wohnfläche ca.']"
   ]
  },
  {
   "cell_type": "code",
   "execution_count": 77,
   "metadata": {},
   "outputs": [
    {
     "data": {
      "text/plain": [
       "1815    243.06552\n",
       "dtype: float64"
      ]
     },
     "execution_count": 77,
     "metadata": {},
     "output_type": "execute_result"
    }
   ],
   "source": [
    "example['Zulässige Mietobergrenze pro m²']  * example['Wohnfläche ca.']"
   ]
  },
  {
   "cell_type": "code",
   "execution_count": 78,
   "metadata": {},
   "outputs": [],
   "source": [
    "excess_dist = pd.DataFrame(illegal_pricing['Kaltmiete pro m²'] - illegal_pricing['Zulässige Mietobergrenze pro m²'])"
   ]
  },
  {
   "cell_type": "code",
   "execution_count": 79,
   "metadata": {},
   "outputs": [],
   "source": [
    "excess_dist.rename(columns={0:'Excess rent per m² under new rental cap'},inplace=True)"
   ]
  },
  {
   "cell_type": "code",
   "execution_count": 85,
   "metadata": {},
   "outputs": [
    {
     "data": {
      "application/vnd.plotly.v1+json": {
       "config": {
        "plotlyServerURL": "https://plot.ly"
       },
       "data": [
        {
         "alignmentgroup": "True",
         "bingroup": "x",
         "hoverlabel": {
          "namelength": 0
         },
         "hovertemplate": "Excess rent per m² under new rental cap=%{x}<br>count=%{y}",
         "legendgroup": "",
         "marker": {
          "color": "#636efa"
         },
         "name": "",
         "offsetgroup": "",
         "orientation": "v",
         "showlegend": false,
         "type": "histogram",
         "x": [
          4.552410256410257,
          4.683725571725571,
          0.19052432255958074,
          6.167999999999999,
          0.9830230522322747,
          2.655999999999997,
          6.1049622312608935,
          0.9618144329896925,
          18.023636363636363,
          8.211996546961322,
          1.2119834424625537,
          2.4289410892923318,
          8.485670329670327,
          8.853318681318678,
          3.155999999999999,
          7.167999999999999,
          4.664753623188403,
          3.5053333333333345,
          3.829498708010334,
          16.683627906976746,
          2.0848609168609187,
          1.2120470588235275,
          5.22790016638935,
          3.669217967455909,
          2.324319623971796,
          9.84,
          1.6809864671230699,
          6.006303572522823,
          5.6849132458151,
          1.191427041499331,
          4.571824175824176,
          2.171999999999997,
          7.168413793103447,
          3.01615503875969,
          4.167999999999999,
          15.626545454545449,
          9.991529411764706,
          4.64733900034002,
          8.165670568141858,
          10.171999999999999,
          3.5591475955405176,
          7.918418760469013,
          0.3847800453514729,
          0.3007579442918811,
          4.4280258732212125,
          11.065487503433129,
          3.088665913061348,
          18.772,
          0.5081015228426402,
          1.4389487551047306,
          0.8245714285714296,
          0.08597541655285745,
          7.261833333333332,
          3.896000000000001,
          5.388613869511696,
          2.3933045822102432,
          3.3594555804726625,
          1.1707631942525563,
          1.5053333333333345,
          0.14182978723404283,
          12.171999999999999,
          14.738222222222216,
          2.976030880082348,
          8.6680546149645,
          8.668,
          0.2225494505494492,
          3.155999999999999,
          1.9960000000000004,
          8.168,
          2.42,
          12.609079584775085,
          1.1707631942525563,
          3.897973164956589,
          3.921521126760563,
          4.667999999999999,
          0.15199999999999925,
          1.989917808219177,
          2.6382539727183243,
          1.7724976273983923,
          5.167999999999999,
          5.182084507042255,
          4.642576271186439,
          4.310857142857142,
          1.3287628361858204,
          4.888,
          2.3260191204588914,
          3.983412587412589,
          5.936321949418494,
          2.148464961530463,
          0.763951714147753,
          5.396000000000003,
          0.5980526315789447,
          0.6652432432432445,
          0.17288636363636378,
          3.3609729729729754,
          6.171999999999999,
          0.41100000000000136,
          8.41666853849564,
          0.11504958896844286,
          1.3983508771929838,
          4.365763919821823,
          4.101857236411266,
          3.1891660114907765,
          0.888689655172417,
          3.5199223300970868,
          8.610545454545452,
          5.056000000000001,
          2.6281428571428584,
          0.012102284350499204,
          7.645411764705884,
          3.155999999999999,
          3.155999999999997,
          6.721333333333336,
          1.6704179997398878,
          4.756,
          5.172000000000001,
          5.6476923076923065,
          6.151999999999999,
          6.152000000000003,
          0.4079999999999995,
          8.429570851436846,
          15.635344854268766,
          12.069076923076928,
          10.013529119725035,
          2.3253572669368854,
          8.660623494956072,
          1.1679999999999993,
          2.6560581057524715,
          0.2843595505617955,
          8.387250159296546,
          2.1310940766550512,
          3.370542369416336,
          5.982814814814814,
          3.142216992559268,
          11.031475385193538,
          5.7235468749999985,
          6.171999999999999,
          1.6128518518518522,
          3.4020405583355284,
          3.202482758620688,
          2.639264367816093,
          4.211333333333334,
          4.711085106382974,
          2.584549796156086,
          5.174603773584904,
          0.5054463519313295,
          0.8451217712177126,
          9.394335952667099,
          3.0154576271186446,
          3.882457742134486,
          4.425142857142857,
          3.2769523809523804,
          0.2485714285714291,
          5.140749999999999,
          1.380126984126985,
          1.4766451612903229,
          2.3933045822102432,
          3.896000000000001,
          1.9206881720430076,
          0.8704365399057821,
          2.3930831047280936,
          3.896000000000001,
          3.921521126760563,
          5.388613869511696,
          6.055598630340926,
          2.0351707317073178,
          5.212106951871654,
          1.1709510763209394,
          0.13402197802197513,
          6.1633125,
          5.2124444444444435,
          6.144562499999999,
          5.221737373737373,
          7.162823732222385,
          4.1180341296928304,
          4.170605051534711,
          3.0935686274509795,
          1.676771929824561,
          1.7760000000000016,
          3.4170727969348658,
          5.388,
          3.8987142857142842,
          2.735826086956523,
          2.1679999999999993,
          4.429758104180642,
          5.067414012738855,
          6.795246073298433,
          1.3835000000000015,
          1.2937971014492753,
          0.7121590677887717,
          9.166196573489628,
          0.6170314860519017,
          12.671999999999999,
          4.155999999999999,
          0.0019869212660239555,
          4.605499999999999,
          10.280695652173913,
          6.875888888888891,
          0.3847800453514729,
          14.350144838212636,
          10.944551959114143,
          0.4808712871287142,
          6.835371755623587,
          19.54414814814815,
          12.70888888888889,
          4.741496402877697,
          14.676996210070385,
          2.0407058823529383,
          1.1980751879699234,
          0.6393114588591633,
          2.396000000000001,
          3.612000000000002,
          2.318894736842104,
          1.0116620298815047,
          15.616,
          15.169491219267433,
          8.909935483870967,
          10.19299248120301,
          0.4822857142857142,
          14.8532697466468,
          0.05118181818181888,
          1.64006779661017,
          7.43464734299517,
          6.141611510791364,
          3.132769230769229,
          2.417878021450294,
          7.116444444444442,
          5.387999999999998,
          1.928455089820357,
          15.171999999999999,
          15.888727272727273,
          4.573052631578948,
          1.4581224489795908,
          7.046999999999999,
          12.175008562832678,
          6.308173913043479,
          9.349818181818183,
          9.73564835164835,
          6.678315789473684,
          5.810878504672898,
          1.7487741935483854,
          3.197382716049386,
          11.48690909090909,
          2.388,
          3.1116984924623114,
          0.5177961324156009,
          12.347153896529145,
          1.1519999999999992,
          11.943945205479451,
          10.251656697009107,
          12.006942190192694,
          0.9679791209938386,
          4.669716427232981,
          10.19147291835085,
          2.1675555555555572,
          0.38758059951112855,
          6.396000000000001,
          8.509772397094428,
          5.894207885304661,
          2.5680000000000014,
          6.685256198347108,
          2.181058168722034,
          7.199333333333332,
          1.422036760844449,
          4.626333333333335,
          0.6359891037864323,
          2.0352699849170417,
          1.2520100578325373,
          2.7074754098360643,
          2.612000000000002,
          1.1719999999999988,
          1.091067044381493,
          0.08583957219251381,
          0.017767441860463862,
          11.255866891007663,
          0.5339047619047648,
          5.171999999999997,
          6.0102005716416045,
          0.08602770083102484,
          6.383575221238935,
          4.0166557377049195,
          8.611999999999997,
          5.387999999999998,
          5.396000000000003,
          5.388,
          17.676244482173175,
          12.412468085106386,
          11.103155452436194,
          2.9075903829029386,
          11.079257918552038,
          7.674417308397505,
          2.5365772126897888,
          5.318741433021808,
          6.67496766561514,
          5.050133446663832,
          1.6679999999999993,
          19.9886511627907,
          0.1559999999999988,
          17.678978741679188,
          17.691772865544515,
          11.893525271912988,
          12.974510529969915,
          13.52075424782429,
          12.613683131088703,
          4.748198630136983,
          5.381125475285172,
          1.0550992736077482,
          20.050850863422287,
          19.437307891075328,
          10.17561429758936,
          5.853556561085972,
          4.718195104647037,
          10.617528111484859,
          1.0760359991818351,
          1.879999999999999,
          10.551068783068786,
          6.397501187648457,
          3.882457742134486,
          5.896000000000001,
          6.506064587562282,
          4.055946780202232,
          4.425142857142857,
          5.859176470588233,
          3.3559746386000526,
          2.9311240875912397,
          2.3930831047280936,
          6.620880292733927,
          1.6502372881355925,
          3.324521739130434,
          3.4723478260869545,
          10.171999999999999,
          5.383686274509804,
          7.446823529411768,
          6.513,
          8.151157894736842,
          8.439948051948045,
          6.1801984592550685,
          2.420722432846656,
          6.186550616626741,
          1.3671561181434608,
          3.155999999999999,
          5.291999999999998,
          1.0053333333333345,
          7.66284536082474,
          5.921999999999999,
          2.0910769230769226,
          1.1679999999999993,
          13.52725,
          9.310896599344034,
          4.171999999999999,
          2.8948368228647414,
          5.727555555555554,
          3.3028571428571425,
          1.215796610169491,
          3.1679999999999993,
          1.5230295857988168,
          16.464,
          0.9668148148148141,
          3.2951918332624395,
          1.3590091743119288,
          7.265999999999998,
          1.0040689655172432,
          10.10133333333333,
          1.3245423728813535,
          0.8960483980253642,
          5.0616526946107765,
          4.334617283950616,
          3.5053333333333345,
          7.9442772277227665,
          5.099368421052629,
          1.1960000000000015,
          1.871724319002297,
          5.171999999999999,
          1.814580907244416,
          1.768035510462905,
          1.5930460405156541,
          2.368735632183908,
          1.5909189189189163,
          0.7454897680763999,
          3.658118577075099,
          6.947162744116175,
          3.1149655990510112,
          1.3840000000000003,
          1.0840251762336361,
          0.3498303747534539,
          3.5988813357185467,
          4.37554716981132,
          1.879999999999999,
          1.6597999999999988,
          1.9500710659898495,
          0.6639999999999997,
          0.5855234215885972,
          0.7171765399351617,
          3.4019155687012663,
          2.958034914766893,
          0.8994613180515767,
          4.572556328233654,
          4.732179416895086,
          1.9411776155717764,
          2.6141948869951825,
          1.0651228479719883,
          1.8643795620437977,
          0.6637217291726305,
          1.8098394577238661,
          0.35000996828273934,
          1.3582462462462512,
          0.9884964086193158,
          2.214072507552869,
          8.431636363636361,
          5.562666666666665,
          1.4580740740740747,
          5.662304347826089,
          2.6493750837881844,
          4.341967948717947,
          2.4453333333333376,
          0.8560085638434547,
          6.9223157894736875,
          4.08970147377244,
          5.51364705882353,
          3.836615384615383,
          5.162752830709747,
          4.144643761301991,
          3.219724137931033,
          6.838666666666667,
          7.573938088829072,
          9.943666666666667,
          2.250279679781979,
          0.7294829931972782,
          6.29395918367347,
          6.672024207213747,
          3.6679999999999993,
          3.028209599295467,
          8.672311181799321,
          8.671999999999999,
          13.671999999999999,
          2.6007169323567396,
          12.672113817436829,
          13.171999999999999,
          13.171999999999999,
          0.820363636363636,
          1.4148839884947257,
          0.09035541443118333,
          0.25881941513415896,
          1.7901675322945803,
          11.612,
          0.16649180327868862,
          2.388,
          3.1679999999999993,
          1.1659019893255707,
          1.8238726811169705,
          3.137204653166741,
          1.1999215686274525,
          3.1507448474197144,
          3.1601874999999993,
          4.926793969849248,
          2.424596763467081,
          3.692271844660196,
          4.1258794929675275,
          5.375988007794936,
          4.926793969849248,
          5.612,
          1.249312101910828,
          4.432444533280034,
          5.2659884945570425,
          6.1260113250283155,
          0.3806099902601936,
          5.03201092001092,
          3.0260327088908703,
          1.079979188345476,
          5.394232620577235,
          6.334790697674412,
          1.0823220579299129,
          2.3870773638968483,
          5.886014903129654,
          1.7476363636363637,
          2.285692536425808,
          1.1430116279069775,
          0.6400741156653567,
          4.6971428571428575,
          2.315284691947026,
          0.8509432624113469,
          0.08457370121799457,
          0.4895262757044936,
          2.396000000000001,
          0.44988265718441944,
          0.7764983164983175,
          0.6192274678111573,
          9.194315789473684,
          5.167999999999999,
          12.001333333333328,
          1.3535172413793113,
          8.863136902329387,
          5.975571428571426,
          1.4543255813953486,
          4.4365791579348475,
          4.507089513072215,
          19.72933333333333,
          4.622545454545454,
          4.370025974025975,
          2.4556218288008775,
          3.789359223300968,
          6.171999999999999,
          1.3622573462310648,
          6.672024207213747,
          1.1679999999999993,
          1.3960000000000008,
          0.6547089947089955,
          1.2110230522322745,
          5.400049823991337,
          4.748745306808633,
          1.677598732840547,
          4.038666666666666,
          5.635945862335655,
          3.6854736842105247,
          4.661993746091303,
          2.2961963190184047,
          1.0619999999999994,
          1.0575334510496361,
          5.8219205087440375,
          3.2787961165048536,
          8.692053467993466,
          1.2700774172294533,
          5.822101126841952,
          7.987307293089323,
          5.032363636363636,
          5.458500000000001,
          0.4322581888246635,
          0.6042930943595142,
          0.5025346311186354,
          1.053088153868572,
          0.6696883328800638,
          1.5388571428571431,
          5.914344919341428,
          8.925924095322152,
          6.851651416122007,
          1.6559999999999988,
          2.303980682691252,
          1.5763152928115431,
          5.222058892815074,
          11.850545454545454,
          2.3927782414735947,
          4.767999999999999,
          11.228338028169015,
          9.045893984088671,
          11.228338028169015,
          1.6151718012767162,
          10.15375178102737,
          0.4510241286863277,
          2.6256076861489177,
          3.2653958333333364,
          2.005955723356788,
          1.6627259310108098,
          1.0651228479719883,
          14.168,
          0.5771214128035353,
          0.8799460334592553,
          2.5209962546816485,
          3.8917851662404104,
          0.7493740902474535,
          4.2914163976759205,
          1.1619852550869982,
          1.545937194696437,
          13.171999999999999,
          3.5674285714285734,
          2.053449814126399,
          4.616,
          4.740709256844852,
          4.66,
          9.581311621021465,
          2.2349354254677127,
          1.2370622406638994,
          5.810262895174706,
          4.372161218972725,
          6.052084656084656,
          1.7297535667963668,
          0.29825976925939557,
          1.0477551020408171,
          2.6861366459627316,
          1.8843907125700579,
          2.204478527607364,
          1.9091328041192863,
          3.4086033871603014,
          8.168,
          5.167999999999999,
          3.537312572623751,
          1.1593136094674534,
          2.7746995073891636,
          5.171999999999997,
          0.6003516858728108,
          8.213839226930018,
          2.168000000000001,
          2.1679999999999993,
          2.1679999999999993,
          0.7059067081297208,
          3.4682438674508678,
          4.221040128410914,
          23.12654545454545,
          7.104750000000001,
          9.496,
          9.422273458445042,
          2.0905917138163908,
          1.8665790789003918,
          8.99948432055749,
          1.622545454545456,
          5.32030278884462,
          4.045501774002796,
          1.8960000000000008,
          5.167999999999999,
          1.3231437274993052,
          6.759655418151331,
          2.9513333333333325,
          7.238663231942928,
          4.8666301369863,
          4.8511869918699215,
          3.867017709563166,
          3.6568484848484832,
          3.6679999999999993,
          7.947724137931036,
          8.171999999999999,
          3.343156806433088,
          1.424995394849054,
          2.2169678800856527,
          2.432961276695613,
          0.5350000000000001,
          6.035040935672514,
          0.9058616483707969,
          6.295621988882026,
          2.043025089605738,
          10.000045853000676,
          7.168705135738627,
          8.999470095937946,
          3.396000000000001,
          0.9596666666666653,
          6.114791853641698,
          6.118555366269163,
          0.7421898734177201,
          2.076761904761902,
          8.326269252840586,
          0.3960000000000008,
          5.463930773081595,
          0.8860943427899919,
          16.772,
          3.6792307692307684,
          16.757340621797066,
          0.16033618819230533,
          10.691809523809528,
          10.691809523809528,
          6.171999999999999,
          6.171999999999999,
          1.0648866549384284,
          0.004842809364548728,
          0.31069613259668394,
          16.772,
          12.171999999999999,
          12.171999999999999,
          5.853556561085972,
          2.0834929577464756,
          6.084995215311006,
          10.385948717948718,
          8.735567567567571,
          5.674489110143124,
          2.845868271481109,
          2.4895228426395946,
          0.03966317748313486,
          4.768273291925462,
          1.0466666666666633,
          1.5269999999999992,
          6.1683173945566505,
          6.590384710670678,
          0.024057971014492807,
          1.6680693577472603,
          5.649842340109073,
          0.16000000000000014,
          4.396000000000003,
          2.888,
          2.302837576821773,
          4.533151865475565,
          9.558804597701148,
          4.778741573033706,
          5.836032054135874,
          1.2000422535211257,
          0.1639999999999997,
          11.168000000000003,
          0.684000000000001,
          1.4489899823217431,
          6.902270093839251,
          12.171999999999999,
          11.113725915875172,
          4.672050185687045,
          10.816275862068967,
          13.15664322822279,
          5.220543689320387,
          1.0260377222920791,
          0.746050461920662,
          2.837999999999999,
          2.8979610894941636,
          10.160754716981131,
          6.1679999999999975,
          2.6807760517065446,
          10.285473684210528,
          3.174785714285715,
          4.299225806451615,
          2.4122577030812327,
          5.541234493192135,
          5.521239005736135,
          2.8943069977426656,
          3.3987502209999025,
          14.171999999999999,
          2.8629152542372864,
          5.399090704768019,
          2.882370883882148,
          3.354762886597939,
          5.185473684210525,
          15.16843459365493,
          14.180016032064126,
          0.834202247191012,
          3.257906167010919,
          2.9111515151515164,
          14.179038712921065,
          4.895999999999999,
          5.296000000000001,
          13.896,
          3.1679999999999993,
          15.169491219267433,
          17.168,
          2.7266744017403948,
          19.768,
          4.468043563493795,
          15.96742857142857,
          5.17393471810089,
          2.171999999999999,
          8.863136902329387,
          8.272,
          8.987533766489468,
          7.163773903856313,
          2.175194244604315,
          3.747135135135135,
          4.399071165296286,
          2.2853458771444384,
          5.870285714285714,
          11.887384615384613,
          6.170984183825723,
          1.6960000000000015,
          4.911556681443953,
          6.810857142857142,
          2.9523137254901943,
          0.6519999999999992,
          6.632864864864866,
          2.346,
          5.469426573426574,
          2.197316455696205,
          5.563894179894181,
          1.1509708388710802,
          5.234919955735894,
          3.9427317073170745,
          3.668000000000001,
          1.1973471894189878,
          1.8881458523245183,
          1.258909090909091,
          11.888,
          0.1873050193050183,
          0.955234042553192,
          1.6172798310454084,
          2.6160000000000014,
          3.797945397068686,
          1.0053333333333345,
          7.171999999999999,
          4.917667580910585,
          0.5659591836734705,
          0.8960000000000008,
          2.309964768955833,
          3.2314920634920643,
          6.7493333333333325,
          48.784363636363636,
          54.74799999999999,
          53.481333333333325,
          39.7950588235294,
          0.8290996647363595,
          1.5316626506024065,
          58.100380952380945,
          7.615512195121948,
          12.394222222222217,
          3.422833333333335,
          6.367134849286087,
          3.6758313073679005,
          5.516109589041095,
          10.760235294117647,
          3.1679999999999993,
          11.973555555555556,
          1.1291910352187848,
          2.3919770815555275,
          12.171999999999999,
          7.771861072520144,
          2.395317871759893,
          3.5237647058823516,
          0.8315058631033523,
          3.976592592592592,
          4.670109704641346,
          7.771999999999997,
          4.205743589743591,
          1.1719999999999988,
          3.7277500000000003,
          2.671999999999999,
          4.542992703957552,
          1.1980751879699234,
          0.11513518936543754,
          2.3840000000000003,
          0.5146792912214249,
          6.536440513047323,
          5.89137595496582,
          4.607517761033369,
          1.1779406528189895,
          11.66,
          3.003497015066804,
          2.459315951549989,
          5.396000000000001,
          6.170735229759298,
          1.231084100365651,
          1.0217441101848497,
          4.151946444510562,
          0.9897964071856276,
          9.168,
          5.024022727272726,
          1.450000000000001,
          9.752643356643361,
          4.076307692307694,
          4.430204913500276,
          2.316225352112676,
          9.174859756097561,
          3.396000000000001,
          17.67916332378224,
          5.050843174125609,
          2.2170854572713665,
          1.632923076923074,
          3.4719215686274527,
          15.449296886864085,
          13.171392558845858,
          16.776,
          22.386126582278486,
          2.9311240875912397,
          5.859176470588233,
          3.23696551724138,
          0.6170499163138725,
          3.874180675569521,
          4.217898989898988,
          5.383686274509804,
          3.324521739130434,
          3.4723478260869545,
          4.171999999999997,
          3.5315377008652664,
          2.065185185185184,
          9.947236749116609,
          1.0969008202833734,
          6.495764927610724,
          3.215616092558509,
          7.672606060606062,
          6.612,
          6.343368421052633,
          6.426814814814815,
          4.615114482104765,
          3.8754482758620696,
          2.896717536813922,
          5.178303030303031,
          3.0931916971916973,
          8.168,
          1.2319807135969167,
          8.168,
          6.648,
          8.471517075517077,
          7.513305171158045,
          6.171999999999999,
          0.7512746997287874,
          3.142216992559268,
          6.639011494252875,
          1.9674757536041927,
          1.0459660710246563,
          10.171999999999999,
          4.167999999999999,
          0.9793231039017947,
          1.0056259129882523,
          3.4642473574458936,
          2.862,
          5.612,
          8.671999999999999,
          6.215999999999999,
          1.5735496264674484,
          2.253565217391305,
          1.0397288135593215,
          2.2601975308641986,
          3.8869120438313285,
          6.2204897959183665,
          0.8809845457972134,
          22.83466666666667,
          11.911130434782608,
          0.793998134676368,
          0.1629556650246311,
          6.493647058823528,
          8.176951841359775,
          3.736425531914895,
          1.150963719979563,
          11.973555555555556,
          1.0038585276395064,
          2.315354037267083,
          1.6995040431266837,
          0.374578734858682,
          2.3880000000000017,
          0.937212868811466,
          7.772152276534188,
          4.244923076923074,
          9.101263157894737,
          8.668,
          0.160348440258975,
          2.1245253283302077,
          13.871,
          2.4444550379198287,
          0.7124609490126712,
          1.4598344685773057,
          1.857655172413791,
          0.20353925977170206,
          2.00005091487669,
          3.5674285714285734,
          1.2091658615136875,
          0.9814127601963101,
          4.216704980842913,
          2.9960000000000004,
          4.589943220531454,
          3.3219588477366244,
          4.639974632166412,
          4.740052328623758,
          4.5299422358137935,
          2.797979282100698,
          4.740052328623758,
          4.5299422358137935,
          1.8313498158863748,
          0.2619849261380782,
          4.640000000000001,
          1.596,
          0.9625799556887795,
          7.880371006526968,
          6.062666666666665,
          0.7294829931972782,
          4.16,
          1.1600000000000001,
          10.228910569105691,
          4.0990344827586185,
          1.1798846074593037,
          4.432444533280034,
          6.260753623188405,
          2.0118710093518217,
          6.396000000000001,
          2.687697211155381,
          0.36642312746386274,
          6.240085671449993,
          0.6696883328800638,
          3.164917719741645,
          5.349984025559106,
          6.24,
          6.1679999999999975,
          5.396000000000001,
          3.396000000000001,
          5.8817649186256755,
          5.0191615720524005,
          4.352684684684686,
          4.160080632156106,
          1.3082211981566836,
          4.6971428571428575,
          25.886285714285712,
          1.9061176470588261,
          0.7758630283574082,
          1.2370622406638994,
          4.748745306808633,
          2.303980682691252,
          1.421818551313688,
          0.9596937799043079,
          0.021999999999998465,
          2.189650793650795,
          8.578856313497822,
          4.138588235294115,
          2.840802370476787,
          0.7739407152419204,
          3.255378640776698,
          2.3808244803695153,
          5.032007887472069,
          5.000651162790694,
          7.1341889763779545,
          6.759655418151331,
          7.771999999999997,
          5.000651162790694,
          4.221040128410914,
          4.507089513072215,
          4.107834721759412,
          13.171999999999999,
          5.110777390090716,
          10.570985074626861,
          0.6289631647518643,
          0.8454138635941266,
          1.8126666666666669,
          1.5611527741256896,
          11.612,
          5.566343803540832,
          1.3960000000000008,
          4.432444533280034,
          0.6792052649495073,
          7.596571428571426,
          4.639974996874608,
          7.6018477157360405,
          5.6336440952737235,
          1.0038431372549024,
          1.4523136976579138,
          2.396000000000001,
          1.3033944223107543,
          12.736627450980397,
          12.736627450980397,
          7.167999999999999,
          8.168000000000003,
          8.168,
          7.167999999999999,
          1.4085890200102646,
          0.6169613978782209,
          2.279111111111108,
          3.1679999999999993,
          1.3342222222222215,
          2.1820561272217027,
          2.2373794778384966,
          4.34,
          4.760233009708733,
          2.945893129770992,
          3.475571428571426,
          4.673194305502113,
          5.453714285714284,
          6.0639646910466585,
          6.019005765534914,
          5.533419551160135,
          0.3879999999999999,
          3.01615503875969,
          9.168904568068744,
          2.388,
          17.678978741679188,
          15.174515343595926,
          4.314840579710145,
          17.17025225225225,
          15.165453851050284,
          15.173934718100892,
          1.1509719448407054,
          2.396844594594592,
          3.603372549019607,
          0.23837762237762306,
          17.472,
          1.1744391500321942,
          4.963666666666663,
          12.175008562832678,
          3.530453781512607,
          5.66964864864865,
          9.260338482202823,
          1.277973533918372,
          5.294545454545455,
          9.116,
          1.9909470252648749,
          1.8933114754098348,
          2.333500000000001,
          0.16006726759047396,
          1.6519999999999992,
          1.4399999999999995,
          1.195333333333334,
          3.9905004733354357,
          3.1599742351046682,
          7.009404825737267,
          2.692,
          1.2840000000000007,
          1.072357823348943,
          0.4579531111392736,
          5.503145823035094,
          1.1479999999999997,
          5.441835920177384,
          1.4596923076923058,
          8.341913043478261,
          2.149333333333333,
          3.66,
          8.062666666666669,
          2.2680705119165143,
          8.341913043478261,
          0.05587500000000034,
          4.173777777777779,
          1.2452046332046383,
          10.711030303030306,
          5.535816091954025,
          13.462016302575806,
          1.5904390243902444,
          0.2921933605125222,
          3.112000000000002,
          0.13433089416383837,
          4.839999999999998,
          0.6379625468164782,
          0.04094117647058759,
          0.07309803921568658,
          5.671536327730319,
          0.1181960784313727,
          1.3625762711864393,
          2.721263157894734,
          2.1679999999999993,
          0.11488292805214328,
          5.342542096352162,
          0.0557586206896552,
          0.08917647058823519,
          0.19905263157894737,
          14.896065600323949,
          4.670107766348966,
          8.341913043478261,
          5.205523809523813,
          4.717333333333336,
          3.3972499999999997,
          4.1136152623211455,
          1.7235862068965542,
          1.7599999999999998,
          4.191809523809525,
          4.12878431372549,
          5.1974117647058815,
          10.630622320176322,
          0.15669571090847612,
          4.7391875,
          1.4153498233215558,
          3.1679999999999993,
          4.887999999999998,
          5.199619047619047,
          6.66,
          11.564470588235293,
          0.2046315789473674,
          4.43484745762712,
          0.9100000000000001,
          2.769050445103858,
          0.7700101626016238,
          0.9527668231611912,
          1.203966902258232,
          0.7919833194328607,
          4.055951202509588,
          4.690050454086784,
          4.119030303030305,
          1.0773997734994332,
          1.6083591022443855,
          0.34609734513274226,
          1.6119999999999983,
          0.8171612903225789,
          2.3340376522702115,
          1.1928383233532927,
          2.6639999999999997,
          4.717333333333336,
          2.1743020744042507,
          4.707555555555555,
          3.171311258278143,
          10.590852701127083,
          9.84,
          4.605499999999999,
          4.149818181818182,
          5.677638376383765,
          3.87839271189198,
          4.4556433978132866,
          5.243542364767833,
          3.7980206185567003,
          3.1992849496895737,
          2.3527142154451575,
          2.34310455104551,
          8.16636518448439,
          9.375329208448905,
          7.066859331120755,
          8.605366873208174,
          4.013837277870747,
          9.171999999999999,
          4.6974117647058815,
          3.393105643994213,
          0.5159793233082723,
          2.626333333333335,
          5.937144050104386,
          3.1160279720279718,
          6.011384615384616,
          1.8856385177716177,
          4.728,
          3.8224456233421744,
          7.4725527618293395,
          1.0699104477611936,
          4.109176470588233,
          4.614808510638301,
          1.8840000000000003,
          8.033914853358562,
          5.185543859649123,
          11.368344776204934,
          5.1872307692307675,
          10.590852701127083,
          7.685592760180995,
          6.799440180586908,
          4.0990344827586185,
          1.3240218416480545,
          4.0176292045273385,
          11.368344776204934,
          6.247714819215757,
          0.6380303214069141,
          4.0176292045273385,
          9.252768263021052,
          11.396,
          5.649521126760565,
          1.9192734344613012,
          2.495931907939534,
          0.5619393939393937,
          4.171999999999997,
          3.4886666666666635,
          3.626962962962965,
          1.8880767306088408,
          4.980154696132594,
          0.2712240585207262,
          4.642576271186439,
          2.1679999999999993,
          2.9220320636142123,
          1.2444848484848485,
          0.5177463604982737,
          5.390169096209915,
          2.062666666666667,
          0.2919580908032593,
          0.29210768803774556,
          4.148392156862744,
          4.667999999999999,
          0.9520086355785828,
          1.7458811369509046,
          3.3598813111698007,
          0.2094545454545429,
          1.532,
          7.470722689075631,
          3.033389307969829,
          6.038282462183616,
          4.741770491803278,
          1.1479999999999997,
          1.2099837469800114,
          0.16000000000000014,
          4.91451851851852,
          0.01593379707363951,
          4.5299616591146705,
          1.6809637046307877,
          2.223940298507463,
          3.66,
          3.0265120202446223,
          1.6367272727272741,
          4.630697674418604,
          1.9773431734317342,
          2.3632380952380956,
          2.098074634937806,
          4.738386481512466,
          5.047000596302922,
          2.325952953476218,
          9.447872178246849,
          2.135627678257812,
          12.295893805309733,
          0.22933333333333472,
          3.6866919431279612,
          1.8161904761904761,
          11.38523076923077,
          6.508909090909091,
          2.9184051863857388,
          10.691774647887325,
          7.672599211563732,
          4.414425567703953,
          2.9001554353172647,
          3.483068493150684,
          3.152926859250151,
          3.6015026557218732,
          3.152926859250151,
          1.073139614074913,
          2.8959319450115704,
          4.349818181818181,
          8.168,
          8.168,
          11.28311111111111,
          2.845078955712925,
          2.1132054794520556,
          7.485333333333328
         ],
         "xaxis": "x",
         "yaxis": "y"
        }
       ],
       "layout": {
        "barmode": "relative",
        "height": 600,
        "legend": {
         "tracegroupgap": 0
        },
        "template": {
         "data": {
          "bar": [
           {
            "error_x": {
             "color": "#2a3f5f"
            },
            "error_y": {
             "color": "#2a3f5f"
            },
            "marker": {
             "line": {
              "color": "#E5ECF6",
              "width": 0.5
             }
            },
            "type": "bar"
           }
          ],
          "barpolar": [
           {
            "marker": {
             "line": {
              "color": "#E5ECF6",
              "width": 0.5
             }
            },
            "type": "barpolar"
           }
          ],
          "carpet": [
           {
            "aaxis": {
             "endlinecolor": "#2a3f5f",
             "gridcolor": "white",
             "linecolor": "white",
             "minorgridcolor": "white",
             "startlinecolor": "#2a3f5f"
            },
            "baxis": {
             "endlinecolor": "#2a3f5f",
             "gridcolor": "white",
             "linecolor": "white",
             "minorgridcolor": "white",
             "startlinecolor": "#2a3f5f"
            },
            "type": "carpet"
           }
          ],
          "choropleth": [
           {
            "colorbar": {
             "outlinewidth": 0,
             "ticks": ""
            },
            "type": "choropleth"
           }
          ],
          "contour": [
           {
            "colorbar": {
             "outlinewidth": 0,
             "ticks": ""
            },
            "colorscale": [
             [
              0,
              "#0d0887"
             ],
             [
              0.1111111111111111,
              "#46039f"
             ],
             [
              0.2222222222222222,
              "#7201a8"
             ],
             [
              0.3333333333333333,
              "#9c179e"
             ],
             [
              0.4444444444444444,
              "#bd3786"
             ],
             [
              0.5555555555555556,
              "#d8576b"
             ],
             [
              0.6666666666666666,
              "#ed7953"
             ],
             [
              0.7777777777777778,
              "#fb9f3a"
             ],
             [
              0.8888888888888888,
              "#fdca26"
             ],
             [
              1,
              "#f0f921"
             ]
            ],
            "type": "contour"
           }
          ],
          "contourcarpet": [
           {
            "colorbar": {
             "outlinewidth": 0,
             "ticks": ""
            },
            "type": "contourcarpet"
           }
          ],
          "heatmap": [
           {
            "colorbar": {
             "outlinewidth": 0,
             "ticks": ""
            },
            "colorscale": [
             [
              0,
              "#0d0887"
             ],
             [
              0.1111111111111111,
              "#46039f"
             ],
             [
              0.2222222222222222,
              "#7201a8"
             ],
             [
              0.3333333333333333,
              "#9c179e"
             ],
             [
              0.4444444444444444,
              "#bd3786"
             ],
             [
              0.5555555555555556,
              "#d8576b"
             ],
             [
              0.6666666666666666,
              "#ed7953"
             ],
             [
              0.7777777777777778,
              "#fb9f3a"
             ],
             [
              0.8888888888888888,
              "#fdca26"
             ],
             [
              1,
              "#f0f921"
             ]
            ],
            "type": "heatmap"
           }
          ],
          "heatmapgl": [
           {
            "colorbar": {
             "outlinewidth": 0,
             "ticks": ""
            },
            "colorscale": [
             [
              0,
              "#0d0887"
             ],
             [
              0.1111111111111111,
              "#46039f"
             ],
             [
              0.2222222222222222,
              "#7201a8"
             ],
             [
              0.3333333333333333,
              "#9c179e"
             ],
             [
              0.4444444444444444,
              "#bd3786"
             ],
             [
              0.5555555555555556,
              "#d8576b"
             ],
             [
              0.6666666666666666,
              "#ed7953"
             ],
             [
              0.7777777777777778,
              "#fb9f3a"
             ],
             [
              0.8888888888888888,
              "#fdca26"
             ],
             [
              1,
              "#f0f921"
             ]
            ],
            "type": "heatmapgl"
           }
          ],
          "histogram": [
           {
            "marker": {
             "colorbar": {
              "outlinewidth": 0,
              "ticks": ""
             }
            },
            "type": "histogram"
           }
          ],
          "histogram2d": [
           {
            "colorbar": {
             "outlinewidth": 0,
             "ticks": ""
            },
            "colorscale": [
             [
              0,
              "#0d0887"
             ],
             [
              0.1111111111111111,
              "#46039f"
             ],
             [
              0.2222222222222222,
              "#7201a8"
             ],
             [
              0.3333333333333333,
              "#9c179e"
             ],
             [
              0.4444444444444444,
              "#bd3786"
             ],
             [
              0.5555555555555556,
              "#d8576b"
             ],
             [
              0.6666666666666666,
              "#ed7953"
             ],
             [
              0.7777777777777778,
              "#fb9f3a"
             ],
             [
              0.8888888888888888,
              "#fdca26"
             ],
             [
              1,
              "#f0f921"
             ]
            ],
            "type": "histogram2d"
           }
          ],
          "histogram2dcontour": [
           {
            "colorbar": {
             "outlinewidth": 0,
             "ticks": ""
            },
            "colorscale": [
             [
              0,
              "#0d0887"
             ],
             [
              0.1111111111111111,
              "#46039f"
             ],
             [
              0.2222222222222222,
              "#7201a8"
             ],
             [
              0.3333333333333333,
              "#9c179e"
             ],
             [
              0.4444444444444444,
              "#bd3786"
             ],
             [
              0.5555555555555556,
              "#d8576b"
             ],
             [
              0.6666666666666666,
              "#ed7953"
             ],
             [
              0.7777777777777778,
              "#fb9f3a"
             ],
             [
              0.8888888888888888,
              "#fdca26"
             ],
             [
              1,
              "#f0f921"
             ]
            ],
            "type": "histogram2dcontour"
           }
          ],
          "mesh3d": [
           {
            "colorbar": {
             "outlinewidth": 0,
             "ticks": ""
            },
            "type": "mesh3d"
           }
          ],
          "parcoords": [
           {
            "line": {
             "colorbar": {
              "outlinewidth": 0,
              "ticks": ""
             }
            },
            "type": "parcoords"
           }
          ],
          "pie": [
           {
            "automargin": true,
            "type": "pie"
           }
          ],
          "scatter": [
           {
            "marker": {
             "colorbar": {
              "outlinewidth": 0,
              "ticks": ""
             }
            },
            "type": "scatter"
           }
          ],
          "scatter3d": [
           {
            "line": {
             "colorbar": {
              "outlinewidth": 0,
              "ticks": ""
             }
            },
            "marker": {
             "colorbar": {
              "outlinewidth": 0,
              "ticks": ""
             }
            },
            "type": "scatter3d"
           }
          ],
          "scattercarpet": [
           {
            "marker": {
             "colorbar": {
              "outlinewidth": 0,
              "ticks": ""
             }
            },
            "type": "scattercarpet"
           }
          ],
          "scattergeo": [
           {
            "marker": {
             "colorbar": {
              "outlinewidth": 0,
              "ticks": ""
             }
            },
            "type": "scattergeo"
           }
          ],
          "scattergl": [
           {
            "marker": {
             "colorbar": {
              "outlinewidth": 0,
              "ticks": ""
             }
            },
            "type": "scattergl"
           }
          ],
          "scattermapbox": [
           {
            "marker": {
             "colorbar": {
              "outlinewidth": 0,
              "ticks": ""
             }
            },
            "type": "scattermapbox"
           }
          ],
          "scatterpolar": [
           {
            "marker": {
             "colorbar": {
              "outlinewidth": 0,
              "ticks": ""
             }
            },
            "type": "scatterpolar"
           }
          ],
          "scatterpolargl": [
           {
            "marker": {
             "colorbar": {
              "outlinewidth": 0,
              "ticks": ""
             }
            },
            "type": "scatterpolargl"
           }
          ],
          "scatterternary": [
           {
            "marker": {
             "colorbar": {
              "outlinewidth": 0,
              "ticks": ""
             }
            },
            "type": "scatterternary"
           }
          ],
          "surface": [
           {
            "colorbar": {
             "outlinewidth": 0,
             "ticks": ""
            },
            "colorscale": [
             [
              0,
              "#0d0887"
             ],
             [
              0.1111111111111111,
              "#46039f"
             ],
             [
              0.2222222222222222,
              "#7201a8"
             ],
             [
              0.3333333333333333,
              "#9c179e"
             ],
             [
              0.4444444444444444,
              "#bd3786"
             ],
             [
              0.5555555555555556,
              "#d8576b"
             ],
             [
              0.6666666666666666,
              "#ed7953"
             ],
             [
              0.7777777777777778,
              "#fb9f3a"
             ],
             [
              0.8888888888888888,
              "#fdca26"
             ],
             [
              1,
              "#f0f921"
             ]
            ],
            "type": "surface"
           }
          ],
          "table": [
           {
            "cells": {
             "fill": {
              "color": "#EBF0F8"
             },
             "line": {
              "color": "white"
             }
            },
            "header": {
             "fill": {
              "color": "#C8D4E3"
             },
             "line": {
              "color": "white"
             }
            },
            "type": "table"
           }
          ]
         },
         "layout": {
          "annotationdefaults": {
           "arrowcolor": "#2a3f5f",
           "arrowhead": 0,
           "arrowwidth": 1
          },
          "coloraxis": {
           "colorbar": {
            "outlinewidth": 0,
            "ticks": ""
           }
          },
          "colorscale": {
           "diverging": [
            [
             0,
             "#8e0152"
            ],
            [
             0.1,
             "#c51b7d"
            ],
            [
             0.2,
             "#de77ae"
            ],
            [
             0.3,
             "#f1b6da"
            ],
            [
             0.4,
             "#fde0ef"
            ],
            [
             0.5,
             "#f7f7f7"
            ],
            [
             0.6,
             "#e6f5d0"
            ],
            [
             0.7,
             "#b8e186"
            ],
            [
             0.8,
             "#7fbc41"
            ],
            [
             0.9,
             "#4d9221"
            ],
            [
             1,
             "#276419"
            ]
           ],
           "sequential": [
            [
             0,
             "#0d0887"
            ],
            [
             0.1111111111111111,
             "#46039f"
            ],
            [
             0.2222222222222222,
             "#7201a8"
            ],
            [
             0.3333333333333333,
             "#9c179e"
            ],
            [
             0.4444444444444444,
             "#bd3786"
            ],
            [
             0.5555555555555556,
             "#d8576b"
            ],
            [
             0.6666666666666666,
             "#ed7953"
            ],
            [
             0.7777777777777778,
             "#fb9f3a"
            ],
            [
             0.8888888888888888,
             "#fdca26"
            ],
            [
             1,
             "#f0f921"
            ]
           ],
           "sequentialminus": [
            [
             0,
             "#0d0887"
            ],
            [
             0.1111111111111111,
             "#46039f"
            ],
            [
             0.2222222222222222,
             "#7201a8"
            ],
            [
             0.3333333333333333,
             "#9c179e"
            ],
            [
             0.4444444444444444,
             "#bd3786"
            ],
            [
             0.5555555555555556,
             "#d8576b"
            ],
            [
             0.6666666666666666,
             "#ed7953"
            ],
            [
             0.7777777777777778,
             "#fb9f3a"
            ],
            [
             0.8888888888888888,
             "#fdca26"
            ],
            [
             1,
             "#f0f921"
            ]
           ]
          },
          "colorway": [
           "#636efa",
           "#EF553B",
           "#00cc96",
           "#ab63fa",
           "#FFA15A",
           "#19d3f3",
           "#FF6692",
           "#B6E880",
           "#FF97FF",
           "#FECB52"
          ],
          "font": {
           "color": "#2a3f5f"
          },
          "geo": {
           "bgcolor": "white",
           "lakecolor": "white",
           "landcolor": "#E5ECF6",
           "showlakes": true,
           "showland": true,
           "subunitcolor": "white"
          },
          "hoverlabel": {
           "align": "left"
          },
          "hovermode": "closest",
          "mapbox": {
           "style": "light"
          },
          "paper_bgcolor": "white",
          "plot_bgcolor": "#E5ECF6",
          "polar": {
           "angularaxis": {
            "gridcolor": "white",
            "linecolor": "white",
            "ticks": ""
           },
           "bgcolor": "#E5ECF6",
           "radialaxis": {
            "gridcolor": "white",
            "linecolor": "white",
            "ticks": ""
           }
          },
          "scene": {
           "xaxis": {
            "backgroundcolor": "#E5ECF6",
            "gridcolor": "white",
            "gridwidth": 2,
            "linecolor": "white",
            "showbackground": true,
            "ticks": "",
            "zerolinecolor": "white"
           },
           "yaxis": {
            "backgroundcolor": "#E5ECF6",
            "gridcolor": "white",
            "gridwidth": 2,
            "linecolor": "white",
            "showbackground": true,
            "ticks": "",
            "zerolinecolor": "white"
           },
           "zaxis": {
            "backgroundcolor": "#E5ECF6",
            "gridcolor": "white",
            "gridwidth": 2,
            "linecolor": "white",
            "showbackground": true,
            "ticks": "",
            "zerolinecolor": "white"
           }
          },
          "shapedefaults": {
           "line": {
            "color": "#2a3f5f"
           }
          },
          "ternary": {
           "aaxis": {
            "gridcolor": "white",
            "linecolor": "white",
            "ticks": ""
           },
           "baxis": {
            "gridcolor": "white",
            "linecolor": "white",
            "ticks": ""
           },
           "bgcolor": "#E5ECF6",
           "caxis": {
            "gridcolor": "white",
            "linecolor": "white",
            "ticks": ""
           }
          },
          "title": {
           "x": 0.05
          },
          "xaxis": {
           "automargin": true,
           "gridcolor": "white",
           "linecolor": "white",
           "ticks": "",
           "title": {
            "standoff": 15
           },
           "zerolinecolor": "white",
           "zerolinewidth": 2
          },
          "yaxis": {
           "automargin": true,
           "gridcolor": "white",
           "linecolor": "white",
           "ticks": "",
           "title": {
            "standoff": 15
           },
           "zerolinecolor": "white",
           "zerolinewidth": 2
          }
         }
        },
        "title": {
         "text": "Excess rent per m² under new rental cap"
        },
        "xaxis": {
         "anchor": "y",
         "domain": [
          0,
          1
         ],
         "title": {
          "text": "Excess rent per m² under new rental cap"
         }
        },
        "yaxis": {
         "anchor": "x",
         "domain": [
          0,
          1
         ],
         "title": {
          "text": "count"
         }
        }
       }
      },
      "text/html": [
       "<div>\n",
       "        \n",
       "        \n",
       "            <div id=\"e4d9f935-880e-4919-bc60-c06bb0c5ed90\" class=\"plotly-graph-div\" style=\"height:600px; width:100%;\"></div>\n",
       "            <script type=\"text/javascript\">\n",
       "                require([\"plotly\"], function(Plotly) {\n",
       "                    window.PLOTLYENV=window.PLOTLYENV || {};\n",
       "                    \n",
       "                if (document.getElementById(\"e4d9f935-880e-4919-bc60-c06bb0c5ed90\")) {\n",
       "                    Plotly.newPlot(\n",
       "                        'e4d9f935-880e-4919-bc60-c06bb0c5ed90',\n",
       "                        [{\"alignmentgroup\": \"True\", \"bingroup\": \"x\", \"hoverlabel\": {\"namelength\": 0}, \"hovertemplate\": \"Excess rent per m\\u00b2 under new rental cap=%{x}<br>count=%{y}\", \"legendgroup\": \"\", \"marker\": {\"color\": \"#636efa\"}, \"name\": \"\", \"offsetgroup\": \"\", \"orientation\": \"v\", \"showlegend\": false, \"type\": \"histogram\", \"x\": [4.552410256410257, 4.683725571725571, 0.19052432255958074, 6.167999999999999, 0.9830230522322747, 2.655999999999997, 6.1049622312608935, 0.9618144329896925, 18.023636363636363, 8.211996546961322, 1.2119834424625537, 2.4289410892923318, 8.485670329670327, 8.853318681318678, 3.155999999999999, 7.167999999999999, 4.664753623188403, 3.5053333333333345, 3.829498708010334, 16.683627906976746, 2.0848609168609187, 1.2120470588235275, 5.22790016638935, 3.669217967455909, 2.324319623971796, 9.84, 1.6809864671230699, 6.006303572522823, 5.6849132458151, 1.191427041499331, 4.571824175824176, 2.171999999999997, 7.168413793103447, 3.01615503875969, 4.167999999999999, 15.626545454545449, 9.991529411764706, 4.64733900034002, 8.165670568141858, 10.171999999999999, 3.5591475955405176, 7.918418760469013, 0.3847800453514729, 0.3007579442918811, 4.4280258732212125, 11.065487503433129, 3.088665913061348, 18.772, 0.5081015228426402, 1.4389487551047306, 0.8245714285714296, 0.08597541655285745, 7.261833333333332, 3.896000000000001, 5.388613869511696, 2.3933045822102432, 3.3594555804726625, 1.1707631942525563, 1.5053333333333345, 0.14182978723404283, 12.171999999999999, 14.738222222222216, 2.976030880082348, 8.6680546149645, 8.668, 0.2225494505494492, 3.155999999999999, 1.9960000000000004, 8.168, 2.42, 12.609079584775085, 1.1707631942525563, 3.897973164956589, 3.921521126760563, 4.667999999999999, 0.15199999999999925, 1.989917808219177, 2.6382539727183243, 1.7724976273983923, 5.167999999999999, 5.182084507042255, 4.642576271186439, 4.310857142857142, 1.3287628361858204, 4.888, 2.3260191204588914, 3.983412587412589, 5.936321949418494, 2.148464961530463, 0.763951714147753, 5.396000000000003, 0.5980526315789447, 0.6652432432432445, 0.17288636363636378, 3.3609729729729754, 6.171999999999999, 0.41100000000000136, 8.41666853849564, 0.11504958896844286, 1.3983508771929838, 4.365763919821823, 4.101857236411266, 3.1891660114907765, 0.888689655172417, 3.5199223300970868, 8.610545454545452, 5.056000000000001, 2.6281428571428584, 0.012102284350499204, 7.645411764705884, 3.155999999999999, 3.155999999999997, 6.721333333333336, 1.6704179997398878, 4.756, 5.172000000000001, 5.6476923076923065, 6.151999999999999, 6.152000000000003, 0.4079999999999995, 8.429570851436846, 15.635344854268766, 12.069076923076928, 10.013529119725035, 2.3253572669368854, 8.660623494956072, 1.1679999999999993, 2.6560581057524715, 0.2843595505617955, 8.387250159296546, 2.1310940766550512, 3.370542369416336, 5.982814814814814, 3.142216992559268, 11.031475385193538, 5.7235468749999985, 6.171999999999999, 1.6128518518518522, 3.4020405583355284, 3.202482758620688, 2.639264367816093, 4.211333333333334, 4.711085106382974, 2.584549796156086, 5.174603773584904, 0.5054463519313295, 0.8451217712177126, 9.394335952667099, 3.0154576271186446, 3.882457742134486, 4.425142857142857, 3.2769523809523804, 0.2485714285714291, 5.140749999999999, 1.380126984126985, 1.4766451612903229, 2.3933045822102432, 3.896000000000001, 1.9206881720430076, 0.8704365399057821, 2.3930831047280936, 3.896000000000001, 3.921521126760563, 5.388613869511696, 6.055598630340926, 2.0351707317073178, 5.212106951871654, 1.1709510763209394, 0.13402197802197513, 6.1633125, 5.2124444444444435, 6.144562499999999, 5.221737373737373, 7.162823732222385, 4.1180341296928304, 4.170605051534711, 3.0935686274509795, 1.676771929824561, 1.7760000000000016, 3.4170727969348658, 5.388, 3.8987142857142842, 2.735826086956523, 2.1679999999999993, 4.429758104180642, 5.067414012738855, 6.795246073298433, 1.3835000000000015, 1.2937971014492753, 0.7121590677887717, 9.166196573489628, 0.6170314860519017, 12.671999999999999, 4.155999999999999, 0.0019869212660239555, 4.605499999999999, 10.280695652173913, 6.875888888888891, 0.3847800453514729, 14.350144838212636, 10.944551959114143, 0.4808712871287142, 6.835371755623587, 19.54414814814815, 12.70888888888889, 4.741496402877697, 14.676996210070385, 2.0407058823529383, 1.1980751879699234, 0.6393114588591633, 2.396000000000001, 3.612000000000002, 2.318894736842104, 1.0116620298815047, 15.616, 15.169491219267433, 8.909935483870967, 10.19299248120301, 0.4822857142857142, 14.8532697466468, 0.05118181818181888, 1.64006779661017, 7.43464734299517, 6.141611510791364, 3.132769230769229, 2.417878021450294, 7.116444444444442, 5.387999999999998, 1.928455089820357, 15.171999999999999, 15.888727272727273, 4.573052631578948, 1.4581224489795908, 7.046999999999999, 12.175008562832678, 6.308173913043479, 9.349818181818183, 9.73564835164835, 6.678315789473684, 5.810878504672898, 1.7487741935483854, 3.197382716049386, 11.48690909090909, 2.388, 3.1116984924623114, 0.5177961324156009, 12.347153896529145, 1.1519999999999992, 11.943945205479451, 10.251656697009107, 12.006942190192694, 0.9679791209938386, 4.669716427232981, 10.19147291835085, 2.1675555555555572, 0.38758059951112855, 6.396000000000001, 8.509772397094428, 5.894207885304661, 2.5680000000000014, 6.685256198347108, 2.181058168722034, 7.199333333333332, 1.422036760844449, 4.626333333333335, 0.6359891037864323, 2.0352699849170417, 1.2520100578325373, 2.7074754098360643, 2.612000000000002, 1.1719999999999988, 1.091067044381493, 0.08583957219251381, 0.017767441860463862, 11.255866891007663, 0.5339047619047648, 5.171999999999997, 6.0102005716416045, 0.08602770083102484, 6.383575221238935, 4.0166557377049195, 8.611999999999997, 5.387999999999998, 5.396000000000003, 5.388, 17.676244482173175, 12.412468085106386, 11.103155452436194, 2.9075903829029386, 11.079257918552038, 7.674417308397505, 2.5365772126897888, 5.318741433021808, 6.67496766561514, 5.050133446663832, 1.6679999999999993, 19.9886511627907, 0.1559999999999988, 17.678978741679188, 17.691772865544515, 11.893525271912988, 12.974510529969915, 13.52075424782429, 12.613683131088703, 4.748198630136983, 5.381125475285172, 1.0550992736077482, 20.050850863422287, 19.437307891075328, 10.17561429758936, 5.853556561085972, 4.718195104647037, 10.617528111484859, 1.0760359991818351, 1.879999999999999, 10.551068783068786, 6.397501187648457, 3.882457742134486, 5.896000000000001, 6.506064587562282, 4.055946780202232, 4.425142857142857, 5.859176470588233, 3.3559746386000526, 2.9311240875912397, 2.3930831047280936, 6.620880292733927, 1.6502372881355925, 3.324521739130434, 3.4723478260869545, 10.171999999999999, 5.383686274509804, 7.446823529411768, 6.513, 8.151157894736842, 8.439948051948045, 6.1801984592550685, 2.420722432846656, 6.186550616626741, 1.3671561181434608, 3.155999999999999, 5.291999999999998, 1.0053333333333345, 7.66284536082474, 5.921999999999999, 2.0910769230769226, 1.1679999999999993, 13.52725, 9.310896599344034, 4.171999999999999, 2.8948368228647414, 5.727555555555554, 3.3028571428571425, 1.215796610169491, 3.1679999999999993, 1.5230295857988168, 16.464, 0.9668148148148141, 3.2951918332624395, 1.3590091743119288, 7.265999999999998, 1.0040689655172432, 10.10133333333333, 1.3245423728813535, 0.8960483980253642, 5.0616526946107765, 4.334617283950616, 3.5053333333333345, 7.9442772277227665, 5.099368421052629, 1.1960000000000015, 1.871724319002297, 5.171999999999999, 1.814580907244416, 1.768035510462905, 1.5930460405156541, 2.368735632183908, 1.5909189189189163, 0.7454897680763999, 3.658118577075099, 6.947162744116175, 3.1149655990510112, 1.3840000000000003, 1.0840251762336361, 0.3498303747534539, 3.5988813357185467, 4.37554716981132, 1.879999999999999, 1.6597999999999988, 1.9500710659898495, 0.6639999999999997, 0.5855234215885972, 0.7171765399351617, 3.4019155687012663, 2.958034914766893, 0.8994613180515767, 4.572556328233654, 4.732179416895086, 1.9411776155717764, 2.6141948869951825, 1.0651228479719883, 1.8643795620437977, 0.6637217291726305, 1.8098394577238661, 0.35000996828273934, 1.3582462462462512, 0.9884964086193158, 2.214072507552869, 8.431636363636361, 5.562666666666665, 1.4580740740740747, 5.662304347826089, 2.6493750837881844, 4.341967948717947, 2.4453333333333376, 0.8560085638434547, 6.9223157894736875, 4.08970147377244, 5.51364705882353, 3.836615384615383, 5.162752830709747, 4.144643761301991, 3.219724137931033, 6.838666666666667, 7.573938088829072, 9.943666666666667, 2.250279679781979, 0.7294829931972782, 6.29395918367347, 6.672024207213747, 3.6679999999999993, 3.028209599295467, 8.672311181799321, 8.671999999999999, 13.671999999999999, 2.6007169323567396, 12.672113817436829, 13.171999999999999, 13.171999999999999, 0.820363636363636, 1.4148839884947257, 0.09035541443118333, 0.25881941513415896, 1.7901675322945803, 11.612, 0.16649180327868862, 2.388, 3.1679999999999993, 1.1659019893255707, 1.8238726811169705, 3.137204653166741, 1.1999215686274525, 3.1507448474197144, 3.1601874999999993, 4.926793969849248, 2.424596763467081, 3.692271844660196, 4.1258794929675275, 5.375988007794936, 4.926793969849248, 5.612, 1.249312101910828, 4.432444533280034, 5.2659884945570425, 6.1260113250283155, 0.3806099902601936, 5.03201092001092, 3.0260327088908703, 1.079979188345476, 5.394232620577235, 6.334790697674412, 1.0823220579299129, 2.3870773638968483, 5.886014903129654, 1.7476363636363637, 2.285692536425808, 1.1430116279069775, 0.6400741156653567, 4.6971428571428575, 2.315284691947026, 0.8509432624113469, 0.08457370121799457, 0.4895262757044936, 2.396000000000001, 0.44988265718441944, 0.7764983164983175, 0.6192274678111573, 9.194315789473684, 5.167999999999999, 12.001333333333328, 1.3535172413793113, 8.863136902329387, 5.975571428571426, 1.4543255813953486, 4.4365791579348475, 4.507089513072215, 19.72933333333333, 4.622545454545454, 4.370025974025975, 2.4556218288008775, 3.789359223300968, 6.171999999999999, 1.3622573462310648, 6.672024207213747, 1.1679999999999993, 1.3960000000000008, 0.6547089947089955, 1.2110230522322745, 5.400049823991337, 4.748745306808633, 1.677598732840547, 4.038666666666666, 5.635945862335655, 3.6854736842105247, 4.661993746091303, 2.2961963190184047, 1.0619999999999994, 1.0575334510496361, 5.8219205087440375, 3.2787961165048536, 8.692053467993466, 1.2700774172294533, 5.822101126841952, 7.987307293089323, 5.032363636363636, 5.458500000000001, 0.4322581888246635, 0.6042930943595142, 0.5025346311186354, 1.053088153868572, 0.6696883328800638, 1.5388571428571431, 5.914344919341428, 8.925924095322152, 6.851651416122007, 1.6559999999999988, 2.303980682691252, 1.5763152928115431, 5.222058892815074, 11.850545454545454, 2.3927782414735947, 4.767999999999999, 11.228338028169015, 9.045893984088671, 11.228338028169015, 1.6151718012767162, 10.15375178102737, 0.4510241286863277, 2.6256076861489177, 3.2653958333333364, 2.005955723356788, 1.6627259310108098, 1.0651228479719883, 14.168, 0.5771214128035353, 0.8799460334592553, 2.5209962546816485, 3.8917851662404104, 0.7493740902474535, 4.2914163976759205, 1.1619852550869982, 1.545937194696437, 13.171999999999999, 3.5674285714285734, 2.053449814126399, 4.616, 4.740709256844852, 4.66, 9.581311621021465, 2.2349354254677127, 1.2370622406638994, 5.810262895174706, 4.372161218972725, 6.052084656084656, 1.7297535667963668, 0.29825976925939557, 1.0477551020408171, 2.6861366459627316, 1.8843907125700579, 2.204478527607364, 1.9091328041192863, 3.4086033871603014, 8.168, 5.167999999999999, 3.537312572623751, 1.1593136094674534, 2.7746995073891636, 5.171999999999997, 0.6003516858728108, 8.213839226930018, 2.168000000000001, 2.1679999999999993, 2.1679999999999993, 0.7059067081297208, 3.4682438674508678, 4.221040128410914, 23.12654545454545, 7.104750000000001, 9.496, 9.422273458445042, 2.0905917138163908, 1.8665790789003918, 8.99948432055749, 1.622545454545456, 5.32030278884462, 4.045501774002796, 1.8960000000000008, 5.167999999999999, 1.3231437274993052, 6.759655418151331, 2.9513333333333325, 7.238663231942928, 4.8666301369863, 4.8511869918699215, 3.867017709563166, 3.6568484848484832, 3.6679999999999993, 7.947724137931036, 8.171999999999999, 3.343156806433088, 1.424995394849054, 2.2169678800856527, 2.432961276695613, 0.5350000000000001, 6.035040935672514, 0.9058616483707969, 6.295621988882026, 2.043025089605738, 10.000045853000676, 7.168705135738627, 8.999470095937946, 3.396000000000001, 0.9596666666666653, 6.114791853641698, 6.118555366269163, 0.7421898734177201, 2.076761904761902, 8.326269252840586, 0.3960000000000008, 5.463930773081595, 0.8860943427899919, 16.772, 3.6792307692307684, 16.757340621797066, 0.16033618819230533, 10.691809523809528, 10.691809523809528, 6.171999999999999, 6.171999999999999, 1.0648866549384284, 0.004842809364548728, 0.31069613259668394, 16.772, 12.171999999999999, 12.171999999999999, 5.853556561085972, 2.0834929577464756, 6.084995215311006, 10.385948717948718, 8.735567567567571, 5.674489110143124, 2.845868271481109, 2.4895228426395946, 0.03966317748313486, 4.768273291925462, 1.0466666666666633, 1.5269999999999992, 6.1683173945566505, 6.590384710670678, 0.024057971014492807, 1.6680693577472603, 5.649842340109073, 0.16000000000000014, 4.396000000000003, 2.888, 2.302837576821773, 4.533151865475565, 9.558804597701148, 4.778741573033706, 5.836032054135874, 1.2000422535211257, 0.1639999999999997, 11.168000000000003, 0.684000000000001, 1.4489899823217431, 6.902270093839251, 12.171999999999999, 11.113725915875172, 4.672050185687045, 10.816275862068967, 13.15664322822279, 5.220543689320387, 1.0260377222920791, 0.746050461920662, 2.837999999999999, 2.8979610894941636, 10.160754716981131, 6.1679999999999975, 2.6807760517065446, 10.285473684210528, 3.174785714285715, 4.299225806451615, 2.4122577030812327, 5.541234493192135, 5.521239005736135, 2.8943069977426656, 3.3987502209999025, 14.171999999999999, 2.8629152542372864, 5.399090704768019, 2.882370883882148, 3.354762886597939, 5.185473684210525, 15.16843459365493, 14.180016032064126, 0.834202247191012, 3.257906167010919, 2.9111515151515164, 14.179038712921065, 4.895999999999999, 5.296000000000001, 13.896, 3.1679999999999993, 15.169491219267433, 17.168, 2.7266744017403948, 19.768, 4.468043563493795, 15.96742857142857, 5.17393471810089, 2.171999999999999, 8.863136902329387, 8.272, 8.987533766489468, 7.163773903856313, 2.175194244604315, 3.747135135135135, 4.399071165296286, 2.2853458771444384, 5.870285714285714, 11.887384615384613, 6.170984183825723, 1.6960000000000015, 4.911556681443953, 6.810857142857142, 2.9523137254901943, 0.6519999999999992, 6.632864864864866, 2.346, 5.469426573426574, 2.197316455696205, 5.563894179894181, 1.1509708388710802, 5.234919955735894, 3.9427317073170745, 3.668000000000001, 1.1973471894189878, 1.8881458523245183, 1.258909090909091, 11.888, 0.1873050193050183, 0.955234042553192, 1.6172798310454084, 2.6160000000000014, 3.797945397068686, 1.0053333333333345, 7.171999999999999, 4.917667580910585, 0.5659591836734705, 0.8960000000000008, 2.309964768955833, 3.2314920634920643, 6.7493333333333325, 48.784363636363636, 54.74799999999999, 53.481333333333325, 39.7950588235294, 0.8290996647363595, 1.5316626506024065, 58.100380952380945, 7.615512195121948, 12.394222222222217, 3.422833333333335, 6.367134849286087, 3.6758313073679005, 5.516109589041095, 10.760235294117647, 3.1679999999999993, 11.973555555555556, 1.1291910352187848, 2.3919770815555275, 12.171999999999999, 7.771861072520144, 2.395317871759893, 3.5237647058823516, 0.8315058631033523, 3.976592592592592, 4.670109704641346, 7.771999999999997, 4.205743589743591, 1.1719999999999988, 3.7277500000000003, 2.671999999999999, 4.542992703957552, 1.1980751879699234, 0.11513518936543754, 2.3840000000000003, 0.5146792912214249, 6.536440513047323, 5.89137595496582, 4.607517761033369, 1.1779406528189895, 11.66, 3.003497015066804, 2.459315951549989, 5.396000000000001, 6.170735229759298, 1.231084100365651, 1.0217441101848497, 4.151946444510562, 0.9897964071856276, 9.168, 5.024022727272726, 1.450000000000001, 9.752643356643361, 4.076307692307694, 4.430204913500276, 2.316225352112676, 9.174859756097561, 3.396000000000001, 17.67916332378224, 5.050843174125609, 2.2170854572713665, 1.632923076923074, 3.4719215686274527, 15.449296886864085, 13.171392558845858, 16.776, 22.386126582278486, 2.9311240875912397, 5.859176470588233, 3.23696551724138, 0.6170499163138725, 3.874180675569521, 4.217898989898988, 5.383686274509804, 3.324521739130434, 3.4723478260869545, 4.171999999999997, 3.5315377008652664, 2.065185185185184, 9.947236749116609, 1.0969008202833734, 6.495764927610724, 3.215616092558509, 7.672606060606062, 6.612, 6.343368421052633, 6.426814814814815, 4.615114482104765, 3.8754482758620696, 2.896717536813922, 5.178303030303031, 3.0931916971916973, 8.168, 1.2319807135969167, 8.168, 6.648, 8.471517075517077, 7.513305171158045, 6.171999999999999, 0.7512746997287874, 3.142216992559268, 6.639011494252875, 1.9674757536041927, 1.0459660710246563, 10.171999999999999, 4.167999999999999, 0.9793231039017947, 1.0056259129882523, 3.4642473574458936, 2.862, 5.612, 8.671999999999999, 6.215999999999999, 1.5735496264674484, 2.253565217391305, 1.0397288135593215, 2.2601975308641986, 3.8869120438313285, 6.2204897959183665, 0.8809845457972134, 22.83466666666667, 11.911130434782608, 0.793998134676368, 0.1629556650246311, 6.493647058823528, 8.176951841359775, 3.736425531914895, 1.150963719979563, 11.973555555555556, 1.0038585276395064, 2.315354037267083, 1.6995040431266837, 0.374578734858682, 2.3880000000000017, 0.937212868811466, 7.772152276534188, 4.244923076923074, 9.101263157894737, 8.668, 0.160348440258975, 2.1245253283302077, 13.871, 2.4444550379198287, 0.7124609490126712, 1.4598344685773057, 1.857655172413791, 0.20353925977170206, 2.00005091487669, 3.5674285714285734, 1.2091658615136875, 0.9814127601963101, 4.216704980842913, 2.9960000000000004, 4.589943220531454, 3.3219588477366244, 4.639974632166412, 4.740052328623758, 4.5299422358137935, 2.797979282100698, 4.740052328623758, 4.5299422358137935, 1.8313498158863748, 0.2619849261380782, 4.640000000000001, 1.596, 0.9625799556887795, 7.880371006526968, 6.062666666666665, 0.7294829931972782, 4.16, 1.1600000000000001, 10.228910569105691, 4.0990344827586185, 1.1798846074593037, 4.432444533280034, 6.260753623188405, 2.0118710093518217, 6.396000000000001, 2.687697211155381, 0.36642312746386274, 6.240085671449993, 0.6696883328800638, 3.164917719741645, 5.349984025559106, 6.24, 6.1679999999999975, 5.396000000000001, 3.396000000000001, 5.8817649186256755, 5.0191615720524005, 4.352684684684686, 4.160080632156106, 1.3082211981566836, 4.6971428571428575, 25.886285714285712, 1.9061176470588261, 0.7758630283574082, 1.2370622406638994, 4.748745306808633, 2.303980682691252, 1.421818551313688, 0.9596937799043079, 0.021999999999998465, 2.189650793650795, 8.578856313497822, 4.138588235294115, 2.840802370476787, 0.7739407152419204, 3.255378640776698, 2.3808244803695153, 5.032007887472069, 5.000651162790694, 7.1341889763779545, 6.759655418151331, 7.771999999999997, 5.000651162790694, 4.221040128410914, 4.507089513072215, 4.107834721759412, 13.171999999999999, 5.110777390090716, 10.570985074626861, 0.6289631647518643, 0.8454138635941266, 1.8126666666666669, 1.5611527741256896, 11.612, 5.566343803540832, 1.3960000000000008, 4.432444533280034, 0.6792052649495073, 7.596571428571426, 4.639974996874608, 7.6018477157360405, 5.6336440952737235, 1.0038431372549024, 1.4523136976579138, 2.396000000000001, 1.3033944223107543, 12.736627450980397, 12.736627450980397, 7.167999999999999, 8.168000000000003, 8.168, 7.167999999999999, 1.4085890200102646, 0.6169613978782209, 2.279111111111108, 3.1679999999999993, 1.3342222222222215, 2.1820561272217027, 2.2373794778384966, 4.34, 4.760233009708733, 2.945893129770992, 3.475571428571426, 4.673194305502113, 5.453714285714284, 6.0639646910466585, 6.019005765534914, 5.533419551160135, 0.3879999999999999, 3.01615503875969, 9.168904568068744, 2.388, 17.678978741679188, 15.174515343595926, 4.314840579710145, 17.17025225225225, 15.165453851050284, 15.173934718100892, 1.1509719448407054, 2.396844594594592, 3.603372549019607, 0.23837762237762306, 17.472, 1.1744391500321942, 4.963666666666663, 12.175008562832678, 3.530453781512607, 5.66964864864865, 9.260338482202823, 1.277973533918372, 5.294545454545455, 9.116, 1.9909470252648749, 1.8933114754098348, 2.333500000000001, 0.16006726759047396, 1.6519999999999992, 1.4399999999999995, 1.195333333333334, 3.9905004733354357, 3.1599742351046682, 7.009404825737267, 2.692, 1.2840000000000007, 1.072357823348943, 0.4579531111392736, 5.503145823035094, 1.1479999999999997, 5.441835920177384, 1.4596923076923058, 8.341913043478261, 2.149333333333333, 3.66, 8.062666666666669, 2.2680705119165143, 8.341913043478261, 0.05587500000000034, 4.173777777777779, 1.2452046332046383, 10.711030303030306, 5.535816091954025, 13.462016302575806, 1.5904390243902444, 0.2921933605125222, 3.112000000000002, 0.13433089416383837, 4.839999999999998, 0.6379625468164782, 0.04094117647058759, 0.07309803921568658, 5.671536327730319, 0.1181960784313727, 1.3625762711864393, 2.721263157894734, 2.1679999999999993, 0.11488292805214328, 5.342542096352162, 0.0557586206896552, 0.08917647058823519, 0.19905263157894737, 14.896065600323949, 4.670107766348966, 8.341913043478261, 5.205523809523813, 4.717333333333336, 3.3972499999999997, 4.1136152623211455, 1.7235862068965542, 1.7599999999999998, 4.191809523809525, 4.12878431372549, 5.1974117647058815, 10.630622320176322, 0.15669571090847612, 4.7391875, 1.4153498233215558, 3.1679999999999993, 4.887999999999998, 5.199619047619047, 6.66, 11.564470588235293, 0.2046315789473674, 4.43484745762712, 0.9100000000000001, 2.769050445103858, 0.7700101626016238, 0.9527668231611912, 1.203966902258232, 0.7919833194328607, 4.055951202509588, 4.690050454086784, 4.119030303030305, 1.0773997734994332, 1.6083591022443855, 0.34609734513274226, 1.6119999999999983, 0.8171612903225789, 2.3340376522702115, 1.1928383233532927, 2.6639999999999997, 4.717333333333336, 2.1743020744042507, 4.707555555555555, 3.171311258278143, 10.590852701127083, 9.84, 4.605499999999999, 4.149818181818182, 5.677638376383765, 3.87839271189198, 4.4556433978132866, 5.243542364767833, 3.7980206185567003, 3.1992849496895737, 2.3527142154451575, 2.34310455104551, 8.16636518448439, 9.375329208448905, 7.066859331120755, 8.605366873208174, 4.013837277870747, 9.171999999999999, 4.6974117647058815, 3.393105643994213, 0.5159793233082723, 2.626333333333335, 5.937144050104386, 3.1160279720279718, 6.011384615384616, 1.8856385177716177, 4.728, 3.8224456233421744, 7.4725527618293395, 1.0699104477611936, 4.109176470588233, 4.614808510638301, 1.8840000000000003, 8.033914853358562, 5.185543859649123, 11.368344776204934, 5.1872307692307675, 10.590852701127083, 7.685592760180995, 6.799440180586908, 4.0990344827586185, 1.3240218416480545, 4.0176292045273385, 11.368344776204934, 6.247714819215757, 0.6380303214069141, 4.0176292045273385, 9.252768263021052, 11.396, 5.649521126760565, 1.9192734344613012, 2.495931907939534, 0.5619393939393937, 4.171999999999997, 3.4886666666666635, 3.626962962962965, 1.8880767306088408, 4.980154696132594, 0.2712240585207262, 4.642576271186439, 2.1679999999999993, 2.9220320636142123, 1.2444848484848485, 0.5177463604982737, 5.390169096209915, 2.062666666666667, 0.2919580908032593, 0.29210768803774556, 4.148392156862744, 4.667999999999999, 0.9520086355785828, 1.7458811369509046, 3.3598813111698007, 0.2094545454545429, 1.532, 7.470722689075631, 3.033389307969829, 6.038282462183616, 4.741770491803278, 1.1479999999999997, 1.2099837469800114, 0.16000000000000014, 4.91451851851852, 0.01593379707363951, 4.5299616591146705, 1.6809637046307877, 2.223940298507463, 3.66, 3.0265120202446223, 1.6367272727272741, 4.630697674418604, 1.9773431734317342, 2.3632380952380956, 2.098074634937806, 4.738386481512466, 5.047000596302922, 2.325952953476218, 9.447872178246849, 2.135627678257812, 12.295893805309733, 0.22933333333333472, 3.6866919431279612, 1.8161904761904761, 11.38523076923077, 6.508909090909091, 2.9184051863857388, 10.691774647887325, 7.672599211563732, 4.414425567703953, 2.9001554353172647, 3.483068493150684, 3.152926859250151, 3.6015026557218732, 3.152926859250151, 1.073139614074913, 2.8959319450115704, 4.349818181818181, 8.168, 8.168, 11.28311111111111, 2.845078955712925, 2.1132054794520556, 7.485333333333328], \"xaxis\": \"x\", \"yaxis\": \"y\"}],\n",
       "                        {\"barmode\": \"relative\", \"height\": 600, \"legend\": {\"tracegroupgap\": 0}, \"template\": {\"data\": {\"bar\": [{\"error_x\": {\"color\": \"#2a3f5f\"}, \"error_y\": {\"color\": \"#2a3f5f\"}, \"marker\": {\"line\": {\"color\": \"#E5ECF6\", \"width\": 0.5}}, \"type\": \"bar\"}], \"barpolar\": [{\"marker\": {\"line\": {\"color\": \"#E5ECF6\", \"width\": 0.5}}, \"type\": \"barpolar\"}], \"carpet\": [{\"aaxis\": {\"endlinecolor\": \"#2a3f5f\", \"gridcolor\": \"white\", \"linecolor\": \"white\", \"minorgridcolor\": \"white\", \"startlinecolor\": \"#2a3f5f\"}, \"baxis\": {\"endlinecolor\": \"#2a3f5f\", \"gridcolor\": \"white\", \"linecolor\": \"white\", \"minorgridcolor\": \"white\", \"startlinecolor\": \"#2a3f5f\"}, \"type\": \"carpet\"}], \"choropleth\": [{\"colorbar\": {\"outlinewidth\": 0, \"ticks\": \"\"}, \"type\": \"choropleth\"}], \"contour\": [{\"colorbar\": {\"outlinewidth\": 0, \"ticks\": \"\"}, \"colorscale\": [[0.0, \"#0d0887\"], [0.1111111111111111, \"#46039f\"], [0.2222222222222222, \"#7201a8\"], [0.3333333333333333, \"#9c179e\"], [0.4444444444444444, \"#bd3786\"], [0.5555555555555556, \"#d8576b\"], [0.6666666666666666, \"#ed7953\"], [0.7777777777777778, \"#fb9f3a\"], [0.8888888888888888, \"#fdca26\"], [1.0, \"#f0f921\"]], \"type\": \"contour\"}], \"contourcarpet\": [{\"colorbar\": {\"outlinewidth\": 0, \"ticks\": \"\"}, \"type\": \"contourcarpet\"}], \"heatmap\": [{\"colorbar\": {\"outlinewidth\": 0, \"ticks\": \"\"}, \"colorscale\": [[0.0, \"#0d0887\"], [0.1111111111111111, \"#46039f\"], [0.2222222222222222, \"#7201a8\"], [0.3333333333333333, \"#9c179e\"], [0.4444444444444444, \"#bd3786\"], [0.5555555555555556, \"#d8576b\"], [0.6666666666666666, \"#ed7953\"], [0.7777777777777778, \"#fb9f3a\"], [0.8888888888888888, \"#fdca26\"], [1.0, \"#f0f921\"]], \"type\": \"heatmap\"}], \"heatmapgl\": [{\"colorbar\": {\"outlinewidth\": 0, \"ticks\": \"\"}, \"colorscale\": [[0.0, \"#0d0887\"], [0.1111111111111111, \"#46039f\"], [0.2222222222222222, \"#7201a8\"], [0.3333333333333333, \"#9c179e\"], [0.4444444444444444, \"#bd3786\"], [0.5555555555555556, \"#d8576b\"], [0.6666666666666666, \"#ed7953\"], [0.7777777777777778, \"#fb9f3a\"], [0.8888888888888888, \"#fdca26\"], [1.0, \"#f0f921\"]], \"type\": \"heatmapgl\"}], \"histogram\": [{\"marker\": {\"colorbar\": {\"outlinewidth\": 0, \"ticks\": \"\"}}, \"type\": \"histogram\"}], \"histogram2d\": [{\"colorbar\": {\"outlinewidth\": 0, \"ticks\": \"\"}, \"colorscale\": [[0.0, \"#0d0887\"], [0.1111111111111111, \"#46039f\"], [0.2222222222222222, \"#7201a8\"], [0.3333333333333333, \"#9c179e\"], [0.4444444444444444, \"#bd3786\"], [0.5555555555555556, \"#d8576b\"], [0.6666666666666666, \"#ed7953\"], [0.7777777777777778, \"#fb9f3a\"], [0.8888888888888888, \"#fdca26\"], [1.0, \"#f0f921\"]], \"type\": \"histogram2d\"}], \"histogram2dcontour\": [{\"colorbar\": {\"outlinewidth\": 0, \"ticks\": \"\"}, \"colorscale\": [[0.0, \"#0d0887\"], [0.1111111111111111, \"#46039f\"], [0.2222222222222222, \"#7201a8\"], [0.3333333333333333, \"#9c179e\"], [0.4444444444444444, \"#bd3786\"], [0.5555555555555556, \"#d8576b\"], [0.6666666666666666, \"#ed7953\"], [0.7777777777777778, \"#fb9f3a\"], [0.8888888888888888, \"#fdca26\"], [1.0, \"#f0f921\"]], \"type\": \"histogram2dcontour\"}], \"mesh3d\": [{\"colorbar\": {\"outlinewidth\": 0, \"ticks\": \"\"}, \"type\": \"mesh3d\"}], \"parcoords\": [{\"line\": {\"colorbar\": {\"outlinewidth\": 0, \"ticks\": \"\"}}, \"type\": \"parcoords\"}], \"pie\": [{\"automargin\": true, \"type\": \"pie\"}], \"scatter\": [{\"marker\": {\"colorbar\": {\"outlinewidth\": 0, \"ticks\": \"\"}}, \"type\": \"scatter\"}], \"scatter3d\": [{\"line\": {\"colorbar\": {\"outlinewidth\": 0, \"ticks\": \"\"}}, \"marker\": {\"colorbar\": {\"outlinewidth\": 0, \"ticks\": \"\"}}, \"type\": \"scatter3d\"}], \"scattercarpet\": [{\"marker\": {\"colorbar\": {\"outlinewidth\": 0, \"ticks\": \"\"}}, \"type\": \"scattercarpet\"}], \"scattergeo\": [{\"marker\": {\"colorbar\": {\"outlinewidth\": 0, \"ticks\": \"\"}}, \"type\": \"scattergeo\"}], \"scattergl\": [{\"marker\": {\"colorbar\": {\"outlinewidth\": 0, \"ticks\": \"\"}}, \"type\": \"scattergl\"}], \"scattermapbox\": [{\"marker\": {\"colorbar\": {\"outlinewidth\": 0, \"ticks\": \"\"}}, \"type\": \"scattermapbox\"}], \"scatterpolar\": [{\"marker\": {\"colorbar\": {\"outlinewidth\": 0, \"ticks\": \"\"}}, \"type\": \"scatterpolar\"}], \"scatterpolargl\": [{\"marker\": {\"colorbar\": {\"outlinewidth\": 0, \"ticks\": \"\"}}, \"type\": \"scatterpolargl\"}], \"scatterternary\": [{\"marker\": {\"colorbar\": {\"outlinewidth\": 0, \"ticks\": \"\"}}, \"type\": \"scatterternary\"}], \"surface\": [{\"colorbar\": {\"outlinewidth\": 0, \"ticks\": \"\"}, \"colorscale\": [[0.0, \"#0d0887\"], [0.1111111111111111, \"#46039f\"], [0.2222222222222222, \"#7201a8\"], [0.3333333333333333, \"#9c179e\"], [0.4444444444444444, \"#bd3786\"], [0.5555555555555556, \"#d8576b\"], [0.6666666666666666, \"#ed7953\"], [0.7777777777777778, \"#fb9f3a\"], [0.8888888888888888, \"#fdca26\"], [1.0, \"#f0f921\"]], \"type\": \"surface\"}], \"table\": [{\"cells\": {\"fill\": {\"color\": \"#EBF0F8\"}, \"line\": {\"color\": \"white\"}}, \"header\": {\"fill\": {\"color\": \"#C8D4E3\"}, \"line\": {\"color\": \"white\"}}, \"type\": \"table\"}]}, \"layout\": {\"annotationdefaults\": {\"arrowcolor\": \"#2a3f5f\", \"arrowhead\": 0, \"arrowwidth\": 1}, \"coloraxis\": {\"colorbar\": {\"outlinewidth\": 0, \"ticks\": \"\"}}, \"colorscale\": {\"diverging\": [[0, \"#8e0152\"], [0.1, \"#c51b7d\"], [0.2, \"#de77ae\"], [0.3, \"#f1b6da\"], [0.4, \"#fde0ef\"], [0.5, \"#f7f7f7\"], [0.6, \"#e6f5d0\"], [0.7, \"#b8e186\"], [0.8, \"#7fbc41\"], [0.9, \"#4d9221\"], [1, \"#276419\"]], \"sequential\": [[0.0, \"#0d0887\"], [0.1111111111111111, \"#46039f\"], [0.2222222222222222, \"#7201a8\"], [0.3333333333333333, \"#9c179e\"], [0.4444444444444444, \"#bd3786\"], [0.5555555555555556, \"#d8576b\"], [0.6666666666666666, \"#ed7953\"], [0.7777777777777778, \"#fb9f3a\"], [0.8888888888888888, \"#fdca26\"], [1.0, \"#f0f921\"]], \"sequentialminus\": [[0.0, \"#0d0887\"], [0.1111111111111111, \"#46039f\"], [0.2222222222222222, \"#7201a8\"], [0.3333333333333333, \"#9c179e\"], [0.4444444444444444, \"#bd3786\"], [0.5555555555555556, \"#d8576b\"], [0.6666666666666666, \"#ed7953\"], [0.7777777777777778, \"#fb9f3a\"], [0.8888888888888888, \"#fdca26\"], [1.0, \"#f0f921\"]]}, \"colorway\": [\"#636efa\", \"#EF553B\", \"#00cc96\", \"#ab63fa\", \"#FFA15A\", \"#19d3f3\", \"#FF6692\", \"#B6E880\", \"#FF97FF\", \"#FECB52\"], \"font\": {\"color\": \"#2a3f5f\"}, \"geo\": {\"bgcolor\": \"white\", \"lakecolor\": \"white\", \"landcolor\": \"#E5ECF6\", \"showlakes\": true, \"showland\": true, \"subunitcolor\": \"white\"}, \"hoverlabel\": {\"align\": \"left\"}, \"hovermode\": \"closest\", \"mapbox\": {\"style\": \"light\"}, \"paper_bgcolor\": \"white\", \"plot_bgcolor\": \"#E5ECF6\", \"polar\": {\"angularaxis\": {\"gridcolor\": \"white\", \"linecolor\": \"white\", \"ticks\": \"\"}, \"bgcolor\": \"#E5ECF6\", \"radialaxis\": {\"gridcolor\": \"white\", \"linecolor\": \"white\", \"ticks\": \"\"}}, \"scene\": {\"xaxis\": {\"backgroundcolor\": \"#E5ECF6\", \"gridcolor\": \"white\", \"gridwidth\": 2, \"linecolor\": \"white\", \"showbackground\": true, \"ticks\": \"\", \"zerolinecolor\": \"white\"}, \"yaxis\": {\"backgroundcolor\": \"#E5ECF6\", \"gridcolor\": \"white\", \"gridwidth\": 2, \"linecolor\": \"white\", \"showbackground\": true, \"ticks\": \"\", \"zerolinecolor\": \"white\"}, \"zaxis\": {\"backgroundcolor\": \"#E5ECF6\", \"gridcolor\": \"white\", \"gridwidth\": 2, \"linecolor\": \"white\", \"showbackground\": true, \"ticks\": \"\", \"zerolinecolor\": \"white\"}}, \"shapedefaults\": {\"line\": {\"color\": \"#2a3f5f\"}}, \"ternary\": {\"aaxis\": {\"gridcolor\": \"white\", \"linecolor\": \"white\", \"ticks\": \"\"}, \"baxis\": {\"gridcolor\": \"white\", \"linecolor\": \"white\", \"ticks\": \"\"}, \"bgcolor\": \"#E5ECF6\", \"caxis\": {\"gridcolor\": \"white\", \"linecolor\": \"white\", \"ticks\": \"\"}}, \"title\": {\"x\": 0.05}, \"xaxis\": {\"automargin\": true, \"gridcolor\": \"white\", \"linecolor\": \"white\", \"ticks\": \"\", \"title\": {\"standoff\": 15}, \"zerolinecolor\": \"white\", \"zerolinewidth\": 2}, \"yaxis\": {\"automargin\": true, \"gridcolor\": \"white\", \"linecolor\": \"white\", \"ticks\": \"\", \"title\": {\"standoff\": 15}, \"zerolinecolor\": \"white\", \"zerolinewidth\": 2}}}, \"title\": {\"text\": \"Excess rent per m\\u00b2 under new rental cap\"}, \"xaxis\": {\"anchor\": \"y\", \"domain\": [0.0, 1.0], \"title\": {\"text\": \"Excess rent per m\\u00b2 under new rental cap\"}}, \"yaxis\": {\"anchor\": \"x\", \"domain\": [0.0, 1.0], \"title\": {\"text\": \"count\"}}},\n",
       "                        {\"responsive\": true}\n",
       "                    ).then(function(){\n",
       "                            \n",
       "var gd = document.getElementById('e4d9f935-880e-4919-bc60-c06bb0c5ed90');\n",
       "var x = new MutationObserver(function (mutations, observer) {{\n",
       "        var display = window.getComputedStyle(gd).display;\n",
       "        if (!display || display === 'none') {{\n",
       "            console.log([gd, 'removed!']);\n",
       "            Plotly.purge(gd);\n",
       "            observer.disconnect();\n",
       "        }}\n",
       "}});\n",
       "\n",
       "// Listen for the removal of the full notebook cells\n",
       "var notebookContainer = gd.closest('#notebook-container');\n",
       "if (notebookContainer) {{\n",
       "    x.observe(notebookContainer, {childList: true});\n",
       "}}\n",
       "\n",
       "// Listen for the clearing of the current output cell\n",
       "var outputEl = gd.closest('.output');\n",
       "if (outputEl) {{\n",
       "    x.observe(outputEl, {childList: true});\n",
       "}}\n",
       "\n",
       "                        })\n",
       "                };\n",
       "                });\n",
       "            </script>\n",
       "        </div>"
      ]
     },
     "metadata": {},
     "output_type": "display_data"
    }
   ],
   "source": [
    "fig = px.histogram(excess_dist, \n",
    "                   x=\"Excess rent per m² under new rental cap\",\n",
    "                  title=\"Excess rent per m² under new rental cap\")\n",
    "fig.show()"
   ]
  },
  {
   "cell_type": "code",
   "execution_count": 86,
   "metadata": {},
   "outputs": [
    {
     "data": {
      "text/plain": [
       "'https://plot.ly/~felix.vemmer/49/'"
      ]
     },
     "execution_count": 86,
     "metadata": {},
     "output_type": "execute_result"
    }
   ],
   "source": [
    "py.plot(fig, filename = 'excess_dist', auto_open=True)"
   ]
  },
  {
   "cell_type": "code",
   "execution_count": null,
   "metadata": {},
   "outputs": [],
   "source": [
    " len(illegal_pricing)/(len(legal_pricing) + len(illegal_pricing))"
   ]
  },
  {
   "cell_type": "code",
   "execution_count": 320,
   "metadata": {},
   "outputs": [
    {
     "data": {
      "application/vnd.plotly.v1+json": {
       "config": {
        "plotlyServerURL": "https://plot.ly"
       },
       "data": [
        {
         "connector": {
          "line": {
           "color": "rgb(63, 63, 63)"
          }
         },
         "measure": [
          "relative",
          "relative",
          "relative",
          "total",
          "relative",
          "total",
          "relative",
          "total"
         ],
         "name": "Rent price composition",
         "orientation": "v",
         "text": [
          "5.95 €",
          "0.74 €",
          "1 €",
          "7.69 €",
          "1.54 €",
          "9.23 €",
          "15.45 €",
          "24.68 €"
         ],
         "textposition": "outside",
         "type": "waterfall",
         "x": [
          "Table price",
          "Location factor",
          "Modern equipment",
          "Rent cap",
          "Maximum additional 20%",
          "Maximum rent cap",
          "Excess rent",
          "Cold rent"
         ],
         "y": [
          5.95,
          0.74,
          1,
          7.69,
          1.54,
          9.23,
          15.45,
          24.68
         ]
        }
       ],
       "layout": {
        "showlegend": true,
        "template": {
         "data": {
          "bar": [
           {
            "error_x": {
             "color": "#2a3f5f"
            },
            "error_y": {
             "color": "#2a3f5f"
            },
            "marker": {
             "line": {
              "color": "#E5ECF6",
              "width": 0.5
             }
            },
            "type": "bar"
           }
          ],
          "barpolar": [
           {
            "marker": {
             "line": {
              "color": "#E5ECF6",
              "width": 0.5
             }
            },
            "type": "barpolar"
           }
          ],
          "carpet": [
           {
            "aaxis": {
             "endlinecolor": "#2a3f5f",
             "gridcolor": "white",
             "linecolor": "white",
             "minorgridcolor": "white",
             "startlinecolor": "#2a3f5f"
            },
            "baxis": {
             "endlinecolor": "#2a3f5f",
             "gridcolor": "white",
             "linecolor": "white",
             "minorgridcolor": "white",
             "startlinecolor": "#2a3f5f"
            },
            "type": "carpet"
           }
          ],
          "choropleth": [
           {
            "colorbar": {
             "outlinewidth": 0,
             "ticks": ""
            },
            "type": "choropleth"
           }
          ],
          "contour": [
           {
            "colorbar": {
             "outlinewidth": 0,
             "ticks": ""
            },
            "colorscale": [
             [
              0,
              "#0d0887"
             ],
             [
              0.1111111111111111,
              "#46039f"
             ],
             [
              0.2222222222222222,
              "#7201a8"
             ],
             [
              0.3333333333333333,
              "#9c179e"
             ],
             [
              0.4444444444444444,
              "#bd3786"
             ],
             [
              0.5555555555555556,
              "#d8576b"
             ],
             [
              0.6666666666666666,
              "#ed7953"
             ],
             [
              0.7777777777777778,
              "#fb9f3a"
             ],
             [
              0.8888888888888888,
              "#fdca26"
             ],
             [
              1,
              "#f0f921"
             ]
            ],
            "type": "contour"
           }
          ],
          "contourcarpet": [
           {
            "colorbar": {
             "outlinewidth": 0,
             "ticks": ""
            },
            "type": "contourcarpet"
           }
          ],
          "heatmap": [
           {
            "colorbar": {
             "outlinewidth": 0,
             "ticks": ""
            },
            "colorscale": [
             [
              0,
              "#0d0887"
             ],
             [
              0.1111111111111111,
              "#46039f"
             ],
             [
              0.2222222222222222,
              "#7201a8"
             ],
             [
              0.3333333333333333,
              "#9c179e"
             ],
             [
              0.4444444444444444,
              "#bd3786"
             ],
             [
              0.5555555555555556,
              "#d8576b"
             ],
             [
              0.6666666666666666,
              "#ed7953"
             ],
             [
              0.7777777777777778,
              "#fb9f3a"
             ],
             [
              0.8888888888888888,
              "#fdca26"
             ],
             [
              1,
              "#f0f921"
             ]
            ],
            "type": "heatmap"
           }
          ],
          "heatmapgl": [
           {
            "colorbar": {
             "outlinewidth": 0,
             "ticks": ""
            },
            "colorscale": [
             [
              0,
              "#0d0887"
             ],
             [
              0.1111111111111111,
              "#46039f"
             ],
             [
              0.2222222222222222,
              "#7201a8"
             ],
             [
              0.3333333333333333,
              "#9c179e"
             ],
             [
              0.4444444444444444,
              "#bd3786"
             ],
             [
              0.5555555555555556,
              "#d8576b"
             ],
             [
              0.6666666666666666,
              "#ed7953"
             ],
             [
              0.7777777777777778,
              "#fb9f3a"
             ],
             [
              0.8888888888888888,
              "#fdca26"
             ],
             [
              1,
              "#f0f921"
             ]
            ],
            "type": "heatmapgl"
           }
          ],
          "histogram": [
           {
            "marker": {
             "colorbar": {
              "outlinewidth": 0,
              "ticks": ""
             }
            },
            "type": "histogram"
           }
          ],
          "histogram2d": [
           {
            "colorbar": {
             "outlinewidth": 0,
             "ticks": ""
            },
            "colorscale": [
             [
              0,
              "#0d0887"
             ],
             [
              0.1111111111111111,
              "#46039f"
             ],
             [
              0.2222222222222222,
              "#7201a8"
             ],
             [
              0.3333333333333333,
              "#9c179e"
             ],
             [
              0.4444444444444444,
              "#bd3786"
             ],
             [
              0.5555555555555556,
              "#d8576b"
             ],
             [
              0.6666666666666666,
              "#ed7953"
             ],
             [
              0.7777777777777778,
              "#fb9f3a"
             ],
             [
              0.8888888888888888,
              "#fdca26"
             ],
             [
              1,
              "#f0f921"
             ]
            ],
            "type": "histogram2d"
           }
          ],
          "histogram2dcontour": [
           {
            "colorbar": {
             "outlinewidth": 0,
             "ticks": ""
            },
            "colorscale": [
             [
              0,
              "#0d0887"
             ],
             [
              0.1111111111111111,
              "#46039f"
             ],
             [
              0.2222222222222222,
              "#7201a8"
             ],
             [
              0.3333333333333333,
              "#9c179e"
             ],
             [
              0.4444444444444444,
              "#bd3786"
             ],
             [
              0.5555555555555556,
              "#d8576b"
             ],
             [
              0.6666666666666666,
              "#ed7953"
             ],
             [
              0.7777777777777778,
              "#fb9f3a"
             ],
             [
              0.8888888888888888,
              "#fdca26"
             ],
             [
              1,
              "#f0f921"
             ]
            ],
            "type": "histogram2dcontour"
           }
          ],
          "mesh3d": [
           {
            "colorbar": {
             "outlinewidth": 0,
             "ticks": ""
            },
            "type": "mesh3d"
           }
          ],
          "parcoords": [
           {
            "line": {
             "colorbar": {
              "outlinewidth": 0,
              "ticks": ""
             }
            },
            "type": "parcoords"
           }
          ],
          "pie": [
           {
            "automargin": true,
            "type": "pie"
           }
          ],
          "scatter": [
           {
            "marker": {
             "colorbar": {
              "outlinewidth": 0,
              "ticks": ""
             }
            },
            "type": "scatter"
           }
          ],
          "scatter3d": [
           {
            "line": {
             "colorbar": {
              "outlinewidth": 0,
              "ticks": ""
             }
            },
            "marker": {
             "colorbar": {
              "outlinewidth": 0,
              "ticks": ""
             }
            },
            "type": "scatter3d"
           }
          ],
          "scattercarpet": [
           {
            "marker": {
             "colorbar": {
              "outlinewidth": 0,
              "ticks": ""
             }
            },
            "type": "scattercarpet"
           }
          ],
          "scattergeo": [
           {
            "marker": {
             "colorbar": {
              "outlinewidth": 0,
              "ticks": ""
             }
            },
            "type": "scattergeo"
           }
          ],
          "scattergl": [
           {
            "marker": {
             "colorbar": {
              "outlinewidth": 0,
              "ticks": ""
             }
            },
            "type": "scattergl"
           }
          ],
          "scattermapbox": [
           {
            "marker": {
             "colorbar": {
              "outlinewidth": 0,
              "ticks": ""
             }
            },
            "type": "scattermapbox"
           }
          ],
          "scatterpolar": [
           {
            "marker": {
             "colorbar": {
              "outlinewidth": 0,
              "ticks": ""
             }
            },
            "type": "scatterpolar"
           }
          ],
          "scatterpolargl": [
           {
            "marker": {
             "colorbar": {
              "outlinewidth": 0,
              "ticks": ""
             }
            },
            "type": "scatterpolargl"
           }
          ],
          "scatterternary": [
           {
            "marker": {
             "colorbar": {
              "outlinewidth": 0,
              "ticks": ""
             }
            },
            "type": "scatterternary"
           }
          ],
          "surface": [
           {
            "colorbar": {
             "outlinewidth": 0,
             "ticks": ""
            },
            "colorscale": [
             [
              0,
              "#0d0887"
             ],
             [
              0.1111111111111111,
              "#46039f"
             ],
             [
              0.2222222222222222,
              "#7201a8"
             ],
             [
              0.3333333333333333,
              "#9c179e"
             ],
             [
              0.4444444444444444,
              "#bd3786"
             ],
             [
              0.5555555555555556,
              "#d8576b"
             ],
             [
              0.6666666666666666,
              "#ed7953"
             ],
             [
              0.7777777777777778,
              "#fb9f3a"
             ],
             [
              0.8888888888888888,
              "#fdca26"
             ],
             [
              1,
              "#f0f921"
             ]
            ],
            "type": "surface"
           }
          ],
          "table": [
           {
            "cells": {
             "fill": {
              "color": "#EBF0F8"
             },
             "line": {
              "color": "white"
             }
            },
            "header": {
             "fill": {
              "color": "#C8D4E3"
             },
             "line": {
              "color": "white"
             }
            },
            "type": "table"
           }
          ]
         },
         "layout": {
          "annotationdefaults": {
           "arrowcolor": "#2a3f5f",
           "arrowhead": 0,
           "arrowwidth": 1
          },
          "coloraxis": {
           "colorbar": {
            "outlinewidth": 0,
            "ticks": ""
           }
          },
          "colorscale": {
           "diverging": [
            [
             0,
             "#8e0152"
            ],
            [
             0.1,
             "#c51b7d"
            ],
            [
             0.2,
             "#de77ae"
            ],
            [
             0.3,
             "#f1b6da"
            ],
            [
             0.4,
             "#fde0ef"
            ],
            [
             0.5,
             "#f7f7f7"
            ],
            [
             0.6,
             "#e6f5d0"
            ],
            [
             0.7,
             "#b8e186"
            ],
            [
             0.8,
             "#7fbc41"
            ],
            [
             0.9,
             "#4d9221"
            ],
            [
             1,
             "#276419"
            ]
           ],
           "sequential": [
            [
             0,
             "#0d0887"
            ],
            [
             0.1111111111111111,
             "#46039f"
            ],
            [
             0.2222222222222222,
             "#7201a8"
            ],
            [
             0.3333333333333333,
             "#9c179e"
            ],
            [
             0.4444444444444444,
             "#bd3786"
            ],
            [
             0.5555555555555556,
             "#d8576b"
            ],
            [
             0.6666666666666666,
             "#ed7953"
            ],
            [
             0.7777777777777778,
             "#fb9f3a"
            ],
            [
             0.8888888888888888,
             "#fdca26"
            ],
            [
             1,
             "#f0f921"
            ]
           ],
           "sequentialminus": [
            [
             0,
             "#0d0887"
            ],
            [
             0.1111111111111111,
             "#46039f"
            ],
            [
             0.2222222222222222,
             "#7201a8"
            ],
            [
             0.3333333333333333,
             "#9c179e"
            ],
            [
             0.4444444444444444,
             "#bd3786"
            ],
            [
             0.5555555555555556,
             "#d8576b"
            ],
            [
             0.6666666666666666,
             "#ed7953"
            ],
            [
             0.7777777777777778,
             "#fb9f3a"
            ],
            [
             0.8888888888888888,
             "#fdca26"
            ],
            [
             1,
             "#f0f921"
            ]
           ]
          },
          "colorway": [
           "#636efa",
           "#EF553B",
           "#00cc96",
           "#ab63fa",
           "#FFA15A",
           "#19d3f3",
           "#FF6692",
           "#B6E880",
           "#FF97FF",
           "#FECB52"
          ],
          "font": {
           "color": "#2a3f5f"
          },
          "geo": {
           "bgcolor": "white",
           "lakecolor": "white",
           "landcolor": "#E5ECF6",
           "showlakes": true,
           "showland": true,
           "subunitcolor": "white"
          },
          "hoverlabel": {
           "align": "left"
          },
          "hovermode": "closest",
          "mapbox": {
           "style": "light"
          },
          "paper_bgcolor": "white",
          "plot_bgcolor": "#E5ECF6",
          "polar": {
           "angularaxis": {
            "gridcolor": "white",
            "linecolor": "white",
            "ticks": ""
           },
           "bgcolor": "#E5ECF6",
           "radialaxis": {
            "gridcolor": "white",
            "linecolor": "white",
            "ticks": ""
           }
          },
          "scene": {
           "xaxis": {
            "backgroundcolor": "#E5ECF6",
            "gridcolor": "white",
            "gridwidth": 2,
            "linecolor": "white",
            "showbackground": true,
            "ticks": "",
            "zerolinecolor": "white"
           },
           "yaxis": {
            "backgroundcolor": "#E5ECF6",
            "gridcolor": "white",
            "gridwidth": 2,
            "linecolor": "white",
            "showbackground": true,
            "ticks": "",
            "zerolinecolor": "white"
           },
           "zaxis": {
            "backgroundcolor": "#E5ECF6",
            "gridcolor": "white",
            "gridwidth": 2,
            "linecolor": "white",
            "showbackground": true,
            "ticks": "",
            "zerolinecolor": "white"
           }
          },
          "shapedefaults": {
           "line": {
            "color": "#2a3f5f"
           }
          },
          "ternary": {
           "aaxis": {
            "gridcolor": "white",
            "linecolor": "white",
            "ticks": ""
           },
           "baxis": {
            "gridcolor": "white",
            "linecolor": "white",
            "ticks": ""
           },
           "bgcolor": "#E5ECF6",
           "caxis": {
            "gridcolor": "white",
            "linecolor": "white",
            "ticks": ""
           }
          },
          "title": {
           "x": 0.05
          },
          "xaxis": {
           "automargin": true,
           "gridcolor": "white",
           "linecolor": "white",
           "ticks": "",
           "title": {
            "standoff": 15
           },
           "zerolinecolor": "white",
           "zerolinewidth": 2
          },
          "yaxis": {
           "automargin": true,
           "gridcolor": "white",
           "linecolor": "white",
           "ticks": "",
           "title": {
            "standoff": 15
           },
           "zerolinecolor": "white",
           "zerolinewidth": 2
          }
         }
        },
        "title": {
         "text": "Rent price compsition and comparison with cold rent"
        }
       }
      },
      "text/html": [
       "<div>\n",
       "        \n",
       "        \n",
       "            <div id=\"26aa16eb-a57d-498c-964a-fbc23ea50f50\" class=\"plotly-graph-div\" style=\"height:525px; width:100%;\"></div>\n",
       "            <script type=\"text/javascript\">\n",
       "                require([\"plotly\"], function(Plotly) {\n",
       "                    window.PLOTLYENV=window.PLOTLYENV || {};\n",
       "                    \n",
       "                if (document.getElementById(\"26aa16eb-a57d-498c-964a-fbc23ea50f50\")) {\n",
       "                    Plotly.newPlot(\n",
       "                        '26aa16eb-a57d-498c-964a-fbc23ea50f50',\n",
       "                        [{\"connector\": {\"line\": {\"color\": \"rgb(63, 63, 63)\"}}, \"measure\": [\"relative\", \"relative\", \"relative\", \"total\", \"relative\", \"total\", \"relative\", \"total\"], \"name\": \"Rent price composition\", \"orientation\": \"v\", \"text\": [\"5.95 \\u20ac\", \"0.74 \\u20ac\", \"1 \\u20ac\", \"7.69 \\u20ac\", \"1.54 \\u20ac\", \"9.23 \\u20ac\", \"15.45 \\u20ac\", \"24.68 \\u20ac\"], \"textposition\": \"outside\", \"type\": \"waterfall\", \"x\": [\"Table price\", \"Location factor\", \"Modern equipment\", \"Rent cap\", \"Maximum additional 20%\", \"Maximum rent cap\", \"Excess rent\", \"Cold rent\"], \"y\": [5.95, 0.74, 1, 7.69, 1.54, 9.23, 15.45, 24.68]}],\n",
       "                        {\"showlegend\": true, \"template\": {\"data\": {\"bar\": [{\"error_x\": {\"color\": \"#2a3f5f\"}, \"error_y\": {\"color\": \"#2a3f5f\"}, \"marker\": {\"line\": {\"color\": \"#E5ECF6\", \"width\": 0.5}}, \"type\": \"bar\"}], \"barpolar\": [{\"marker\": {\"line\": {\"color\": \"#E5ECF6\", \"width\": 0.5}}, \"type\": \"barpolar\"}], \"carpet\": [{\"aaxis\": {\"endlinecolor\": \"#2a3f5f\", \"gridcolor\": \"white\", \"linecolor\": \"white\", \"minorgridcolor\": \"white\", \"startlinecolor\": \"#2a3f5f\"}, \"baxis\": {\"endlinecolor\": \"#2a3f5f\", \"gridcolor\": \"white\", \"linecolor\": \"white\", \"minorgridcolor\": \"white\", \"startlinecolor\": \"#2a3f5f\"}, \"type\": \"carpet\"}], \"choropleth\": [{\"colorbar\": {\"outlinewidth\": 0, \"ticks\": \"\"}, \"type\": \"choropleth\"}], \"contour\": [{\"colorbar\": {\"outlinewidth\": 0, \"ticks\": \"\"}, \"colorscale\": [[0.0, \"#0d0887\"], [0.1111111111111111, \"#46039f\"], [0.2222222222222222, \"#7201a8\"], [0.3333333333333333, \"#9c179e\"], [0.4444444444444444, \"#bd3786\"], [0.5555555555555556, \"#d8576b\"], [0.6666666666666666, \"#ed7953\"], [0.7777777777777778, \"#fb9f3a\"], [0.8888888888888888, \"#fdca26\"], [1.0, \"#f0f921\"]], \"type\": \"contour\"}], \"contourcarpet\": [{\"colorbar\": {\"outlinewidth\": 0, \"ticks\": \"\"}, \"type\": \"contourcarpet\"}], \"heatmap\": [{\"colorbar\": {\"outlinewidth\": 0, \"ticks\": \"\"}, \"colorscale\": [[0.0, \"#0d0887\"], [0.1111111111111111, \"#46039f\"], [0.2222222222222222, \"#7201a8\"], [0.3333333333333333, \"#9c179e\"], [0.4444444444444444, \"#bd3786\"], [0.5555555555555556, \"#d8576b\"], [0.6666666666666666, \"#ed7953\"], [0.7777777777777778, \"#fb9f3a\"], [0.8888888888888888, \"#fdca26\"], [1.0, \"#f0f921\"]], \"type\": \"heatmap\"}], \"heatmapgl\": [{\"colorbar\": {\"outlinewidth\": 0, \"ticks\": \"\"}, \"colorscale\": [[0.0, \"#0d0887\"], [0.1111111111111111, \"#46039f\"], [0.2222222222222222, \"#7201a8\"], [0.3333333333333333, \"#9c179e\"], [0.4444444444444444, \"#bd3786\"], [0.5555555555555556, \"#d8576b\"], [0.6666666666666666, \"#ed7953\"], [0.7777777777777778, \"#fb9f3a\"], [0.8888888888888888, \"#fdca26\"], [1.0, \"#f0f921\"]], \"type\": \"heatmapgl\"}], \"histogram\": [{\"marker\": {\"colorbar\": {\"outlinewidth\": 0, \"ticks\": \"\"}}, \"type\": \"histogram\"}], \"histogram2d\": [{\"colorbar\": {\"outlinewidth\": 0, \"ticks\": \"\"}, \"colorscale\": [[0.0, \"#0d0887\"], [0.1111111111111111, \"#46039f\"], [0.2222222222222222, \"#7201a8\"], [0.3333333333333333, \"#9c179e\"], [0.4444444444444444, \"#bd3786\"], [0.5555555555555556, \"#d8576b\"], [0.6666666666666666, \"#ed7953\"], [0.7777777777777778, \"#fb9f3a\"], [0.8888888888888888, \"#fdca26\"], [1.0, \"#f0f921\"]], \"type\": \"histogram2d\"}], \"histogram2dcontour\": [{\"colorbar\": {\"outlinewidth\": 0, \"ticks\": \"\"}, \"colorscale\": [[0.0, \"#0d0887\"], [0.1111111111111111, \"#46039f\"], [0.2222222222222222, \"#7201a8\"], [0.3333333333333333, \"#9c179e\"], [0.4444444444444444, \"#bd3786\"], [0.5555555555555556, \"#d8576b\"], [0.6666666666666666, \"#ed7953\"], [0.7777777777777778, \"#fb9f3a\"], [0.8888888888888888, \"#fdca26\"], [1.0, \"#f0f921\"]], \"type\": \"histogram2dcontour\"}], \"mesh3d\": [{\"colorbar\": {\"outlinewidth\": 0, \"ticks\": \"\"}, \"type\": \"mesh3d\"}], \"parcoords\": [{\"line\": {\"colorbar\": {\"outlinewidth\": 0, \"ticks\": \"\"}}, \"type\": \"parcoords\"}], \"pie\": [{\"automargin\": true, \"type\": \"pie\"}], \"scatter\": [{\"marker\": {\"colorbar\": {\"outlinewidth\": 0, \"ticks\": \"\"}}, \"type\": \"scatter\"}], \"scatter3d\": [{\"line\": {\"colorbar\": {\"outlinewidth\": 0, \"ticks\": \"\"}}, \"marker\": {\"colorbar\": {\"outlinewidth\": 0, \"ticks\": \"\"}}, \"type\": \"scatter3d\"}], \"scattercarpet\": [{\"marker\": {\"colorbar\": {\"outlinewidth\": 0, \"ticks\": \"\"}}, \"type\": \"scattercarpet\"}], \"scattergeo\": [{\"marker\": {\"colorbar\": {\"outlinewidth\": 0, \"ticks\": \"\"}}, \"type\": \"scattergeo\"}], \"scattergl\": [{\"marker\": {\"colorbar\": {\"outlinewidth\": 0, \"ticks\": \"\"}}, \"type\": \"scattergl\"}], \"scattermapbox\": [{\"marker\": {\"colorbar\": {\"outlinewidth\": 0, \"ticks\": \"\"}}, \"type\": \"scattermapbox\"}], \"scatterpolar\": [{\"marker\": {\"colorbar\": {\"outlinewidth\": 0, \"ticks\": \"\"}}, \"type\": \"scatterpolar\"}], \"scatterpolargl\": [{\"marker\": {\"colorbar\": {\"outlinewidth\": 0, \"ticks\": \"\"}}, \"type\": \"scatterpolargl\"}], \"scatterternary\": [{\"marker\": {\"colorbar\": {\"outlinewidth\": 0, \"ticks\": \"\"}}, \"type\": \"scatterternary\"}], \"surface\": [{\"colorbar\": {\"outlinewidth\": 0, \"ticks\": \"\"}, \"colorscale\": [[0.0, \"#0d0887\"], [0.1111111111111111, \"#46039f\"], [0.2222222222222222, \"#7201a8\"], [0.3333333333333333, \"#9c179e\"], [0.4444444444444444, \"#bd3786\"], [0.5555555555555556, \"#d8576b\"], [0.6666666666666666, \"#ed7953\"], [0.7777777777777778, \"#fb9f3a\"], [0.8888888888888888, \"#fdca26\"], [1.0, \"#f0f921\"]], \"type\": \"surface\"}], \"table\": [{\"cells\": {\"fill\": {\"color\": \"#EBF0F8\"}, \"line\": {\"color\": \"white\"}}, \"header\": {\"fill\": {\"color\": \"#C8D4E3\"}, \"line\": {\"color\": \"white\"}}, \"type\": \"table\"}]}, \"layout\": {\"annotationdefaults\": {\"arrowcolor\": \"#2a3f5f\", \"arrowhead\": 0, \"arrowwidth\": 1}, \"coloraxis\": {\"colorbar\": {\"outlinewidth\": 0, \"ticks\": \"\"}}, \"colorscale\": {\"diverging\": [[0, \"#8e0152\"], [0.1, \"#c51b7d\"], [0.2, \"#de77ae\"], [0.3, \"#f1b6da\"], [0.4, \"#fde0ef\"], [0.5, \"#f7f7f7\"], [0.6, \"#e6f5d0\"], [0.7, \"#b8e186\"], [0.8, \"#7fbc41\"], [0.9, \"#4d9221\"], [1, \"#276419\"]], \"sequential\": [[0.0, \"#0d0887\"], [0.1111111111111111, \"#46039f\"], [0.2222222222222222, \"#7201a8\"], [0.3333333333333333, \"#9c179e\"], [0.4444444444444444, \"#bd3786\"], [0.5555555555555556, \"#d8576b\"], [0.6666666666666666, \"#ed7953\"], [0.7777777777777778, \"#fb9f3a\"], [0.8888888888888888, \"#fdca26\"], [1.0, \"#f0f921\"]], \"sequentialminus\": [[0.0, \"#0d0887\"], [0.1111111111111111, \"#46039f\"], [0.2222222222222222, \"#7201a8\"], [0.3333333333333333, \"#9c179e\"], [0.4444444444444444, \"#bd3786\"], [0.5555555555555556, \"#d8576b\"], [0.6666666666666666, \"#ed7953\"], [0.7777777777777778, \"#fb9f3a\"], [0.8888888888888888, \"#fdca26\"], [1.0, \"#f0f921\"]]}, \"colorway\": [\"#636efa\", \"#EF553B\", \"#00cc96\", \"#ab63fa\", \"#FFA15A\", \"#19d3f3\", \"#FF6692\", \"#B6E880\", \"#FF97FF\", \"#FECB52\"], \"font\": {\"color\": \"#2a3f5f\"}, \"geo\": {\"bgcolor\": \"white\", \"lakecolor\": \"white\", \"landcolor\": \"#E5ECF6\", \"showlakes\": true, \"showland\": true, \"subunitcolor\": \"white\"}, \"hoverlabel\": {\"align\": \"left\"}, \"hovermode\": \"closest\", \"mapbox\": {\"style\": \"light\"}, \"paper_bgcolor\": \"white\", \"plot_bgcolor\": \"#E5ECF6\", \"polar\": {\"angularaxis\": {\"gridcolor\": \"white\", \"linecolor\": \"white\", \"ticks\": \"\"}, \"bgcolor\": \"#E5ECF6\", \"radialaxis\": {\"gridcolor\": \"white\", \"linecolor\": \"white\", \"ticks\": \"\"}}, \"scene\": {\"xaxis\": {\"backgroundcolor\": \"#E5ECF6\", \"gridcolor\": \"white\", \"gridwidth\": 2, \"linecolor\": \"white\", \"showbackground\": true, \"ticks\": \"\", \"zerolinecolor\": \"white\"}, \"yaxis\": {\"backgroundcolor\": \"#E5ECF6\", \"gridcolor\": \"white\", \"gridwidth\": 2, \"linecolor\": \"white\", \"showbackground\": true, \"ticks\": \"\", \"zerolinecolor\": \"white\"}, \"zaxis\": {\"backgroundcolor\": \"#E5ECF6\", \"gridcolor\": \"white\", \"gridwidth\": 2, \"linecolor\": \"white\", \"showbackground\": true, \"ticks\": \"\", \"zerolinecolor\": \"white\"}}, \"shapedefaults\": {\"line\": {\"color\": \"#2a3f5f\"}}, \"ternary\": {\"aaxis\": {\"gridcolor\": \"white\", \"linecolor\": \"white\", \"ticks\": \"\"}, \"baxis\": {\"gridcolor\": \"white\", \"linecolor\": \"white\", \"ticks\": \"\"}, \"bgcolor\": \"#E5ECF6\", \"caxis\": {\"gridcolor\": \"white\", \"linecolor\": \"white\", \"ticks\": \"\"}}, \"title\": {\"x\": 0.05}, \"xaxis\": {\"automargin\": true, \"gridcolor\": \"white\", \"linecolor\": \"white\", \"ticks\": \"\", \"title\": {\"standoff\": 15}, \"zerolinecolor\": \"white\", \"zerolinewidth\": 2}, \"yaxis\": {\"automargin\": true, \"gridcolor\": \"white\", \"linecolor\": \"white\", \"ticks\": \"\", \"title\": {\"standoff\": 15}, \"zerolinecolor\": \"white\", \"zerolinewidth\": 2}}}, \"title\": {\"text\": \"Rent price compsition and comparison with cold rent\"}},\n",
       "                        {\"responsive\": true}\n",
       "                    ).then(function(){\n",
       "                            \n",
       "var gd = document.getElementById('26aa16eb-a57d-498c-964a-fbc23ea50f50');\n",
       "var x = new MutationObserver(function (mutations, observer) {{\n",
       "        var display = window.getComputedStyle(gd).display;\n",
       "        if (!display || display === 'none') {{\n",
       "            console.log([gd, 'removed!']);\n",
       "            Plotly.purge(gd);\n",
       "            observer.disconnect();\n",
       "        }}\n",
       "}});\n",
       "\n",
       "// Listen for the removal of the full notebook cells\n",
       "var notebookContainer = gd.closest('#notebook-container');\n",
       "if (notebookContainer) {{\n",
       "    x.observe(notebookContainer, {childList: true});\n",
       "}}\n",
       "\n",
       "// Listen for the clearing of the current output cell\n",
       "var outputEl = gd.closest('.output');\n",
       "if (outputEl) {{\n",
       "    x.observe(outputEl, {childList: true});\n",
       "}}\n",
       "\n",
       "                        })\n",
       "                };\n",
       "                });\n",
       "            </script>\n",
       "        </div>"
      ]
     },
     "metadata": {},
     "output_type": "display_data"
    }
   ],
   "source": [
    "table_price = example.apply(find_base_price, axis=1).sum()\n",
    "location_factor = example.apply(find_location_factor,axis=1).sum()\n",
    "modern_equipment_factor = 1\n",
    "rent_cap = table_price + location_factor + modern_equipment\n",
    "cold_rent = example['Kaltmiete pro m²'].sum()\n",
    "additional_maximum = rent_cap * 0.20\n",
    "max_rent = additional_maximum + rent_cap\n",
    "excess_rent = cold_rent - max_rent\n",
    "\n",
    "x = [\"Table price\", \n",
    "         \"Location factor\",\n",
    "         \"Modern equipment\", \n",
    "         \"Rent cap\",\n",
    "         \"Maximum additional 20%\",\n",
    "         \"Maximum rent cap\",\n",
    "         \"Excess rent\",\n",
    "         \"Cold rent\"]\n",
    "\n",
    "y = [table_price, \n",
    "         location_factor, \n",
    "         modern_equipment_factor, \n",
    "         rent_cap, \n",
    "         additional_maximum,\n",
    "         max_rent,\n",
    "         excess_rent,\n",
    "         cold_rent]\n",
    "\n",
    "y = [round(e,2) for e in y]\n",
    "\n",
    "text = [str(round(e,2))+' €' for e in y]\n",
    "\n",
    "fig = go.Figure(go.Waterfall(\n",
    "    name = \"Rent price composition\", orientation = \"v\",\n",
    "    measure = [\"relative\",\"relative\",\"relative\",\"total\",\"relative\",\"total\",\"relative\",\"total\"],\n",
    "    x = x,\n",
    "    textposition = \"outside\",\n",
    "    y = y,\n",
    "    text = text,\n",
    "    connector = {\"line\":{\"color\":\"rgb(63, 63, 63)\"}},\n",
    "))\n",
    "\n",
    "fig.update_layout(\n",
    "        title = \"Rent price compsition and comparison with cold rent\",\n",
    "        showlegend = True\n",
    ")\n",
    "\n",
    "fig.show()"
   ]
  },
  {
   "cell_type": "code",
   "execution_count": 321,
   "metadata": {},
   "outputs": [
    {
     "data": {
      "text/plain": [
       "'https://plot.ly/~felix.vemmer/57/'"
      ]
     },
     "execution_count": 321,
     "metadata": {},
     "output_type": "execute_result"
    }
   ],
   "source": [
    "py.plot(fig, filename = 'rent_price_composition_example', auto_open=True)"
   ]
  },
  {
   "cell_type": "code",
   "execution_count": 322,
   "metadata": {},
   "outputs": [],
   "source": [
    "# Excess amount paid per month\n",
    "illegal_cold_rent = illegal_pricing['Kaltmiete pro m²'] * illegal_pricing['Wohnfläche ca.']\n",
    "illegal_rent_cap = illegal_pricing['Zulässige Mietobergrenze pro m²'] * illegal_pricing['Wohnfläche ca.']\n",
    "illegal_excess_rent = illegal_cold_rent.sum() - illegal_rent_cap.sum()"
   ]
  },
  {
   "cell_type": "code",
   "execution_count": 323,
   "metadata": {},
   "outputs": [
    {
     "data": {
      "application/vnd.plotly.v1+json": {
       "config": {
        "plotlyServerURL": "https://plot.ly"
       },
       "data": [
        {
         "connector": {
          "line": {
           "color": "rgb(63, 63, 63)"
          }
         },
         "measure": [
          "relative",
          "relative",
          "relative",
          "total",
          "relative",
          "total",
          "relative",
          "total"
         ],
         "name": "Rent price composition",
         "orientation": "v",
         "text": [
          "664K €",
          "13K €",
          "100K €",
          "776K €",
          "155K €",
          "931K €",
          "463K €",
          "1394K €"
         ],
         "textposition": "outside",
         "type": "waterfall",
         "x": [
          "Table price",
          "Location factor",
          "Modern equipment",
          "Rent cap",
          "Maximum additional 20%",
          "Maximum rent cap",
          "Excess rent",
          "Cold rent"
         ],
         "y": [
          663886.18,
          12608.18,
          99587.91,
          776082.27,
          155216.45,
          931298.72,
          463059.79,
          1394358.51
         ]
        }
       ],
       "layout": {
        "showlegend": true,
        "template": {
         "data": {
          "bar": [
           {
            "error_x": {
             "color": "#2a3f5f"
            },
            "error_y": {
             "color": "#2a3f5f"
            },
            "marker": {
             "line": {
              "color": "#E5ECF6",
              "width": 0.5
             }
            },
            "type": "bar"
           }
          ],
          "barpolar": [
           {
            "marker": {
             "line": {
              "color": "#E5ECF6",
              "width": 0.5
             }
            },
            "type": "barpolar"
           }
          ],
          "carpet": [
           {
            "aaxis": {
             "endlinecolor": "#2a3f5f",
             "gridcolor": "white",
             "linecolor": "white",
             "minorgridcolor": "white",
             "startlinecolor": "#2a3f5f"
            },
            "baxis": {
             "endlinecolor": "#2a3f5f",
             "gridcolor": "white",
             "linecolor": "white",
             "minorgridcolor": "white",
             "startlinecolor": "#2a3f5f"
            },
            "type": "carpet"
           }
          ],
          "choropleth": [
           {
            "colorbar": {
             "outlinewidth": 0,
             "ticks": ""
            },
            "type": "choropleth"
           }
          ],
          "contour": [
           {
            "colorbar": {
             "outlinewidth": 0,
             "ticks": ""
            },
            "colorscale": [
             [
              0,
              "#0d0887"
             ],
             [
              0.1111111111111111,
              "#46039f"
             ],
             [
              0.2222222222222222,
              "#7201a8"
             ],
             [
              0.3333333333333333,
              "#9c179e"
             ],
             [
              0.4444444444444444,
              "#bd3786"
             ],
             [
              0.5555555555555556,
              "#d8576b"
             ],
             [
              0.6666666666666666,
              "#ed7953"
             ],
             [
              0.7777777777777778,
              "#fb9f3a"
             ],
             [
              0.8888888888888888,
              "#fdca26"
             ],
             [
              1,
              "#f0f921"
             ]
            ],
            "type": "contour"
           }
          ],
          "contourcarpet": [
           {
            "colorbar": {
             "outlinewidth": 0,
             "ticks": ""
            },
            "type": "contourcarpet"
           }
          ],
          "heatmap": [
           {
            "colorbar": {
             "outlinewidth": 0,
             "ticks": ""
            },
            "colorscale": [
             [
              0,
              "#0d0887"
             ],
             [
              0.1111111111111111,
              "#46039f"
             ],
             [
              0.2222222222222222,
              "#7201a8"
             ],
             [
              0.3333333333333333,
              "#9c179e"
             ],
             [
              0.4444444444444444,
              "#bd3786"
             ],
             [
              0.5555555555555556,
              "#d8576b"
             ],
             [
              0.6666666666666666,
              "#ed7953"
             ],
             [
              0.7777777777777778,
              "#fb9f3a"
             ],
             [
              0.8888888888888888,
              "#fdca26"
             ],
             [
              1,
              "#f0f921"
             ]
            ],
            "type": "heatmap"
           }
          ],
          "heatmapgl": [
           {
            "colorbar": {
             "outlinewidth": 0,
             "ticks": ""
            },
            "colorscale": [
             [
              0,
              "#0d0887"
             ],
             [
              0.1111111111111111,
              "#46039f"
             ],
             [
              0.2222222222222222,
              "#7201a8"
             ],
             [
              0.3333333333333333,
              "#9c179e"
             ],
             [
              0.4444444444444444,
              "#bd3786"
             ],
             [
              0.5555555555555556,
              "#d8576b"
             ],
             [
              0.6666666666666666,
              "#ed7953"
             ],
             [
              0.7777777777777778,
              "#fb9f3a"
             ],
             [
              0.8888888888888888,
              "#fdca26"
             ],
             [
              1,
              "#f0f921"
             ]
            ],
            "type": "heatmapgl"
           }
          ],
          "histogram": [
           {
            "marker": {
             "colorbar": {
              "outlinewidth": 0,
              "ticks": ""
             }
            },
            "type": "histogram"
           }
          ],
          "histogram2d": [
           {
            "colorbar": {
             "outlinewidth": 0,
             "ticks": ""
            },
            "colorscale": [
             [
              0,
              "#0d0887"
             ],
             [
              0.1111111111111111,
              "#46039f"
             ],
             [
              0.2222222222222222,
              "#7201a8"
             ],
             [
              0.3333333333333333,
              "#9c179e"
             ],
             [
              0.4444444444444444,
              "#bd3786"
             ],
             [
              0.5555555555555556,
              "#d8576b"
             ],
             [
              0.6666666666666666,
              "#ed7953"
             ],
             [
              0.7777777777777778,
              "#fb9f3a"
             ],
             [
              0.8888888888888888,
              "#fdca26"
             ],
             [
              1,
              "#f0f921"
             ]
            ],
            "type": "histogram2d"
           }
          ],
          "histogram2dcontour": [
           {
            "colorbar": {
             "outlinewidth": 0,
             "ticks": ""
            },
            "colorscale": [
             [
              0,
              "#0d0887"
             ],
             [
              0.1111111111111111,
              "#46039f"
             ],
             [
              0.2222222222222222,
              "#7201a8"
             ],
             [
              0.3333333333333333,
              "#9c179e"
             ],
             [
              0.4444444444444444,
              "#bd3786"
             ],
             [
              0.5555555555555556,
              "#d8576b"
             ],
             [
              0.6666666666666666,
              "#ed7953"
             ],
             [
              0.7777777777777778,
              "#fb9f3a"
             ],
             [
              0.8888888888888888,
              "#fdca26"
             ],
             [
              1,
              "#f0f921"
             ]
            ],
            "type": "histogram2dcontour"
           }
          ],
          "mesh3d": [
           {
            "colorbar": {
             "outlinewidth": 0,
             "ticks": ""
            },
            "type": "mesh3d"
           }
          ],
          "parcoords": [
           {
            "line": {
             "colorbar": {
              "outlinewidth": 0,
              "ticks": ""
             }
            },
            "type": "parcoords"
           }
          ],
          "pie": [
           {
            "automargin": true,
            "type": "pie"
           }
          ],
          "scatter": [
           {
            "marker": {
             "colorbar": {
              "outlinewidth": 0,
              "ticks": ""
             }
            },
            "type": "scatter"
           }
          ],
          "scatter3d": [
           {
            "line": {
             "colorbar": {
              "outlinewidth": 0,
              "ticks": ""
             }
            },
            "marker": {
             "colorbar": {
              "outlinewidth": 0,
              "ticks": ""
             }
            },
            "type": "scatter3d"
           }
          ],
          "scattercarpet": [
           {
            "marker": {
             "colorbar": {
              "outlinewidth": 0,
              "ticks": ""
             }
            },
            "type": "scattercarpet"
           }
          ],
          "scattergeo": [
           {
            "marker": {
             "colorbar": {
              "outlinewidth": 0,
              "ticks": ""
             }
            },
            "type": "scattergeo"
           }
          ],
          "scattergl": [
           {
            "marker": {
             "colorbar": {
              "outlinewidth": 0,
              "ticks": ""
             }
            },
            "type": "scattergl"
           }
          ],
          "scattermapbox": [
           {
            "marker": {
             "colorbar": {
              "outlinewidth": 0,
              "ticks": ""
             }
            },
            "type": "scattermapbox"
           }
          ],
          "scatterpolar": [
           {
            "marker": {
             "colorbar": {
              "outlinewidth": 0,
              "ticks": ""
             }
            },
            "type": "scatterpolar"
           }
          ],
          "scatterpolargl": [
           {
            "marker": {
             "colorbar": {
              "outlinewidth": 0,
              "ticks": ""
             }
            },
            "type": "scatterpolargl"
           }
          ],
          "scatterternary": [
           {
            "marker": {
             "colorbar": {
              "outlinewidth": 0,
              "ticks": ""
             }
            },
            "type": "scatterternary"
           }
          ],
          "surface": [
           {
            "colorbar": {
             "outlinewidth": 0,
             "ticks": ""
            },
            "colorscale": [
             [
              0,
              "#0d0887"
             ],
             [
              0.1111111111111111,
              "#46039f"
             ],
             [
              0.2222222222222222,
              "#7201a8"
             ],
             [
              0.3333333333333333,
              "#9c179e"
             ],
             [
              0.4444444444444444,
              "#bd3786"
             ],
             [
              0.5555555555555556,
              "#d8576b"
             ],
             [
              0.6666666666666666,
              "#ed7953"
             ],
             [
              0.7777777777777778,
              "#fb9f3a"
             ],
             [
              0.8888888888888888,
              "#fdca26"
             ],
             [
              1,
              "#f0f921"
             ]
            ],
            "type": "surface"
           }
          ],
          "table": [
           {
            "cells": {
             "fill": {
              "color": "#EBF0F8"
             },
             "line": {
              "color": "white"
             }
            },
            "header": {
             "fill": {
              "color": "#C8D4E3"
             },
             "line": {
              "color": "white"
             }
            },
            "type": "table"
           }
          ]
         },
         "layout": {
          "annotationdefaults": {
           "arrowcolor": "#2a3f5f",
           "arrowhead": 0,
           "arrowwidth": 1
          },
          "coloraxis": {
           "colorbar": {
            "outlinewidth": 0,
            "ticks": ""
           }
          },
          "colorscale": {
           "diverging": [
            [
             0,
             "#8e0152"
            ],
            [
             0.1,
             "#c51b7d"
            ],
            [
             0.2,
             "#de77ae"
            ],
            [
             0.3,
             "#f1b6da"
            ],
            [
             0.4,
             "#fde0ef"
            ],
            [
             0.5,
             "#f7f7f7"
            ],
            [
             0.6,
             "#e6f5d0"
            ],
            [
             0.7,
             "#b8e186"
            ],
            [
             0.8,
             "#7fbc41"
            ],
            [
             0.9,
             "#4d9221"
            ],
            [
             1,
             "#276419"
            ]
           ],
           "sequential": [
            [
             0,
             "#0d0887"
            ],
            [
             0.1111111111111111,
             "#46039f"
            ],
            [
             0.2222222222222222,
             "#7201a8"
            ],
            [
             0.3333333333333333,
             "#9c179e"
            ],
            [
             0.4444444444444444,
             "#bd3786"
            ],
            [
             0.5555555555555556,
             "#d8576b"
            ],
            [
             0.6666666666666666,
             "#ed7953"
            ],
            [
             0.7777777777777778,
             "#fb9f3a"
            ],
            [
             0.8888888888888888,
             "#fdca26"
            ],
            [
             1,
             "#f0f921"
            ]
           ],
           "sequentialminus": [
            [
             0,
             "#0d0887"
            ],
            [
             0.1111111111111111,
             "#46039f"
            ],
            [
             0.2222222222222222,
             "#7201a8"
            ],
            [
             0.3333333333333333,
             "#9c179e"
            ],
            [
             0.4444444444444444,
             "#bd3786"
            ],
            [
             0.5555555555555556,
             "#d8576b"
            ],
            [
             0.6666666666666666,
             "#ed7953"
            ],
            [
             0.7777777777777778,
             "#fb9f3a"
            ],
            [
             0.8888888888888888,
             "#fdca26"
            ],
            [
             1,
             "#f0f921"
            ]
           ]
          },
          "colorway": [
           "#636efa",
           "#EF553B",
           "#00cc96",
           "#ab63fa",
           "#FFA15A",
           "#19d3f3",
           "#FF6692",
           "#B6E880",
           "#FF97FF",
           "#FECB52"
          ],
          "font": {
           "color": "#2a3f5f"
          },
          "geo": {
           "bgcolor": "white",
           "lakecolor": "white",
           "landcolor": "#E5ECF6",
           "showlakes": true,
           "showland": true,
           "subunitcolor": "white"
          },
          "hoverlabel": {
           "align": "left"
          },
          "hovermode": "closest",
          "mapbox": {
           "style": "light"
          },
          "paper_bgcolor": "white",
          "plot_bgcolor": "#E5ECF6",
          "polar": {
           "angularaxis": {
            "gridcolor": "white",
            "linecolor": "white",
            "ticks": ""
           },
           "bgcolor": "#E5ECF6",
           "radialaxis": {
            "gridcolor": "white",
            "linecolor": "white",
            "ticks": ""
           }
          },
          "scene": {
           "xaxis": {
            "backgroundcolor": "#E5ECF6",
            "gridcolor": "white",
            "gridwidth": 2,
            "linecolor": "white",
            "showbackground": true,
            "ticks": "",
            "zerolinecolor": "white"
           },
           "yaxis": {
            "backgroundcolor": "#E5ECF6",
            "gridcolor": "white",
            "gridwidth": 2,
            "linecolor": "white",
            "showbackground": true,
            "ticks": "",
            "zerolinecolor": "white"
           },
           "zaxis": {
            "backgroundcolor": "#E5ECF6",
            "gridcolor": "white",
            "gridwidth": 2,
            "linecolor": "white",
            "showbackground": true,
            "ticks": "",
            "zerolinecolor": "white"
           }
          },
          "shapedefaults": {
           "line": {
            "color": "#2a3f5f"
           }
          },
          "ternary": {
           "aaxis": {
            "gridcolor": "white",
            "linecolor": "white",
            "ticks": ""
           },
           "baxis": {
            "gridcolor": "white",
            "linecolor": "white",
            "ticks": ""
           },
           "bgcolor": "#E5ECF6",
           "caxis": {
            "gridcolor": "white",
            "linecolor": "white",
            "ticks": ""
           }
          },
          "title": {
           "x": 0.05
          },
          "xaxis": {
           "automargin": true,
           "gridcolor": "white",
           "linecolor": "white",
           "ticks": "",
           "title": {
            "standoff": 15
           },
           "zerolinecolor": "white",
           "zerolinewidth": 2
          },
          "yaxis": {
           "automargin": true,
           "gridcolor": "white",
           "linecolor": "white",
           "ticks": "",
           "title": {
            "standoff": 15
           },
           "zerolinecolor": "white",
           "zerolinewidth": 2
          }
         }
        },
        "title": {
         "text": "Rent price compsition and comparison with cold rent for all illegal listings"
        }
       }
      },
      "text/html": [
       "<div>\n",
       "        \n",
       "        \n",
       "            <div id=\"809cfcb0-6cc6-4b36-950c-7a1a24fe7a9e\" class=\"plotly-graph-div\" style=\"height:525px; width:100%;\"></div>\n",
       "            <script type=\"text/javascript\">\n",
       "                require([\"plotly\"], function(Plotly) {\n",
       "                    window.PLOTLYENV=window.PLOTLYENV || {};\n",
       "                    \n",
       "                if (document.getElementById(\"809cfcb0-6cc6-4b36-950c-7a1a24fe7a9e\")) {\n",
       "                    Plotly.newPlot(\n",
       "                        '809cfcb0-6cc6-4b36-950c-7a1a24fe7a9e',\n",
       "                        [{\"connector\": {\"line\": {\"color\": \"rgb(63, 63, 63)\"}}, \"measure\": [\"relative\", \"relative\", \"relative\", \"total\", \"relative\", \"total\", \"relative\", \"total\"], \"name\": \"Rent price composition\", \"orientation\": \"v\", \"text\": [\"664K \\u20ac\", \"13K \\u20ac\", \"100K \\u20ac\", \"776K \\u20ac\", \"155K \\u20ac\", \"931K \\u20ac\", \"463K \\u20ac\", \"1394K \\u20ac\"], \"textposition\": \"outside\", \"type\": \"waterfall\", \"x\": [\"Table price\", \"Location factor\", \"Modern equipment\", \"Rent cap\", \"Maximum additional 20%\", \"Maximum rent cap\", \"Excess rent\", \"Cold rent\"], \"y\": [663886.18, 12608.18, 99587.91, 776082.27, 155216.45, 931298.72, 463059.79, 1394358.51]}],\n",
       "                        {\"showlegend\": true, \"template\": {\"data\": {\"bar\": [{\"error_x\": {\"color\": \"#2a3f5f\"}, \"error_y\": {\"color\": \"#2a3f5f\"}, \"marker\": {\"line\": {\"color\": \"#E5ECF6\", \"width\": 0.5}}, \"type\": \"bar\"}], \"barpolar\": [{\"marker\": {\"line\": {\"color\": \"#E5ECF6\", \"width\": 0.5}}, \"type\": \"barpolar\"}], \"carpet\": [{\"aaxis\": {\"endlinecolor\": \"#2a3f5f\", \"gridcolor\": \"white\", \"linecolor\": \"white\", \"minorgridcolor\": \"white\", \"startlinecolor\": \"#2a3f5f\"}, \"baxis\": {\"endlinecolor\": \"#2a3f5f\", \"gridcolor\": \"white\", \"linecolor\": \"white\", \"minorgridcolor\": \"white\", \"startlinecolor\": \"#2a3f5f\"}, \"type\": \"carpet\"}], \"choropleth\": [{\"colorbar\": {\"outlinewidth\": 0, \"ticks\": \"\"}, \"type\": \"choropleth\"}], \"contour\": [{\"colorbar\": {\"outlinewidth\": 0, \"ticks\": \"\"}, \"colorscale\": [[0.0, \"#0d0887\"], [0.1111111111111111, \"#46039f\"], [0.2222222222222222, \"#7201a8\"], [0.3333333333333333, \"#9c179e\"], [0.4444444444444444, \"#bd3786\"], [0.5555555555555556, \"#d8576b\"], [0.6666666666666666, \"#ed7953\"], [0.7777777777777778, \"#fb9f3a\"], [0.8888888888888888, \"#fdca26\"], [1.0, \"#f0f921\"]], \"type\": \"contour\"}], \"contourcarpet\": [{\"colorbar\": {\"outlinewidth\": 0, \"ticks\": \"\"}, \"type\": \"contourcarpet\"}], \"heatmap\": [{\"colorbar\": {\"outlinewidth\": 0, \"ticks\": \"\"}, \"colorscale\": [[0.0, \"#0d0887\"], [0.1111111111111111, \"#46039f\"], [0.2222222222222222, \"#7201a8\"], [0.3333333333333333, \"#9c179e\"], [0.4444444444444444, \"#bd3786\"], [0.5555555555555556, \"#d8576b\"], [0.6666666666666666, \"#ed7953\"], [0.7777777777777778, \"#fb9f3a\"], [0.8888888888888888, \"#fdca26\"], [1.0, \"#f0f921\"]], \"type\": \"heatmap\"}], \"heatmapgl\": [{\"colorbar\": {\"outlinewidth\": 0, \"ticks\": \"\"}, \"colorscale\": [[0.0, \"#0d0887\"], [0.1111111111111111, \"#46039f\"], [0.2222222222222222, \"#7201a8\"], [0.3333333333333333, \"#9c179e\"], [0.4444444444444444, \"#bd3786\"], [0.5555555555555556, \"#d8576b\"], [0.6666666666666666, \"#ed7953\"], [0.7777777777777778, \"#fb9f3a\"], [0.8888888888888888, \"#fdca26\"], [1.0, \"#f0f921\"]], \"type\": \"heatmapgl\"}], \"histogram\": [{\"marker\": {\"colorbar\": {\"outlinewidth\": 0, \"ticks\": \"\"}}, \"type\": \"histogram\"}], \"histogram2d\": [{\"colorbar\": {\"outlinewidth\": 0, \"ticks\": \"\"}, \"colorscale\": [[0.0, \"#0d0887\"], [0.1111111111111111, \"#46039f\"], [0.2222222222222222, \"#7201a8\"], [0.3333333333333333, \"#9c179e\"], [0.4444444444444444, \"#bd3786\"], [0.5555555555555556, \"#d8576b\"], [0.6666666666666666, \"#ed7953\"], [0.7777777777777778, \"#fb9f3a\"], [0.8888888888888888, \"#fdca26\"], [1.0, \"#f0f921\"]], \"type\": \"histogram2d\"}], \"histogram2dcontour\": [{\"colorbar\": {\"outlinewidth\": 0, \"ticks\": \"\"}, \"colorscale\": [[0.0, \"#0d0887\"], [0.1111111111111111, \"#46039f\"], [0.2222222222222222, \"#7201a8\"], [0.3333333333333333, \"#9c179e\"], [0.4444444444444444, \"#bd3786\"], [0.5555555555555556, \"#d8576b\"], [0.6666666666666666, \"#ed7953\"], [0.7777777777777778, \"#fb9f3a\"], [0.8888888888888888, \"#fdca26\"], [1.0, \"#f0f921\"]], \"type\": \"histogram2dcontour\"}], \"mesh3d\": [{\"colorbar\": {\"outlinewidth\": 0, \"ticks\": \"\"}, \"type\": \"mesh3d\"}], \"parcoords\": [{\"line\": {\"colorbar\": {\"outlinewidth\": 0, \"ticks\": \"\"}}, \"type\": \"parcoords\"}], \"pie\": [{\"automargin\": true, \"type\": \"pie\"}], \"scatter\": [{\"marker\": {\"colorbar\": {\"outlinewidth\": 0, \"ticks\": \"\"}}, \"type\": \"scatter\"}], \"scatter3d\": [{\"line\": {\"colorbar\": {\"outlinewidth\": 0, \"ticks\": \"\"}}, \"marker\": {\"colorbar\": {\"outlinewidth\": 0, \"ticks\": \"\"}}, \"type\": \"scatter3d\"}], \"scattercarpet\": [{\"marker\": {\"colorbar\": {\"outlinewidth\": 0, \"ticks\": \"\"}}, \"type\": \"scattercarpet\"}], \"scattergeo\": [{\"marker\": {\"colorbar\": {\"outlinewidth\": 0, \"ticks\": \"\"}}, \"type\": \"scattergeo\"}], \"scattergl\": [{\"marker\": {\"colorbar\": {\"outlinewidth\": 0, \"ticks\": \"\"}}, \"type\": \"scattergl\"}], \"scattermapbox\": [{\"marker\": {\"colorbar\": {\"outlinewidth\": 0, \"ticks\": \"\"}}, \"type\": \"scattermapbox\"}], \"scatterpolar\": [{\"marker\": {\"colorbar\": {\"outlinewidth\": 0, \"ticks\": \"\"}}, \"type\": \"scatterpolar\"}], \"scatterpolargl\": [{\"marker\": {\"colorbar\": {\"outlinewidth\": 0, \"ticks\": \"\"}}, \"type\": \"scatterpolargl\"}], \"scatterternary\": [{\"marker\": {\"colorbar\": {\"outlinewidth\": 0, \"ticks\": \"\"}}, \"type\": \"scatterternary\"}], \"surface\": [{\"colorbar\": {\"outlinewidth\": 0, \"ticks\": \"\"}, \"colorscale\": [[0.0, \"#0d0887\"], [0.1111111111111111, \"#46039f\"], [0.2222222222222222, \"#7201a8\"], [0.3333333333333333, \"#9c179e\"], [0.4444444444444444, \"#bd3786\"], [0.5555555555555556, \"#d8576b\"], [0.6666666666666666, \"#ed7953\"], [0.7777777777777778, \"#fb9f3a\"], [0.8888888888888888, \"#fdca26\"], [1.0, \"#f0f921\"]], \"type\": \"surface\"}], \"table\": [{\"cells\": {\"fill\": {\"color\": \"#EBF0F8\"}, \"line\": {\"color\": \"white\"}}, \"header\": {\"fill\": {\"color\": \"#C8D4E3\"}, \"line\": {\"color\": \"white\"}}, \"type\": \"table\"}]}, \"layout\": {\"annotationdefaults\": {\"arrowcolor\": \"#2a3f5f\", \"arrowhead\": 0, \"arrowwidth\": 1}, \"coloraxis\": {\"colorbar\": {\"outlinewidth\": 0, \"ticks\": \"\"}}, \"colorscale\": {\"diverging\": [[0, \"#8e0152\"], [0.1, \"#c51b7d\"], [0.2, \"#de77ae\"], [0.3, \"#f1b6da\"], [0.4, \"#fde0ef\"], [0.5, \"#f7f7f7\"], [0.6, \"#e6f5d0\"], [0.7, \"#b8e186\"], [0.8, \"#7fbc41\"], [0.9, \"#4d9221\"], [1, \"#276419\"]], \"sequential\": [[0.0, \"#0d0887\"], [0.1111111111111111, \"#46039f\"], [0.2222222222222222, \"#7201a8\"], [0.3333333333333333, \"#9c179e\"], [0.4444444444444444, \"#bd3786\"], [0.5555555555555556, \"#d8576b\"], [0.6666666666666666, \"#ed7953\"], [0.7777777777777778, \"#fb9f3a\"], [0.8888888888888888, \"#fdca26\"], [1.0, \"#f0f921\"]], \"sequentialminus\": [[0.0, \"#0d0887\"], [0.1111111111111111, \"#46039f\"], [0.2222222222222222, \"#7201a8\"], [0.3333333333333333, \"#9c179e\"], [0.4444444444444444, \"#bd3786\"], [0.5555555555555556, \"#d8576b\"], [0.6666666666666666, \"#ed7953\"], [0.7777777777777778, \"#fb9f3a\"], [0.8888888888888888, \"#fdca26\"], [1.0, \"#f0f921\"]]}, \"colorway\": [\"#636efa\", \"#EF553B\", \"#00cc96\", \"#ab63fa\", \"#FFA15A\", \"#19d3f3\", \"#FF6692\", \"#B6E880\", \"#FF97FF\", \"#FECB52\"], \"font\": {\"color\": \"#2a3f5f\"}, \"geo\": {\"bgcolor\": \"white\", \"lakecolor\": \"white\", \"landcolor\": \"#E5ECF6\", \"showlakes\": true, \"showland\": true, \"subunitcolor\": \"white\"}, \"hoverlabel\": {\"align\": \"left\"}, \"hovermode\": \"closest\", \"mapbox\": {\"style\": \"light\"}, \"paper_bgcolor\": \"white\", \"plot_bgcolor\": \"#E5ECF6\", \"polar\": {\"angularaxis\": {\"gridcolor\": \"white\", \"linecolor\": \"white\", \"ticks\": \"\"}, \"bgcolor\": \"#E5ECF6\", \"radialaxis\": {\"gridcolor\": \"white\", \"linecolor\": \"white\", \"ticks\": \"\"}}, \"scene\": {\"xaxis\": {\"backgroundcolor\": \"#E5ECF6\", \"gridcolor\": \"white\", \"gridwidth\": 2, \"linecolor\": \"white\", \"showbackground\": true, \"ticks\": \"\", \"zerolinecolor\": \"white\"}, \"yaxis\": {\"backgroundcolor\": \"#E5ECF6\", \"gridcolor\": \"white\", \"gridwidth\": 2, \"linecolor\": \"white\", \"showbackground\": true, \"ticks\": \"\", \"zerolinecolor\": \"white\"}, \"zaxis\": {\"backgroundcolor\": \"#E5ECF6\", \"gridcolor\": \"white\", \"gridwidth\": 2, \"linecolor\": \"white\", \"showbackground\": true, \"ticks\": \"\", \"zerolinecolor\": \"white\"}}, \"shapedefaults\": {\"line\": {\"color\": \"#2a3f5f\"}}, \"ternary\": {\"aaxis\": {\"gridcolor\": \"white\", \"linecolor\": \"white\", \"ticks\": \"\"}, \"baxis\": {\"gridcolor\": \"white\", \"linecolor\": \"white\", \"ticks\": \"\"}, \"bgcolor\": \"#E5ECF6\", \"caxis\": {\"gridcolor\": \"white\", \"linecolor\": \"white\", \"ticks\": \"\"}}, \"title\": {\"x\": 0.05}, \"xaxis\": {\"automargin\": true, \"gridcolor\": \"white\", \"linecolor\": \"white\", \"ticks\": \"\", \"title\": {\"standoff\": 15}, \"zerolinecolor\": \"white\", \"zerolinewidth\": 2}, \"yaxis\": {\"automargin\": true, \"gridcolor\": \"white\", \"linecolor\": \"white\", \"ticks\": \"\", \"title\": {\"standoff\": 15}, \"zerolinecolor\": \"white\", \"zerolinewidth\": 2}}}, \"title\": {\"text\": \"Rent price compsition and comparison with cold rent for all illegal listings\"}},\n",
       "                        {\"responsive\": true}\n",
       "                    ).then(function(){\n",
       "                            \n",
       "var gd = document.getElementById('809cfcb0-6cc6-4b36-950c-7a1a24fe7a9e');\n",
       "var x = new MutationObserver(function (mutations, observer) {{\n",
       "        var display = window.getComputedStyle(gd).display;\n",
       "        if (!display || display === 'none') {{\n",
       "            console.log([gd, 'removed!']);\n",
       "            Plotly.purge(gd);\n",
       "            observer.disconnect();\n",
       "        }}\n",
       "}});\n",
       "\n",
       "// Listen for the removal of the full notebook cells\n",
       "var notebookContainer = gd.closest('#notebook-container');\n",
       "if (notebookContainer) {{\n",
       "    x.observe(notebookContainer, {childList: true});\n",
       "}}\n",
       "\n",
       "// Listen for the clearing of the current output cell\n",
       "var outputEl = gd.closest('.output');\n",
       "if (outputEl) {{\n",
       "    x.observe(outputEl, {childList: true});\n",
       "}}\n",
       "\n",
       "                        })\n",
       "                };\n",
       "                });\n",
       "            </script>\n",
       "        </div>"
      ]
     },
     "metadata": {},
     "output_type": "display_data"
    }
   ],
   "source": [
    "table_price = (illegal_pricing.apply(find_base_price, axis=1) * illegal_pricing['Wohnfläche ca.']).sum()\n",
    "location_factor = (illegal_pricing.apply(find_location_factor,axis=1) * illegal_pricing['Wohnfläche ca.']).sum()\n",
    "modern_equipment_factor = (1 * illegal_pricing['Wohnfläche ca.']).sum()\n",
    "rent_cap = table_price + location_factor + modern_equipment_factor\n",
    "cold_rent = (illegal_pricing['Kaltmiete pro m²'] * illegal_pricing['Wohnfläche ca.']).sum()\n",
    "additional_maximum = rent_cap * 0.20\n",
    "max_rent = additional_maximum + rent_cap\n",
    "excess_rent = cold_rent - max_rent\n",
    "\n",
    "x = [\"Table price\", \n",
    "         \"Location factor\",\n",
    "         \"Modern equipment\", \n",
    "         \"Rent cap\",\n",
    "         \"Maximum additional 20%\",\n",
    "         \"Maximum rent cap\",\n",
    "         \"Excess rent\",\n",
    "         \"Cold rent\"]\n",
    "\n",
    "y = [table_price, \n",
    "         location_factor, \n",
    "         modern_equipment_factor, \n",
    "         rent_cap, \n",
    "         additional_maximum,\n",
    "         max_rent,\n",
    "         excess_rent,\n",
    "         cold_rent]\n",
    "\n",
    "y = [round(e,2) for e in y]\n",
    "\n",
    "text = [str(round(e/1000)).replace('.0','K €') for e in y]\n",
    "\n",
    "fig = go.Figure(go.Waterfall(\n",
    "    name = \"Rent price composition\", orientation = \"v\",\n",
    "    measure = [\"relative\",\"relative\",\"relative\",\"total\",\"relative\",\"total\",\"relative\",\"total\"],\n",
    "    x = x,\n",
    "    textposition = \"outside\",\n",
    "    y = y,\n",
    "    text = text,\n",
    "    connector = {\"line\":{\"color\":\"rgb(63, 63, 63)\"}},\n",
    "))\n",
    "\n",
    "fig.update_layout(\n",
    "        title = \"Rent price compsition and comparison with cold rent for all illegal listings\",\n",
    "        showlegend = True\n",
    ")\n",
    "\n",
    "fig.show()"
   ]
  },
  {
   "cell_type": "code",
   "execution_count": 324,
   "metadata": {},
   "outputs": [
    {
     "data": {
      "text/plain": [
       "'https://plot.ly/~felix.vemmer/59/'"
      ]
     },
     "execution_count": 324,
     "metadata": {},
     "output_type": "execute_result"
    }
   ],
   "source": [
    "py.plot(fig, filename = 'rent_price_composition_dataset', auto_open=True)"
   ]
  }
 ],
 "metadata": {
  "kernelspec": {
   "display_name": "Python 3",
   "language": "python",
   "name": "python3"
  },
  "language_info": {
   "codemirror_mode": {
    "name": "ipython",
    "version": 3
   },
   "file_extension": ".py",
   "mimetype": "text/x-python",
   "name": "python",
   "nbconvert_exporter": "python",
   "pygments_lexer": "ipython3",
   "version": "3.7.3"
  }
 },
 "nbformat": 4,
 "nbformat_minor": 2
}
